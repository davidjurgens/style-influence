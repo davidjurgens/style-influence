{
 "cells": [
  {
   "cell_type": "code",
   "execution_count": 1,
   "metadata": {},
   "outputs": [],
   "source": [
    "import pandas as pd\n",
    "import numpy as np\n",
    "import json\n",
    "import gzip\n",
    "import math\n",
    "import random\n",
    "from datetime import datetime\n",
    "from collections import Counter\n",
    "#import matplotlib.pyplot as plt\n",
    "#import seaborn as sns\n",
    "import os\n",
    "import pickle as pkl"
   ]
  },
  {
   "cell_type": "code",
   "execution_count": 2,
   "metadata": {},
   "outputs": [],
   "source": [
    "os.chdir('/shared/3/projects/style-influence/')"
   ]
  },
  {
   "cell_type": "code",
   "execution_count": 3,
   "metadata": {},
   "outputs": [
    {
     "data": {
      "text/plain": [
       "9"
      ]
     },
     "execution_count": 3,
     "metadata": {},
     "output_type": "execute_result"
    }
   ],
   "source": [
    "per_post_users = pkl.load(open('data/dl-inferred-style-scores/all_scores.formality.pkl', 'rb'))\n",
    "len(per_post_users)\n",
    "#per_post_users.shape"
   ]
  },
  {
   "cell_type": "code",
   "execution_count": 4,
   "metadata": {},
   "outputs": [
    {
     "data": {
      "text/plain": [
       "dict_keys(['row_id', 'subreddit', 'author', 'root_id', 'column_id', 'parent_id', 'depth', 'created_utc', 'score'])"
      ]
     },
     "execution_count": 4,
     "metadata": {},
     "output_type": "execute_result"
    }
   ],
   "source": [
    "per_post_users.keys()"
   ]
  },
  {
   "cell_type": "code",
   "execution_count": 5,
   "metadata": {},
   "outputs": [
    {
     "data": {
      "text/plain": [
       "['fb3e7jm',\n",
       " 'fb3dzam',\n",
       " 'fb3dx1f',\n",
       " 'fb3di1r',\n",
       " 'fb3ddy2',\n",
       " 'fb3dbum',\n",
       " 'fb3d9cg',\n",
       " 'fb3d6hd',\n",
       " 'fb3d3ss']"
      ]
     },
     "execution_count": 5,
     "metadata": {},
     "output_type": "execute_result"
    }
   ],
   "source": [
    "per_post_users['column_id'][1:10]"
   ]
  },
  {
   "cell_type": "code",
   "execution_count": 6,
   "metadata": {},
   "outputs": [
    {
     "data": {
      "text/plain": [
       "['fb3dzam',\n",
       " 'fb3dx1f',\n",
       " 'fb3di1r',\n",
       " 'fb3ddy2',\n",
       " 'fb3dbum',\n",
       " 'fb3d9cg',\n",
       " 'fb3d6hd',\n",
       " 'fb3d3ss',\n",
       " 'fb3cyww']"
      ]
     },
     "execution_count": 6,
     "metadata": {},
     "output_type": "execute_result"
    }
   ],
   "source": [
    "per_post_users['parent_id'][1:10]"
   ]
  },
  {
   "cell_type": "code",
   "execution_count": 7,
   "metadata": {},
   "outputs": [
    {
     "data": {
      "text/plain": [
       "19157681"
      ]
     },
     "execution_count": 7,
     "metadata": {},
     "output_type": "execute_result"
    }
   ],
   "source": [
    "ids = set(per_post_users['column_id'])\n",
    "len(ids)"
   ]
  },
  {
   "cell_type": "code",
   "execution_count": 20,
   "metadata": {},
   "outputs": [
    {
     "data": {
      "text/plain": [
       "16893358"
      ]
     },
     "execution_count": 20,
     "metadata": {},
     "output_type": "execute_result"
    }
   ],
   "source": [
    "ids_parent = [x for x in per_post_users['parent_id'] if type(x)!=float and x!='']\n",
    "ids_parent = set(ids_parent)\n",
    "len(ids_parent)"
   ]
  },
  {
   "cell_type": "code",
   "execution_count": 21,
   "metadata": {},
   "outputs": [
    {
     "data": {
      "text/plain": [
       "41452"
      ]
     },
     "execution_count": 21,
     "metadata": {},
     "output_type": "execute_result"
    }
   ],
   "source": [
    "len(ids_parent - ids)"
   ]
  },
  {
   "cell_type": "code",
   "execution_count": null,
   "metadata": {},
   "outputs": [],
   "source": []
  },
  {
   "cell_type": "code",
   "execution_count": null,
   "metadata": {},
   "outputs": [],
   "source": []
  },
  {
   "cell_type": "code",
   "execution_count": 86,
   "metadata": {},
   "outputs": [
    {
     "data": {
      "text/plain": [
       "60248"
      ]
     },
     "execution_count": 86,
     "metadata": {},
     "output_type": "execute_result"
    }
   ],
   "source": [
    "basedir = '/shared/3/projects/style-influence/data/conversation-turns-tokenized-aba/'\n",
    "mon = 'RC_2019-06'\n",
    "\n",
    "df = pd.read_csv(basedir + mon + '.user_subreddit.csv')\n",
    "df_user = df.groupby('author')['comment_id'].sum().reset_index()\n",
    "ids=set(df_user.author[df_user.comment_id > 20])\n",
    "len(ids)"
   ]
  },
  {
   "cell_type": "code",
   "execution_count": 87,
   "metadata": {},
   "outputs": [
    {
     "data": {
      "text/plain": [
       "1607399"
      ]
     },
     "execution_count": 87,
     "metadata": {},
     "output_type": "execute_result"
    }
   ],
   "source": [
    "len(set(df_user.author))"
   ]
  },
  {
   "cell_type": "code",
   "execution_count": null,
   "metadata": {},
   "outputs": [],
   "source": [
    "per_post_users = []\n",
    "for file in os.listdir(basedir):\n",
    "    if file.startswith(mon) and file.endswith('.pkl'):\n",
    "        print(file)\n",
    "        df = pkl.load(open(basedir + file, 'rb'))\n",
    "        per_post_users.append(df[df.author.isin(ids)])\n",
    "    #break\n",
    "\n",
    "per_post_users = pd.concat(per_post_users)\n"
   ]
  },
  {
   "cell_type": "code",
   "execution_count": 14,
   "metadata": {},
   "outputs": [
    {
     "name": "stdout",
     "output_type": "stream",
     "text": [
      "(739591, 28)\n",
      "(739591, 28)\n"
     ]
    }
   ],
   "source": [
    "per_post_users['len_a'] = per_post_users['tokens_liwc_parent'].apply(lambda x: x['length'] \n",
    "                                                                     if type(x)!=float else 0)\n",
    "per_post_users['len_b'] = per_post_users['tokens_liwc'].apply(lambda x: x['length'])\n",
    "\n",
    "print(per_post_users.shape)\n",
    "per_post_users = per_post_users[(per_post_users['parent_id']!='') &\n",
    "                                (per_post_users['len_a']>0) & \n",
    "                                (per_post_users['len_b']>0)]\n",
    "print(per_post_users.shape)\n"
   ]
  },
  {
   "cell_type": "code",
   "execution_count": 40,
   "metadata": {},
   "outputs": [],
   "source": []
  },
  {
   "cell_type": "code",
   "execution_count": null,
   "metadata": {},
   "outputs": [],
   "source": []
  },
  {
   "cell_type": "code",
   "execution_count": null,
   "metadata": {},
   "outputs": [],
   "source": [
    "# mini's\n",
    "# lan city\n",
    "# zingerman's\n",
    "# buddy's / jolly pumpkin\n",
    "# middle eastern\n",
    "# dfs / lunch room\n",
    "# 24th cheesecakerie\n",
    "# cinnaholic\n"
   ]
  },
  {
   "cell_type": "code",
   "execution_count": 64,
   "metadata": {},
   "outputs": [
    {
     "data": {
      "text/html": [
       "<div>\n",
       "<style scoped>\n",
       "    .dataframe tbody tr th:only-of-type {\n",
       "        vertical-align: middle;\n",
       "    }\n",
       "\n",
       "    .dataframe tbody tr th {\n",
       "        vertical-align: top;\n",
       "    }\n",
       "\n",
       "    .dataframe thead th {\n",
       "        text-align: right;\n",
       "    }\n",
       "</style>\n",
       "<table border=\"1\" class=\"dataframe\">\n",
       "  <thead>\n",
       "    <tr style=\"text-align: right;\">\n",
       "      <th></th>\n",
       "      <th>level_0</th>\n",
       "      <th>index</th>\n",
       "      <th>body</th>\n",
       "      <th>author</th>\n",
       "      <th>comment_id</th>\n",
       "      <th>created_utc</th>\n",
       "      <th>controversiality</th>\n",
       "      <th>score</th>\n",
       "      <th>author_flair_css_class</th>\n",
       "      <th>author_flair_text</th>\n",
       "      <th>...</th>\n",
       "      <th>tokens_liwc_parent</th>\n",
       "      <th>len_a</th>\n",
       "      <th>len_b</th>\n",
       "      <th>tokens_liwc_replaced</th>\n",
       "      <th>tokens_dict</th>\n",
       "      <th>tokens_parent_dict</th>\n",
       "      <th>tokens_liwc_all_sum</th>\n",
       "      <th>tokens_liwc_all_count</th>\n",
       "      <th>tokens_all_sum</th>\n",
       "      <th>tokens_parent_all_sum</th>\n",
       "    </tr>\n",
       "  </thead>\n",
       "  <tbody>\n",
       "    <tr>\n",
       "      <th>0</th>\n",
       "      <td>3434187</td>\n",
       "      <td>676617</td>\n",
       "      <td>I feel sad. PVB was so entertaining to watch a...</td>\n",
       "      <td>Azenji</td>\n",
       "      <td>eynm4ib</td>\n",
       "      <td>1567252499</td>\n",
       "      <td>0</td>\n",
       "      <td>4</td>\n",
       "      <td></td>\n",
       "      <td></td>\n",
       "      <td>...</td>\n",
       "      <td>{'function (Function Words)': 6, 'adverb (Adve...</td>\n",
       "      <td>14</td>\n",
       "      <td>22</td>\n",
       "      <td>{'function (Function Words)': 1, 'pronoun (Pro...</td>\n",
       "      <td>{'i': 1, 'feel': 1, 'sad': 1, 'pvb': 1, 'was':...</td>\n",
       "      <td>{'how': 1, 'dbl': 1, 'has': 1, 'fallen': 1, 's...</td>\n",
       "      <td>{'function (Function Words)': 11, 'pronoun (Pr...</td>\n",
       "      <td>{'function (Function Words)': 1, 'pronoun (Pro...</td>\n",
       "      <td>{'i': 1, 'feel': 1, 'sad': 1, 'pvb': 1, 'was':...</td>\n",
       "      <td>{'how': 1, 'dbl': 1, 'has': 1, 'fallen': 1, 's...</td>\n",
       "    </tr>\n",
       "    <tr>\n",
       "      <th>1</th>\n",
       "      <td>2850434</td>\n",
       "      <td>317574</td>\n",
       "      <td>It's art, you know?</td>\n",
       "      <td>k_l_o_p_p_s</td>\n",
       "      <td>eyi2kpa</td>\n",
       "      <td>1567096634</td>\n",
       "      <td>0</td>\n",
       "      <td>59</td>\n",
       "      <td></td>\n",
       "      <td></td>\n",
       "      <td>...</td>\n",
       "      <td>{'function (Function Words)': 6, 'adverb (Adve...</td>\n",
       "      <td>10</td>\n",
       "      <td>5</td>\n",
       "      <td>{'function (Function Words)': 1, 'pronoun (Pro...</td>\n",
       "      <td>{'it': 1, 's': 1, 'art': 1, 'you': 1, 'know': 1}</td>\n",
       "      <td>{'why': 1, 'the': 1, 'fuck': 1, 'is': 1, 'arab...</td>\n",
       "      <td>{'function (Function Words)': 2, 'pronoun (Pro...</td>\n",
       "      <td>{'function (Function Words)': 1, 'pronoun (Pro...</td>\n",
       "      <td>{'it': 1, 's': 1, 'art': 1, 'you': 1, 'know': 1}</td>\n",
       "      <td>{'why': 1, 'the': 1, 'fuck': 1, 'is': 1, 'arab...</td>\n",
       "    </tr>\n",
       "    <tr>\n",
       "      <th>2</th>\n",
       "      <td>3427882</td>\n",
       "      <td>655430</td>\n",
       "      <td>Talk to siswet. She’ll say no.</td>\n",
       "      <td>HRC_itsherturn</td>\n",
       "      <td>ey9pbo2</td>\n",
       "      <td>1566949041</td>\n",
       "      <td>0</td>\n",
       "      <td>3</td>\n",
       "      <td></td>\n",
       "      <td></td>\n",
       "      <td>...</td>\n",
       "      <td>{'verb (Verbs)': 1, 'cogproc (Cognitive Proces...</td>\n",
       "      <td>10</td>\n",
       "      <td>7</td>\n",
       "      <td>{'social (Social)': 1, 'focuspresent (Present ...</td>\n",
       "      <td>{'talk': 1, 'to': 1, 'siswet': 1, 'she': 1, 'l...</td>\n",
       "      <td>{'wonder': 1, 'if': 1, 'when': 1, 'the': 1, 'h...</td>\n",
       "      <td>{'social (Social)': 3, 'focuspresent (Present ...</td>\n",
       "      <td>{'social (Social)': 1, 'focuspresent (Present ...</td>\n",
       "      <td>{'talk': 1, 'to': 1, 'siswet': 1, 'she': 1, 'l...</td>\n",
       "      <td>{'wonder': 1, 'if': 1, 'when': 1, 'the': 1, 'h...</td>\n",
       "    </tr>\n",
       "    <tr>\n",
       "      <th>3</th>\n",
       "      <td>5725625</td>\n",
       "      <td>738173</td>\n",
       "      <td>mmm thanks again ;)</td>\n",
       "      <td>throwwawayy1311</td>\n",
       "      <td>f2yarqo</td>\n",
       "      <td>1570488325</td>\n",
       "      <td>0</td>\n",
       "      <td>1</td>\n",
       "      <td></td>\n",
       "      <td></td>\n",
       "      <td>...</td>\n",
       "      <td>{'function (Function Words)': 3, 'pronoun (Pro...</td>\n",
       "      <td>5</td>\n",
       "      <td>3</td>\n",
       "      <td>{'informal (Informal Language)': 1, 'nonflu (N...</td>\n",
       "      <td>{'mmm': 1, 'thanks': 1, 'again': 1}</td>\n",
       "      <td>{'i': 1, 'love': 1, 'the': 1, 'pubes': 1, 'too...</td>\n",
       "      <td>{'informal (Informal Language)': 1, 'nonflu (N...</td>\n",
       "      <td>{'informal (Informal Language)': 1, 'nonflu (N...</td>\n",
       "      <td>{'mmm': 1, 'thanks': 1, 'again': 1}</td>\n",
       "      <td>{'i': 1, 'love': 1, 'the': 1, 'pubes': 1, 'too...</td>\n",
       "    </tr>\n",
       "    <tr>\n",
       "      <th>4</th>\n",
       "      <td>7138143</td>\n",
       "      <td>30652</td>\n",
       "      <td>Thank you very much for your kind words. :)</td>\n",
       "      <td>ADALASKA-official</td>\n",
       "      <td>f7evc8r</td>\n",
       "      <td>1573666615</td>\n",
       "      <td>0</td>\n",
       "      <td>2</td>\n",
       "      <td></td>\n",
       "      <td>Lyrical Tenor</td>\n",
       "      <td>...</td>\n",
       "      <td>{'function (Function Words)': 25, 'pronoun (Pr...</td>\n",
       "      <td>44</td>\n",
       "      <td>8</td>\n",
       "      <td>{'verb (Verbs)': 1, 'affect (Affect)': 1, 'pos...</td>\n",
       "      <td>{'thank': 1, 'you': 1, 'very': 1, 'much': 1, '...</td>\n",
       "      <td>{'this': 3, 'is': 1, 'golden': 1, 'i': 2, 've'...</td>\n",
       "      <td>{'verb (Verbs)': 1, 'affect (Affect)': 2, 'pos...</td>\n",
       "      <td>{'verb (Verbs)': 1, 'affect (Affect)': 1, 'pos...</td>\n",
       "      <td>{'thank': 1, 'you': 1, 'very': 1, 'much': 1, '...</td>\n",
       "      <td>{'this': 3, 'is': 1, 'golden': 1, 'i': 2, 've'...</td>\n",
       "    </tr>\n",
       "  </tbody>\n",
       "</table>\n",
       "<p>5 rows × 35 columns</p>\n",
       "</div>"
      ],
      "text/plain": [
       "   level_0   index                                               body   \n",
       "0  3434187  676617  I feel sad. PVB was so entertaining to watch a...  \\\n",
       "1  2850434  317574                                It's art, you know?   \n",
       "2  3427882  655430                     Talk to siswet. She’ll say no.   \n",
       "3  5725625  738173                                mmm thanks again ;)   \n",
       "4  7138143   30652        Thank you very much for your kind words. :)   \n",
       "\n",
       "              author comment_id  created_utc  controversiality  score   \n",
       "0             Azenji    eynm4ib   1567252499                 0      4  \\\n",
       "1        k_l_o_p_p_s    eyi2kpa   1567096634                 0     59   \n",
       "2     HRC_itsherturn    ey9pbo2   1566949041                 0      3   \n",
       "3    throwwawayy1311    f2yarqo   1570488325                 0      1   \n",
       "4  ADALASKA-official    f7evc8r   1573666615                 0      2   \n",
       "\n",
       "  author_flair_css_class author_flair_text  ...   \n",
       "0                                           ...  \\\n",
       "1                                           ...   \n",
       "2                                           ...   \n",
       "3                                           ...   \n",
       "4                            Lyrical Tenor  ...   \n",
       "\n",
       "                                  tokens_liwc_parent  len_a len_b   \n",
       "0  {'function (Function Words)': 6, 'adverb (Adve...     14    22  \\\n",
       "1  {'function (Function Words)': 6, 'adverb (Adve...     10     5   \n",
       "2  {'verb (Verbs)': 1, 'cogproc (Cognitive Proces...     10     7   \n",
       "3  {'function (Function Words)': 3, 'pronoun (Pro...      5     3   \n",
       "4  {'function (Function Words)': 25, 'pronoun (Pr...     44     8   \n",
       "\n",
       "                                tokens_liwc_replaced   \n",
       "0  {'function (Function Words)': 1, 'pronoun (Pro...  \\\n",
       "1  {'function (Function Words)': 1, 'pronoun (Pro...   \n",
       "2  {'social (Social)': 1, 'focuspresent (Present ...   \n",
       "3  {'informal (Informal Language)': 1, 'nonflu (N...   \n",
       "4  {'verb (Verbs)': 1, 'affect (Affect)': 1, 'pos...   \n",
       "\n",
       "                                         tokens_dict   \n",
       "0  {'i': 1, 'feel': 1, 'sad': 1, 'pvb': 1, 'was':...  \\\n",
       "1   {'it': 1, 's': 1, 'art': 1, 'you': 1, 'know': 1}   \n",
       "2  {'talk': 1, 'to': 1, 'siswet': 1, 'she': 1, 'l...   \n",
       "3                {'mmm': 1, 'thanks': 1, 'again': 1}   \n",
       "4  {'thank': 1, 'you': 1, 'very': 1, 'much': 1, '...   \n",
       "\n",
       "                                  tokens_parent_dict   \n",
       "0  {'how': 1, 'dbl': 1, 'has': 1, 'fallen': 1, 's...  \\\n",
       "1  {'why': 1, 'the': 1, 'fuck': 1, 'is': 1, 'arab...   \n",
       "2  {'wonder': 1, 'if': 1, 'when': 1, 'the': 1, 'h...   \n",
       "3  {'i': 1, 'love': 1, 'the': 1, 'pubes': 1, 'too...   \n",
       "4  {'this': 3, 'is': 1, 'golden': 1, 'i': 2, 've'...   \n",
       "\n",
       "                                 tokens_liwc_all_sum   \n",
       "0  {'function (Function Words)': 11, 'pronoun (Pr...  \\\n",
       "1  {'function (Function Words)': 2, 'pronoun (Pro...   \n",
       "2  {'social (Social)': 3, 'focuspresent (Present ...   \n",
       "3  {'informal (Informal Language)': 1, 'nonflu (N...   \n",
       "4  {'verb (Verbs)': 1, 'affect (Affect)': 2, 'pos...   \n",
       "\n",
       "                               tokens_liwc_all_count   \n",
       "0  {'function (Function Words)': 1, 'pronoun (Pro...  \\\n",
       "1  {'function (Function Words)': 1, 'pronoun (Pro...   \n",
       "2  {'social (Social)': 1, 'focuspresent (Present ...   \n",
       "3  {'informal (Informal Language)': 1, 'nonflu (N...   \n",
       "4  {'verb (Verbs)': 1, 'affect (Affect)': 1, 'pos...   \n",
       "\n",
       "                                      tokens_all_sum   \n",
       "0  {'i': 1, 'feel': 1, 'sad': 1, 'pvb': 1, 'was':...  \\\n",
       "1   {'it': 1, 's': 1, 'art': 1, 'you': 1, 'know': 1}   \n",
       "2  {'talk': 1, 'to': 1, 'siswet': 1, 'she': 1, 'l...   \n",
       "3                {'mmm': 1, 'thanks': 1, 'again': 1}   \n",
       "4  {'thank': 1, 'you': 1, 'very': 1, 'much': 1, '...   \n",
       "\n",
       "                               tokens_parent_all_sum  \n",
       "0  {'how': 1, 'dbl': 1, 'has': 1, 'fallen': 1, 's...  \n",
       "1  {'why': 1, 'the': 1, 'fuck': 1, 'is': 1, 'arab...  \n",
       "2  {'wonder': 1, 'if': 1, 'when': 1, 'the': 1, 'h...  \n",
       "3  {'i': 1, 'love': 1, 'the': 1, 'pubes': 1, 'too...  \n",
       "4  {'this': 3, 'is': 1, 'golden': 1, 'i': 2, 've'...  \n",
       "\n",
       "[5 rows x 35 columns]"
      ]
     },
     "execution_count": 64,
     "metadata": {},
     "output_type": "execute_result"
    }
   ],
   "source": [
    "def add_n(counterliwc):\n",
    "    counterliwc['n']=1\n",
    "    return counterliwc\n",
    "\n",
    "def replaceDict(counterliwc):\n",
    "    replacedDict = {x: 1 for x in counterliwc}\n",
    "    return Counter(replacedDict)\n",
    "    \n",
    "per_post_users['len_a'] = per_post_users['tokens_liwc_parent'].apply(lambda x: x['length'] \n",
    "                                                                     if type(x)!=float else 0)\n",
    "per_post_users['len_b'] = per_post_users['tokens_liwc'].apply(lambda x: x['length'])\n",
    "\n",
    "per_post_users['tokens_liwc']=per_post_users['tokens_liwc'].apply(add_n)\n",
    "per_post_users['tokens_liwc_replaced']=per_post_users['tokens_liwc'].apply(replaceDict)\n",
    "per_post_users['tokens_dict']=per_post_users['tokens'].apply(Counter)\n",
    "per_post_users['tokens_parent_dict']=per_post_users['tokens_parent'].apply(Counter)\n",
    "\n",
    "user_all_posts_sum = per_post_users.groupby('author')[['tokens_liwc','tokens_liwc_replaced',\n",
    "                                                       'tokens_dict','tokens_parent_dict']].sum().reset_index()\n",
    "user_all_posts_sum.columns = ['author','tokens_liwc_all_sum','tokens_liwc_all_count',\n",
    "                              'tokens_all_sum','tokens_parent_all_sum']\n",
    "per_post_users = pd.merge(per_post_users, user_all_posts_sum, on='author')\n",
    "per_post_users.head()"
   ]
  },
  {
   "cell_type": "code",
   "execution_count": 65,
   "metadata": {},
   "outputs": [],
   "source": [
    "import liwc\n",
    "lexicon, category_names = liwc.read_dic('/shared/3/projects/agrimaTwitter/LIWC2015_English.dic')\n",
    "words_per_category = {c:set([k for k,v in lexicon.items() if c in v]) for c in category_names}\n"
   ]
  },
  {
   "cell_type": "code",
   "execution_count": 92,
   "metadata": {},
   "outputs": [],
   "source": [
    "category = 'function (Function Words)'\n",
    "words = words_per_category[category]\n",
    "per_post_users['category_words_parent'] = per_post_users['tokens_parent_dict'].\\\n",
    "apply(lambda x: set([k for k in x if k in words]))\n",
    "per_post_users['category_words'] = per_post_users.apply(lambda row: row['category_words_parent'].\\\n",
    "                                                        intersection(set(row['tokens_dict'].keys())), axis=1)\n",
    "per_post_users['num_category_words'] = per_post_users['category_words'].apply(len)\n",
    "per_post_users['num_category_words_parent'] = per_post_users['category_words_parent'].apply(len)\n"
   ]
  },
  {
   "cell_type": "code",
   "execution_count": 96,
   "metadata": {},
   "outputs": [
    {
     "data": {
      "text/plain": [
       "0          0.011905\n",
       "1          0.000000\n",
       "2          0.000000\n",
       "3          0.000000\n",
       "4          0.003589\n",
       "             ...   \n",
       "1499995    0.001512\n",
       "1499996    0.002387\n",
       "1499997    0.016667\n",
       "1499998    0.055556\n",
       "1499999    0.000329\n",
       "Length: 1500000, dtype: float64"
      ]
     },
     "execution_count": 96,
     "metadata": {},
     "output_type": "execute_result"
    }
   ],
   "source": [
    "per_post_users['num_category_words'] / per_post_users['len_a'] / per_post_users['num_category_words_parent']"
   ]
  },
  {
   "cell_type": "code",
   "execution_count": 232,
   "metadata": {},
   "outputs": [
    {
     "data": {
      "text/plain": [
       "(43073, 42)"
      ]
     },
     "execution_count": 232,
     "metadata": {},
     "output_type": "execute_result"
    }
   ],
   "source": [
    "sub = per_post_users[per_post_users['tokens_liwc_all_sum'].apply(lambda x: x['n']) >= 10].reset_index(drop=True)\n",
    "sub = sub[~sub['tokens_liwc_all_sum'].isna()]\n",
    "sub['num_category_words_all'] = 0\n",
    "sub['len_a_all'] = 0\n",
    "sub['len_b_all'] = sub['tokens_liwc_all_sum'].apply(lambda x: x['length'])\n",
    "sub.shape"
   ]
  },
  {
   "cell_type": "code",
   "execution_count": 233,
   "metadata": {},
   "outputs": [
    {
     "name": "stdout",
     "output_type": "stream",
     "text": [
      "2023-04-17 01:01:06.090195\n",
      "2023-04-17 01:04:51.475888\n"
     ]
    }
   ],
   "source": [
    "pd.options.mode.chained_assignment = None \n",
    "print(datetime.now())\n",
    "for aid in set(sub.author):\n",
    "    sub1 = sub[sub.author==aid]\n",
    "    for i in sub1.index:\n",
    "        words = sub1.category_words_parent[i]\n",
    "        sub['num_category_words_all'][i] = sub1.apply(lambda row: \n",
    "                                                      len(words.intersection(set(row['tokens_dict'].keys()))), \n",
    "                                                      axis=1).sum()\n",
    "        sub['len_a_all'][i] = min(1, sub1.apply(lambda row: \n",
    "                                         len(words.intersection(set(row['tokens_parent_dict'].keys()))), \n",
    "                                         axis=1).sum())\n",
    "print(datetime.now())\n",
    "pd.options.mode.chained_assignment = 'warn'\n"
   ]
  },
  {
   "cell_type": "code",
   "execution_count": 259,
   "metadata": {},
   "outputs": [],
   "source": [
    "sub['len_a_all'] = sub['len_a_all'].apply(lambda x: 1 if x==0 else x)"
   ]
  },
  {
   "cell_type": "code",
   "execution_count": 260,
   "metadata": {},
   "outputs": [],
   "source": [
    "def log_odds(p):\n",
    "    if p==0.: p = p + 0.00000000001\n",
    "    elif p==1.: p = p - 0.00000000001\n",
    "    return np.log(p / (1-p))"
   ]
  },
  {
   "cell_type": "code",
   "execution_count": 274,
   "metadata": {},
   "outputs": [],
   "source": [
    "sub['metric3'] = (sub['num_category_words'] / sub['len_b'] / sub['len_a']).apply(log_odds) -\\\n",
    "(sub['num_category_words_all'] / sub['len_b_all'] / sub['len_a_all']).apply(log_odds)\n"
   ]
  },
  {
   "cell_type": "code",
   "execution_count": 275,
   "metadata": {},
   "outputs": [
    {
     "data": {
      "text/plain": [
       "DescribeResult(nobs=43073, minmax=(-23.862098954131078, 31.099877063314153), mean=-4.509155693833226, variance=77.64282136164863, skewness=-1.030400980678519, kurtosis=-0.8228857707335999)"
      ]
     },
     "execution_count": 275,
     "metadata": {},
     "output_type": "execute_result"
    }
   ],
   "source": [
    "import scipy\n",
    "scipy.stats.describe(sub['metric3'])"
   ]
  },
  {
   "cell_type": "code",
   "execution_count": 276,
   "metadata": {},
   "outputs": [
    {
     "data": {
      "text/plain": [
       "Counter({False: 34318, True: 8755})"
      ]
     },
     "execution_count": 276,
     "metadata": {},
     "output_type": "execute_result"
    }
   ],
   "source": [
    "Counter(np.abs(sub['metric3'])<0.001)"
   ]
  },
  {
   "cell_type": "code",
   "execution_count": 277,
   "metadata": {},
   "outputs": [
    {
     "data": {
      "text/plain": [
       "Counter({True: 19475, False: 23598})"
      ]
     },
     "execution_count": 277,
     "metadata": {},
     "output_type": "execute_result"
    }
   ],
   "source": [
    "Counter(sub['metric3'] > 0.001)"
   ]
  },
  {
   "cell_type": "code",
   "execution_count": 278,
   "metadata": {},
   "outputs": [
    {
     "data": {
      "text/plain": [
       "Counter({False: 28230, True: 14843})"
      ]
     },
     "execution_count": 278,
     "metadata": {},
     "output_type": "execute_result"
    }
   ],
   "source": [
    "Counter(sub['metric3'] < -0.001)"
   ]
  },
  {
   "cell_type": "code",
   "execution_count": null,
   "metadata": {},
   "outputs": [],
   "source": []
  },
  {
   "cell_type": "code",
   "execution_count": 279,
   "metadata": {},
   "outputs": [
    {
     "data": {
      "text/plain": [
       "<Axes: xlabel='metric3', ylabel='Count'>"
      ]
     },
     "execution_count": 279,
     "metadata": {},
     "output_type": "execute_result"
    },
    {
     "data": {
      "image/png": "[encoded data removed]",
      "text/plain": [
       "<Figure size 432x288 with 1 Axes>"
      ]
     },
     "metadata": {
      "needs_background": "light"
     },
     "output_type": "display_data"
    }
   ],
   "source": [
    "sns.histplot(sub['metric3'][sub['controversiality']==0])"
   ]
  },
  {
   "cell_type": "code",
   "execution_count": 284,
   "metadata": {},
   "outputs": [],
   "source": [
    "import scipy\n",
    "import statsmodels.formula.api as smf\n",
    "import liwc\n",
    "lexicon, category_names = liwc.read_dic('/shared/3/projects/agrimaTwitter/LIWC2015_English.dic')\n",
    "words_per_category = {c:[k for k,v in lexicon.items() if c in v] for c in category_names}\n",
    "pkl.dump(category_names, open('data/random/liwc_categories.pkl','wb'))\n",
    "\n",
    "def fix_outlier(x):\n",
    "    lower_bound = np.percentile(x,0.25) - 3*scipy.stats.iqr(x)\n",
    "    upper_bound = np.percentile(x,0.75) + 3*scipy.stats.iqr(x)\n",
    "    x[x>upper_bound] = upper_bound\n",
    "    x[x<lower_bound] = lower_bound\n",
    "    return x\n",
    "\n",
    "def standardize(x):\n",
    "    return (x - np.mean(x)) / np.std(x)\n"
   ]
  },
  {
   "cell_type": "code",
   "execution_count": 287,
   "metadata": {},
   "outputs": [],
   "source": [
    "pd.options.mode.chained_assignment = None \n",
    "\n",
    "sub['len_a'] = standardize(sub['len_a'])\n",
    "sub['len_a'] = fix_outlier(sub['len_a'])\n",
    "\n",
    "sub['len_b'] = standardize(sub['len_b'])\n",
    "sub['len_b'] = fix_outlier(sub['len_b'])\n",
    "\n",
    "sub['parent_score'][sub['parent_score'].isna()] = 0\n",
    "sub['parent_score'][sub['parent_score']==''] = 0\n",
    "sub['parent_score'] = sub['parent_score'].astype(int)\n",
    "sub['parent_score'] = standardize(sub['parent_score'])\n",
    "sub['parent_score'] = fix_outlier(sub['parent_score'])\n",
    "\n",
    "sub['score'] = standardize(sub['score'])\n",
    "sub['score'] = fix_outlier(sub['score'])\n",
    "\n",
    "sub['depth'] = standardize(sub['depth'])\n",
    "sub['depth'] = fix_outlier(sub['depth'])\n",
    "\n",
    "sub['max_depth'] = standardize(sub['max_depth'])\n",
    "sub['max_depth'] = fix_outlier(sub['max_depth'])\n",
    "\n",
    "pd.options.mode.chained_assignment = 'warn'"
   ]
  },
  {
   "cell_type": "code",
   "execution_count": 301,
   "metadata": {},
   "outputs": [],
   "source": [
    "pd.options.mode.chained_assignment = None\n",
    "sub['wait_time'] = sub.created_utc - sub.parent_created_utc\n",
    "sub['wait_time'] = sub['wait_time']/60/60\n",
    "sub['wait_time'] = sub['wait_time'].astype(float)\n",
    "sub['wait_time'] = standardize(sub['wait_time'])\n",
    "sub['wait_time'] = fix_outlier(sub['wait_time'])\n",
    "sub['num_category_words_parent'] = standardize(sub['num_category_words_parent'])\n",
    "sub['num_category_words_parent'] = fix_outlier(sub['num_category_words_parent'])\n",
    "pd.options.mode.chained_assignment = 'warn'"
   ]
  },
  {
   "cell_type": "code",
   "execution_count": 297,
   "metadata": {},
   "outputs": [
    {
     "data": {
      "text/plain": [
       "dtype('float64')"
      ]
     },
     "execution_count": 297,
     "metadata": {},
     "output_type": "execute_result"
    }
   ],
   "source": [
    "sub['wait_time'].dtype"
   ]
  },
  {
   "cell_type": "code",
   "execution_count": 298,
   "metadata": {},
   "outputs": [],
   "source": [
    "pd.options.mode.chained_assignment = None\n",
    "sub['metric3'] = standardize(sub['metric3'])\n",
    "sub['metric3'] = fix_outlier(sub['metric3'])\n",
    "pd.options.mode.chained_assignment = 'warn'"
   ]
  },
  {
   "cell_type": "code",
   "execution_count": 315,
   "metadata": {},
   "outputs": [
    {
     "data": {
      "text/plain": [
       "<Axes: xlabel='metric3', ylabel='Count'>"
      ]
     },
     "execution_count": 315,
     "metadata": {},
     "output_type": "execute_result"
    },
    {
     "data": {
      "image/png": "[encoded data removed]",
      "text/plain": [
       "<Figure size 432x288 with 1 Axes>"
      ]
     },
     "metadata": {
      "needs_background": "light"
     },
     "output_type": "display_data"
    }
   ],
   "source": [
    "sns.histplot(x=sub['metric3'], hue=(sub['num_category_words']==0))"
   ]
  },
  {
   "cell_type": "code",
   "execution_count": 323,
   "metadata": {},
   "outputs": [
    {
     "data": {
      "text/html": [
       "<table class=\"simpletable\">\n",
       "<caption>OLS Regression Results</caption>\n",
       "<tr>\n",
       "  <th>Dep. Variable:</th>         <td>metric3</td>     <th>  R-squared:         </th> <td>   0.821</td>\n",
       "</tr>\n",
       "<tr>\n",
       "  <th>Model:</th>                   <td>OLS</td>       <th>  Adj. R-squared:    </th> <td>   0.821</td>\n",
       "</tr>\n",
       "<tr>\n",
       "  <th>Method:</th>             <td>Least Squares</td>  <th>  F-statistic:       </th> <td>   7913.</td>\n",
       "</tr>\n",
       "<tr>\n",
       "  <th>Date:</th>             <td>Mon, 17 Apr 2023</td> <th>  Prob (F-statistic):</th>  <td>  0.00</td> \n",
       "</tr>\n",
       "<tr>\n",
       "  <th>Time:</th>                 <td>03:46:36</td>     <th>  Log-Likelihood:    </th> <td> -4726.9</td>\n",
       "</tr>\n",
       "<tr>\n",
       "  <th>No. Observations:</th>      <td> 15576</td>      <th>  AIC:               </th> <td>   9474.</td>\n",
       "</tr>\n",
       "<tr>\n",
       "  <th>Df Residuals:</th>          <td> 15566</td>      <th>  BIC:               </th> <td>   9550.</td>\n",
       "</tr>\n",
       "<tr>\n",
       "  <th>Df Model:</th>              <td>     9</td>      <th>                     </th>     <td> </td>   \n",
       "</tr>\n",
       "<tr>\n",
       "  <th>Covariance Type:</th>      <td>nonrobust</td>    <th>                     </th>     <td> </td>   \n",
       "</tr>\n",
       "</table>\n",
       "<table class=\"simpletable\">\n",
       "<tr>\n",
       "                   <td></td>                     <th>coef</th>     <th>std err</th>      <th>t</th>      <th>P>|t|</th>  <th>[0.025</th>    <th>0.975]</th>  \n",
       "</tr>\n",
       "<tr>\n",
       "  <th>Intercept</th>                          <td>    0.6832</td> <td>    0.024</td> <td>   28.402</td> <td> 0.000</td> <td>    0.636</td> <td>    0.730</td>\n",
       "</tr>\n",
       "<tr>\n",
       "  <th>C(num_category_words == 0)[T.True]</th> <td>   -1.9481</td> <td>    0.008</td> <td> -246.604</td> <td> 0.000</td> <td>   -1.964</td> <td>   -1.933</td>\n",
       "</tr>\n",
       "<tr>\n",
       "  <th>wait_time</th>                          <td>   -0.1126</td> <td>    0.086</td> <td>   -1.307</td> <td> 0.191</td> <td>   -0.281</td> <td>    0.056</td>\n",
       "</tr>\n",
       "<tr>\n",
       "  <th>len_a</th>                              <td>    0.6252</td> <td>    0.020</td> <td>   31.808</td> <td> 0.000</td> <td>    0.587</td> <td>    0.664</td>\n",
       "</tr>\n",
       "<tr>\n",
       "  <th>len_b</th>                              <td>   -0.0537</td> <td>    0.005</td> <td>  -10.585</td> <td> 0.000</td> <td>   -0.064</td> <td>   -0.044</td>\n",
       "</tr>\n",
       "<tr>\n",
       "  <th>parent_score</th>                       <td>    0.1745</td> <td>    0.141</td> <td>    1.242</td> <td> 0.214</td> <td>   -0.101</td> <td>    0.450</td>\n",
       "</tr>\n",
       "<tr>\n",
       "  <th>score</th>                              <td>    0.0675</td> <td>    0.061</td> <td>    1.106</td> <td> 0.269</td> <td>   -0.052</td> <td>    0.187</td>\n",
       "</tr>\n",
       "<tr>\n",
       "  <th>depth</th>                              <td>   -0.0695</td> <td>    0.035</td> <td>   -1.959</td> <td> 0.050</td> <td>   -0.139</td> <td> 3.69e-05</td>\n",
       "</tr>\n",
       "<tr>\n",
       "  <th>max_depth</th>                          <td>   -0.0197</td> <td>    0.036</td> <td>   -0.543</td> <td> 0.587</td> <td>   -0.091</td> <td>    0.051</td>\n",
       "</tr>\n",
       "<tr>\n",
       "  <th>num_category_words_parent</th>          <td>   -0.2614</td> <td>    0.008</td> <td>  -31.255</td> <td> 0.000</td> <td>   -0.278</td> <td>   -0.245</td>\n",
       "</tr>\n",
       "</table>\n",
       "<table class=\"simpletable\">\n",
       "<tr>\n",
       "  <th>Omnibus:</th>       <td>11329.198</td> <th>  Durbin-Watson:     </th>  <td>   0.660</td> \n",
       "</tr>\n",
       "<tr>\n",
       "  <th>Prob(Omnibus):</th>  <td> 0.000</td>   <th>  Jarque-Bera (JB):  </th> <td>189140.962</td>\n",
       "</tr>\n",
       "<tr>\n",
       "  <th>Skew:</th>           <td> 3.411</td>   <th>  Prob(JB):          </th>  <td>    0.00</td> \n",
       "</tr>\n",
       "<tr>\n",
       "  <th>Kurtosis:</th>       <td>18.649</td>   <th>  Cond. No.          </th>  <td>    80.3</td> \n",
       "</tr>\n",
       "</table><br/><br/>Notes:<br/>[1] Standard Errors assume that the covariance matrix of the errors is correctly specified."
      ],
      "text/plain": [
       "<class 'statsmodels.iolib.summary.Summary'>\n",
       "\"\"\"\n",
       "                            OLS Regression Results                            \n",
       "==============================================================================\n",
       "Dep. Variable:                metric3   R-squared:                       0.821\n",
       "Model:                            OLS   Adj. R-squared:                  0.821\n",
       "Method:                 Least Squares   F-statistic:                     7913.\n",
       "Date:                Mon, 17 Apr 2023   Prob (F-statistic):               0.00\n",
       "Time:                        03:46:36   Log-Likelihood:                -4726.9\n",
       "No. Observations:               15576   AIC:                             9474.\n",
       "Df Residuals:                   15566   BIC:                             9550.\n",
       "Df Model:                           9                                         \n",
       "Covariance Type:            nonrobust                                         \n",
       "======================================================================================================\n",
       "                                         coef    std err          t      P>|t|      [0.025      0.975]\n",
       "------------------------------------------------------------------------------------------------------\n",
       "Intercept                              0.6832      0.024     28.402      0.000       0.636       0.730\n",
       "C(num_category_words == 0)[T.True]    -1.9481      0.008   -246.604      0.000      -1.964      -1.933\n",
       "wait_time                             -0.1126      0.086     -1.307      0.191      -0.281       0.056\n",
       "len_a                                  0.6252      0.020     31.808      0.000       0.587       0.664\n",
       "len_b                                 -0.0537      0.005    -10.585      0.000      -0.064      -0.044\n",
       "parent_score                           0.1745      0.141      1.242      0.214      -0.101       0.450\n",
       "score                                  0.0675      0.061      1.106      0.269      -0.052       0.187\n",
       "depth                                 -0.0695      0.035     -1.959      0.050      -0.139    3.69e-05\n",
       "max_depth                             -0.0197      0.036     -0.543      0.587      -0.091       0.051\n",
       "num_category_words_parent             -0.2614      0.008    -31.255      0.000      -0.278      -0.245\n",
       "==============================================================================\n",
       "Omnibus:                    11329.198   Durbin-Watson:                   0.660\n",
       "Prob(Omnibus):                  0.000   Jarque-Bera (JB):           189140.962\n",
       "Skew:                           3.411   Prob(JB):                         0.00\n",
       "Kurtosis:                      18.649   Cond. No.                         80.3\n",
       "==============================================================================\n",
       "\n",
       "Notes:\n",
       "[1] Standard Errors assume that the covariance matrix of the errors is correctly specified.\n",
       "\"\"\""
      ]
     },
     "execution_count": 323,
     "metadata": {},
     "output_type": "execute_result"
    }
   ],
   "source": [
    "mod = smf.ols('metric3 ~ wait_time + len_a + len_b + parent_score + score + depth + max_depth +\\\n",
    "                 C(num_category_words==0) + num_category_words_parent', \n",
    "              data=sub[sub.num_category_words_parent>0]).fit()\n",
    "mod.summary()\n"
   ]
  },
  {
   "cell_type": "code",
   "execution_count": 324,
   "metadata": {},
   "outputs": [
    {
     "data": {
      "text/plain": [
       "<Axes: ylabel='Count'>"
      ]
     },
     "execution_count": 324,
     "metadata": {},
     "output_type": "execute_result"
    },
    {
     "data": {
      "image/png": "[encoded data removed]",
      "text/plain": [
       "<Figure size 432x288 with 1 Axes>"
      ]
     },
     "metadata": {
      "needs_background": "light"
     },
     "output_type": "display_data"
    }
   ],
   "source": [
    "sns.histplot(mod.resid)"
   ]
  },
  {
   "cell_type": "code",
   "execution_count": 16,
   "metadata": {},
   "outputs": [],
   "source": [
    "\n",
    "def getMetric1(x):\n",
    "    \n",
    "    tokens_liwc = x.tokens_liwc\n",
    "    tokens_liwc_parent = x.tokens_liwc_parent\n",
    "    tokens = x.tokens\n",
    "    tokens_parent = x.tokens_parent\n",
    "    tokens_liwc_all_sum = x.tokens_liwc_all_sum\n",
    "    tokens_liwc_all_count = x.tokens_liwc_all_count\n",
    "    \n",
    "    #n = tokens_liwc_all_sum['n']\n",
    "    #tokens_liwc_all.pop('n')\n",
    "    temp_dict = dict(tokens_liwc_parent)\n",
    "    keys_liwc_parent = list(temp_dict.keys())\n",
    "    temp_list1 = [tokens_liwc_all_count[each_el] for each_el in keys_liwc_parent ]\n",
    "    part2 = sum(temp_list1)\n",
    "    \n",
    "    norm2 = len(tokens_parent) * tokens_liwc_all_sum ['length']\n",
    "    part2 = part2/norm2\n",
    "    \n",
    "    commonCategories = list(tokens_liwc.keys() & tokens_liwc_parent.keys())\n",
    "    part1 = len(commonCategories)\n",
    "    norm1 = len(tokens)*len(tokens_parent)\n",
    "    part1 = part1/norm1\n",
    "    \n",
    "    \n",
    "    ans = part1-part2\n",
    "    \n",
    "    return (ans)"
   ]
  },
  {
   "cell_type": "code",
   "execution_count": 17,
   "metadata": {},
   "outputs": [],
   "source": [
    "\n",
    "def getMetric1(x):\n",
    "    \n",
    "    tokens_liwc = x.tokens_liwc\n",
    "    tokens_liwc_parent = x.tokens_liwc_parent\n",
    "    tokens = x.tokens\n",
    "    tokens_parent = x.tokens_parent\n",
    "    tokens_liwc_all_sum = x.tokens_liwc_all_sum\n",
    "    tokens_liwc_all_count = x.tokens_liwc_all_count\n",
    "    \n",
    "    #n = tokens_liwc_all_sum['n']\n",
    "    #tokens_liwc_all.pop('n')\n",
    "    temp_dict = dict(tokens_liwc_parent)\n",
    "    keys_liwc_parent = list(temp_dict.keys())\n",
    "    temp_list1 = [tokens_liwc_all_count[each_el] for each_el in keys_liwc_parent ]\n",
    "    part2 = sum(temp_list1)\n",
    "    \n",
    "    norm2 = len(tokens_parent) * tokens_liwc_all_sum ['length']\n",
    "    part2 = part2/norm2\n",
    "    \n",
    "    commonCategories = list(tokens_liwc.keys() & tokens_liwc_parent.keys())\n",
    "    part1 = len(commonCategories)\n",
    "    norm1 = len(tokens)*len(tokens_parent)\n",
    "    part1 = part1/norm1\n",
    "    \n",
    "    \n",
    "    ans = part1-part2\n",
    "    \n",
    "    return (ans)"
   ]
  },
  {
   "cell_type": "code",
   "execution_count": 18,
   "metadata": {},
   "outputs": [],
   "source": [
    "\n",
    "def getMetric2(x, cat):\n",
    "    \n",
    "    tokens_liwc = x.tokens_liwc\n",
    "    tokens_liwc_parent = x.tokens_liwc_parent\n",
    "    tokens_liwc_all_sum = x.tokens_liwc_all_sum\n",
    "    tokens_liwc_all_count = x.tokens_liwc_all_count\n",
    "    \n",
    "    if tokens_liwc_parent[cat] == 0: return 0\n",
    "    \n",
    "    norm = tokens_liwc_parent[cat] / tokens_liwc_parent['length']\n",
    "    part1 = tokens_liwc[cat] / tokens_liwc['length'] / norm\n",
    "    part2 = tokens_liwc_all_sum[cat] / tokens_liwc_all_sum['length'] / norm / tokens_liwc_all_count['n']\n",
    "    \n",
    "    return part1-part2\n"
   ]
  },
  {
   "cell_type": "code",
   "execution_count": 19,
   "metadata": {},
   "outputs": [],
   "source": [
    "per_post_users['metric1'] = per_post_users.apply(lambda x: getMetric1(x), axis=1)"
   ]
  },
  {
   "cell_type": "code",
   "execution_count": 20,
   "metadata": {},
   "outputs": [],
   "source": [
    "per_post_users['metric2'] = per_post_users.apply(lambda x: \n",
    "                                                 getMetric2(x, cat='function (Function Words)'), axis=1)"
   ]
  },
  {
   "cell_type": "code",
   "execution_count": null,
   "metadata": {},
   "outputs": [],
   "source": []
  },
  {
   "cell_type": "code",
   "execution_count": 283,
   "metadata": {},
   "outputs": [
    {
     "data": {
      "text/plain": [
       "<Axes: xlabel='metric3', ylabel='Proportion'>"
      ]
     },
     "execution_count": 283,
     "metadata": {},
     "output_type": "execute_result"
    },
    {
     "data": {
      "image/png": "[encoded data removed]",
      "text/plain": [
       "<Figure size 432x288 with 1 Axes>"
      ]
     },
     "metadata": {
      "needs_background": "light"
     },
     "output_type": "display_data"
    }
   ],
   "source": [
    "import seaborn as sns\n",
    "sns.ecdfplot(sub['metric3'])"
   ]
  },
  {
   "cell_type": "code",
   "execution_count": 281,
   "metadata": {},
   "outputs": [
    {
     "data": {
      "text/html": [
       "<div>\n",
       "<style scoped>\n",
       "    .dataframe tbody tr th:only-of-type {\n",
       "        vertical-align: middle;\n",
       "    }\n",
       "\n",
       "    .dataframe tbody tr th {\n",
       "        vertical-align: top;\n",
       "    }\n",
       "\n",
       "    .dataframe thead th {\n",
       "        text-align: right;\n",
       "    }\n",
       "</style>\n",
       "<table border=\"1\" class=\"dataframe\">\n",
       "  <thead>\n",
       "    <tr style=\"text-align: right;\">\n",
       "      <th></th>\n",
       "      <th></th>\n",
       "      <th>var</th>\n",
       "      <th>count</th>\n",
       "      <th>mean</th>\n",
       "    </tr>\n",
       "    <tr>\n",
       "      <th>parent_controversiality</th>\n",
       "      <th>controversiality</th>\n",
       "      <th></th>\n",
       "      <th></th>\n",
       "      <th></th>\n",
       "    </tr>\n",
       "  </thead>\n",
       "  <tbody>\n",
       "    <tr>\n",
       "      <th rowspan=\"2\" valign=\"top\">0</th>\n",
       "      <th>0</th>\n",
       "      <td>77.844339</td>\n",
       "      <td>42330</td>\n",
       "      <td>-4.533279</td>\n",
       "    </tr>\n",
       "    <tr>\n",
       "      <th>1</th>\n",
       "      <td>63.730267</td>\n",
       "      <td>288</td>\n",
       "      <td>-3.040254</td>\n",
       "    </tr>\n",
       "    <tr>\n",
       "      <th rowspan=\"2\" valign=\"top\">1</th>\n",
       "      <th>0</th>\n",
       "      <td>62.061674</td>\n",
       "      <td>387</td>\n",
       "      <td>-2.970935</td>\n",
       "    </tr>\n",
       "    <tr>\n",
       "      <th>1</th>\n",
       "      <td>79.856053</td>\n",
       "      <td>68</td>\n",
       "      <td>-4.468210</td>\n",
       "    </tr>\n",
       "  </tbody>\n",
       "</table>\n",
       "</div>"
      ],
      "text/plain": [
       "                                                var  count      mean\n",
       "parent_controversiality controversiality                            \n",
       "0                       0                 77.844339  42330 -4.533279\n",
       "                        1                 63.730267    288 -3.040254\n",
       "1                       0                 62.061674    387 -2.970935\n",
       "                        1                 79.856053     68 -4.468210"
      ]
     },
     "execution_count": 281,
     "metadata": {},
     "output_type": "execute_result"
    }
   ],
   "source": [
    "sub.\\\n",
    "groupby(['parent_controversiality','controversiality'])\\\n",
    "['metric3'].\\\n",
    "agg({'mean','var','count'})\n"
   ]
  },
  {
   "cell_type": "code",
   "execution_count": null,
   "metadata": {},
   "outputs": [],
   "source": []
  },
  {
   "cell_type": "code",
   "execution_count": 2,
   "metadata": {},
   "outputs": [
    {
     "ename": "NameError",
     "evalue": "name 'banned' is not defined",
     "output_type": "error",
     "traceback": [
      "\u001b[0;31m---------------------------------------------------------------------------\u001b[0m",
      "\u001b[0;31mNameError\u001b[0m                                 Traceback (most recent call last)",
      "\u001b[0;32m<ipython-input-2-f35729333eea>\u001b[0m in \u001b[0;36m<module>\u001b[0;34m\u001b[0m\n\u001b[0;32m----> 1\u001b[0;31m \u001b[0mbanned\u001b[0m\u001b[0;34m\u001b[0m\u001b[0;34m\u001b[0m\u001b[0m\n\u001b[0m",
      "\u001b[0;31mNameError\u001b[0m: name 'banned' is not defined"
     ]
    }
   ],
   "source": [
    "banned"
   ]
  },
  {
   "cell_type": "code",
   "execution_count": null,
   "metadata": {},
   "outputs": [],
   "source": []
  },
  {
   "cell_type": "code",
   "execution_count": null,
   "metadata": {},
   "outputs": [],
   "source": []
  }
 ],
 "metadata": {
  "kernelspec": {
   "display_name": "Python 3",
   "language": "python",
   "name": "python3"
  },
  "language_info": {
   "codemirror_mode": {
    "name": "ipython",
    "version": 3
   },
   "file_extension": ".py",
   "mimetype": "text/x-python",
   "name": "python",
   "nbconvert_exporter": "python",
   "pygments_lexer": "ipython3",
   "version": "3.8.5"
  }
 },
 "nbformat": 4,
 "nbformat_minor": 4
}
