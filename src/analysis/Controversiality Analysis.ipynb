{
 "cells": [
  {
   "cell_type": "code",
   "execution_count": 1,
   "metadata": {},
   "outputs": [
    {
     "name": "stderr",
     "output_type": "stream",
     "text": [
      "\n",
      "Attaching package: ‘dplyr’\n",
      "\n",
      "\n",
      "The following objects are masked from ‘package:stats’:\n",
      "\n",
      "    filter, lag\n",
      "\n",
      "\n",
      "The following objects are masked from ‘package:base’:\n",
      "\n",
      "    intersect, setdiff, setequal, union\n",
      "\n",
      "\n",
      "\n",
      "Attaching package: ‘data.table’\n",
      "\n",
      "\n",
      "The following objects are masked from ‘package:dplyr’:\n",
      "\n",
      "    between, first, last\n",
      "\n",
      "\n",
      "Loading required package: Matrix\n",
      "\n",
      "\n",
      "Attaching package: ‘Matrix’\n",
      "\n",
      "\n",
      "The following objects are masked from ‘package:tidyr’:\n",
      "\n",
      "    expand, pack, unpack\n",
      "\n",
      "\n",
      "Loading required package: carData\n",
      "\n",
      "lattice theme set by effectsTheme()\n",
      "See ?effectsTheme for details.\n",
      "\n"
     ]
    }
   ],
   "source": [
    "library(dplyr)\n",
    "library(tidyr)\n",
    "library(ggplot2)\n",
    "library(data.table)\n",
    "library(lme4)\n",
    "library(lmerTest)\n",
    "library(MatchIt)\n",
    "#library(optmatch)\n",
    "library(effects)"
   ]
  },
  {
   "cell_type": "code",
   "execution_count": 2,
   "metadata": {},
   "outputs": [],
   "source": [
    "setwd('/shared/3/projects/style-influence')"
   ]
  },
  {
   "cell_type": "code",
   "execution_count": 3,
   "metadata": {},
   "outputs": [],
   "source": [
    "remove_outlier <- function(x, thr=10){\n",
    "    iqr = IQR(x, na.rm=T)\n",
    "    lo = quantile(x, 0.25, na.rm=T) - thr*iqr\n",
    "    hi = quantile(x, 0.75, na.rm=T) + thr*iqr\n",
    "    x[x < lo] = lo\n",
    "    x[x > hi] = hi\n",
    "    x\n",
    "}"
   ]
  },
  {
   "cell_type": "code",
   "execution_count": null,
   "metadata": {},
   "outputs": [],
   "source": []
  },
  {
   "cell_type": "code",
   "execution_count": null,
   "metadata": {},
   "outputs": [],
   "source": []
  },
  {
   "cell_type": "code",
   "execution_count": 4,
   "metadata": {},
   "outputs": [],
   "source": [
    "offensive = lapply(2019:2022, \n",
    "                   function(y) fread(paste0('data/final_samples/offensive_',y,'.tsv'), sep='\\t'))\n",
    "offensive = rbindlist(offensive)                   \n",
    "                   \n",
    "offensive$num_tokens <- unlist(lapply(offensive$tokens, function(x) length(strsplit(x,',')[[1]])))\n",
    "offensive$parent_num_tokens <- unlist(lapply(offensive$tokens_parent, function(x) length(strsplit(x,',')[[1]])))"
   ]
  },
  {
   "cell_type": "code",
   "execution_count": null,
   "metadata": {},
   "outputs": [],
   "source": [
    "scores = fread('working-dir/all_scores.offensive.csv')\n",
    "s = scores %>% dplyr::select(comment_id = column_id, offensive = score)\n",
    "setkey(s, comment_id)\n",
    "setkey(offensive, comment_id)\n",
    "offensive <- inner_join(offensive, s, by='comment_id')\n",
    "\n",
    "s = scores %>% dplyr::select(parent_id = column_id, parent_offensive = score)\n",
    "setkey(s, parent_id)\n",
    "setkey(offensive, parent_id)\n",
    "offensive = inner_join(offensive, s, by='parent_id')"
   ]
  },
  {
   "cell_type": "code",
   "execution_count": null,
   "metadata": {},
   "outputs": [],
   "source": [
    "offensive <- offensive %>%\n",
    "    mutate(#offensive = scale(offensive),\n",
    "           #parent_offensive = scale(parent_offensive),\n",
    "           num_tokens = scale(remove_outlier(as.numeric(num_tokens))),\n",
    "           parent_num_tokens = scale(remove_outlier(as.numeric(parent_num_tokens))),\n",
    "           score = remove_outlier(as.numeric(score)),\n",
    "           parent_score = remove_outlier(as.numeric(parent_score)),\n",
    "           depth = remove_outlier(as.numeric(depth)),\n",
    "           max_depth = remove_outlier(as.numeric(max_depth)),\n",
    "           controversiality = as.integer(controversiality),\n",
    "           parent_controversiality = as.integer(parent_controversiality)\n",
    "          )"
   ]
  },
  {
   "cell_type": "code",
   "execution_count": null,
   "metadata": {},
   "outputs": [],
   "source": [
    "setkey(offensive, comment_id)\n",
    "offensive$style = offensive$offensive\n",
    "offensive$parent_style = offensive$parent_offensive"
   ]
  },
  {
   "cell_type": "code",
   "execution_count": 625,
   "metadata": {},
   "outputs": [
    {
     "data": {
      "text/plain": [
       "\n",
       "Call:\n",
       "lm(formula = style ~ parent_style + num_tokens + parent_num_tokens + \n",
       "    depth, data = offensive)\n",
       "\n",
       "Residuals:\n",
       "     Min       1Q   Median       3Q      Max \n",
       "-0.34778 -0.03609 -0.03015 -0.01246  0.93231 \n",
       "\n",
       "Coefficients:\n",
       "                    Estimate Std. Error t value Pr(>|t|)    \n",
       "(Intercept)        3.349e-02  9.766e-05  342.96   <2e-16 ***\n",
       "parent_style       3.214e-01  3.706e-04  867.19   <2e-16 ***\n",
       "num_tokens         6.089e-03  5.304e-05  114.79   <2e-16 ***\n",
       "parent_num_tokens -3.883e-03  5.302e-05  -73.24   <2e-16 ***\n",
       "depth              8.247e-04  2.742e-05   30.08   <2e-16 ***\n",
       "---\n",
       "Signif. codes:  0 ‘***’ 0.001 ‘**’ 0.01 ‘*’ 0.05 ‘.’ 0.1 ‘ ’ 1\n",
       "\n",
       "Residual standard error: 0.1142 on 5663240 degrees of freedom\n",
       "Multiple R-squared:  0.1191,\tAdjusted R-squared:  0.1191 \n",
       "F-statistic: 1.914e+05 on 4 and 5663240 DF,  p-value: < 2.2e-16\n"
      ]
     },
     "metadata": {},
     "output_type": "display_data"
    }
   ],
   "source": [
    "mod <- lm(style ~ parent_style + \n",
    "          num_tokens + parent_num_tokens + depth, offensive)\n",
    "summary(mod)"
   ]
  },
  {
   "cell_type": "code",
   "execution_count": null,
   "metadata": {},
   "outputs": [],
   "source": []
  },
  {
   "cell_type": "code",
   "execution_count": null,
   "metadata": {},
   "outputs": [],
   "source": []
  },
  {
   "cell_type": "code",
   "execution_count": 4,
   "metadata": {},
   "outputs": [],
   "source": [
    "formality = fread('data/final_samples/formality_allmetrics.tsv', sep='\\t')"
   ]
  },
  {
   "cell_type": "code",
   "execution_count": 5,
   "metadata": {},
   "outputs": [
    {
     "data": {
      "text/html": [
       "16893013"
      ],
      "text/latex": [
       "16893013"
      ],
      "text/markdown": [
       "16893013"
      ],
      "text/plain": [
       "[1] 16893013"
      ]
     },
     "metadata": {},
     "output_type": "display_data"
    }
   ],
   "source": [
    "formality <- formality[controversiality %in% c('0','0.0','1','1.0'),]\n",
    "formality <- formality %>%\n",
    "    mutate(#formality = scale(formality),\n",
    "           #parent_formality = scale(parent_formality),\n",
    "           num_parent_markers = remove_outlier(num_parent_markers),\n",
    "           num_markers = remove_outlier(num_markers),\n",
    "           parent_num_markers = remove_outlier(parent_num_markers),\n",
    "           num_tokens = scale(remove_outlier(as.numeric(num_tokens))),\n",
    "           parent_num_tokens = scale(remove_outlier(as.numeric(parent_num_tokens))),\n",
    "           score = remove_outlier(as.numeric(score)),\n",
    "           parent_score = remove_outlier(as.numeric(parent_score)),\n",
    "           depth = remove_outlier(as.numeric(depth)),\n",
    "           max_depth = remove_outlier(as.numeric(max_depth)),\n",
    "           controversiality = as.integer(controversiality),\n",
    "           parent_controversiality = as.integer(parent_controversiality),\n",
    "           banned = ifelse(banned, 1, 0),\n",
    "           wait_time = remove_outlier(created_utc - parent_created_utc)/60/24\n",
    "          )\n",
    "nrow(formality)\n"
   ]
  },
  {
   "cell_type": "code",
   "execution_count": 6,
   "metadata": {},
   "outputs": [],
   "source": [
    "#formality$style <- formality$num_parent_markers\n",
    "formality$style <- formality$num_markers\n",
    "formality$parent_style <- formality$parent_num_markers\n",
    "\n",
    "#formality$style <- formality$formality\n",
    "#formality$parent_style <- formality$parent_formality"
   ]
  },
  {
   "cell_type": "code",
   "execution_count": 7,
   "metadata": {},
   "outputs": [
    {
     "data": {
      "text/plain": [
       "\n",
       "Call:\n",
       "lm(formula = style ~ parent_style + num_tokens + parent_num_tokens + \n",
       "    depth, data = formality)\n",
       "\n",
       "Residuals:\n",
       "     Min       1Q   Median       3Q      Max \n",
       "-195.327   -1.161    0.004    1.310   91.134 \n",
       "\n",
       "Coefficients:\n",
       "                    Estimate Std. Error  t value Pr(>|t|)    \n",
       "(Intercept)       14.5602056  0.0043291  3363.36   <2e-16 ***\n",
       "parent_style       0.1755719  0.0002263   775.72   <2e-16 ***\n",
       "num_tokens        25.0905566  0.0011035 22736.79   <2e-16 ***\n",
       "parent_num_tokens -4.2619573  0.0058987  -722.53   <2e-16 ***\n",
       "depth              0.0016327  0.0001351    12.09   <2e-16 ***\n",
       "---\n",
       "Signif. codes:  0 ‘***’ 0.001 ‘**’ 0.01 ‘*’ 0.05 ‘.’ 0.1 ‘ ’ 1\n",
       "\n",
       "Residual standard error: 3.912 on 16893008 degrees of freedom\n",
       "Multiple R-squared:  0.9766,\tAdjusted R-squared:  0.9766 \n",
       "F-statistic: 1.762e+08 on 4 and 16893008 DF,  p-value: < 2.2e-16\n"
      ]
     },
     "metadata": {},
     "output_type": "display_data"
    }
   ],
   "source": [
    "mod <- lm(style ~ parent_style + \n",
    "          num_tokens + parent_num_tokens + depth, formality)\n",
    "summary(mod)\n",
    "#hist(mod$residuals)"
   ]
  },
  {
   "cell_type": "code",
   "execution_count": null,
   "metadata": {},
   "outputs": [],
   "source": []
  },
  {
   "cell_type": "code",
   "execution_count": null,
   "metadata": {},
   "outputs": [],
   "source": []
  },
  {
   "cell_type": "code",
   "execution_count": null,
   "metadata": {},
   "outputs": [],
   "source": [
    "con_ids = unique(paste(formality$author,formality$subreddit)[formality$controversiality==1])\n",
    "con_ids = intersect(con_ids, unique(paste(formality$author,formality$subreddit)[formality$controversiality==0]))\n",
    "ban_ids = unique(formality$author[formality$banned==1])\n",
    "sum(paste(formality$author,formality$subreddit) %in% con_ids)"
   ]
  },
  {
   "cell_type": "code",
   "execution_count": null,
   "metadata": {},
   "outputs": [],
   "source": [
    "library(optmatch)\n",
    "library(MatchIt)\n",
    "#https://static1.squarespace.com/static/5d54a19a5a1edf0001ea677a/t/627b1c2fe12ee57a626635a7/1652235311535/Matching_Guide_pt1.pdf\n",
    "em_region <- exactMatch(x = controversiality ~ author + subreddit, \n",
    "                        data = formality %>% filter(paste(author,subreddit) %in% con_ids))\n"
   ]
  },
  {
   "cell_type": "code",
   "execution_count": null,
   "metadata": {},
   "outputs": [],
   "source": [
    "euc_dist_polity <- match_on(x = controversiality ~ num_tokens + depth + created_utc + parent_controversiality,\n",
    "                            data = formality %>% filter(paste(author,subreddit) %in% con_ids),\n",
    "                            standardization.scale = NULL,\n",
    "                            method = \"euclidean\")\n",
    "euc_dist_polity_cal_2 <- euc_dist_polity + caliper(x = euc_dist_polity, width = 2)"
   ]
  },
  {
   "cell_type": "code",
   "execution_count": null,
   "metadata": {},
   "outputs": [],
   "source": []
  },
  {
   "cell_type": "code",
   "execution_count": 8,
   "metadata": {},
   "outputs": [],
   "source": [
    "#formality$style <- formality$num_parent_markers\n",
    "#formality$style <- formality$num_markers\n",
    "#formality$parent_style <- formality$parent_num_markers\n",
    "\n",
    "formality$style <- formality$formality\n",
    "formality$parent_style <- formality$parent_formality"
   ]
  },
  {
   "cell_type": "code",
   "execution_count": 9,
   "metadata": {},
   "outputs": [
    {
     "data": {
      "text/html": [
       "61892"
      ],
      "text/latex": [
       "61892"
      ],
      "text/markdown": [
       "61892"
      ],
      "text/plain": [
       "[1] 61892"
      ]
     },
     "metadata": {},
     "output_type": "display_data"
    }
   ],
   "source": [
    "ids = unique(formality$root_id[formality$controversiality==1 & formality$depth>=3 & \n",
    "                               formality$max_depth>=formality$depth+2])\n",
    "length(ids)"
   ]
  },
  {
   "cell_type": "code",
   "execution_count": 11,
   "metadata": {},
   "outputs": [
    {
     "data": {
      "text/html": [
       "<table class=\"dataframe\">\n",
       "<caption>A grouped_df: 6 × 15</caption>\n",
       "<thead>\n",
       "\t<tr><th scope=col>root_id</th><th scope=col>author</th><th scope=col>controversiality</th><th scope=col>depth_relative</th><th scope=col>style</th><th scope=col>parent_style</th><th scope=col>num_markers</th><th scope=col>parent_num_markers</th><th scope=col>formality</th><th scope=col>parent_formality</th><th scope=col>num_tokens</th><th scope=col>parent_num_tokens</th><th scope=col>depth</th><th scope=col>parent_controversiality</th><th scope=col>cont_id</th></tr>\n",
       "\t<tr><th scope=col>&lt;chr&gt;</th><th scope=col>&lt;chr&gt;</th><th scope=col>&lt;int&gt;</th><th scope=col>&lt;fct&gt;</th><th scope=col>&lt;dbl&gt;</th><th scope=col>&lt;dbl&gt;</th><th scope=col>&lt;dbl&gt;</th><th scope=col>&lt;dbl&gt;</th><th scope=col>&lt;dbl&gt;</th><th scope=col>&lt;dbl&gt;</th><th scope=col>&lt;dbl&gt;</th><th scope=col>&lt;dbl&gt;</th><th scope=col>&lt;dbl&gt;</th><th scope=col>&lt;int&gt;</th><th scope=col>&lt;dbl&gt;</th></tr>\n",
       "</thead>\n",
       "<tbody>\n",
       "\t<tr><td>eq42v6h</td><td>redhatmodteam     </td><td>0</td><td>2 </td><td>0.527</td><td>0.381</td><td>12</td><td>23</td><td>0.527</td><td>0.381</td><td>-0.3361925</td><td> 0.13180661</td><td>8</td><td>0</td><td>6</td></tr>\n",
       "\t<tr><td>eq42v6h</td><td>ShinningPeadIsAnti</td><td>0</td><td>1 </td><td>0.381</td><td>0.647</td><td>23</td><td> 3</td><td>0.381</td><td>0.647</td><td> 0.1608381</td><td>-0.57119790</td><td>7</td><td>1</td><td>6</td></tr>\n",
       "\t<tr><td>eq42v6h</td><td>redhatmodteam     </td><td>1</td><td>0 </td><td>0.647</td><td>0.593</td><td> 3</td><td>21</td><td>0.647</td><td>0.593</td><td>-0.5639982</td><td> 0.07154908</td><td>6</td><td>0</td><td>6</td></tr>\n",
       "\t<tr><td>eq42v6h</td><td>ShinningPeadIsAnti</td><td>0</td><td>-1</td><td>0.593</td><td>0.378</td><td>21</td><td> 7</td><td>0.593</td><td>0.378</td><td> 0.0987093</td><td>-0.47076868</td><td>5</td><td>0</td><td>6</td></tr>\n",
       "\t<tr><td>eq42v6h</td><td>redhatmodteam     </td><td>0</td><td>-2</td><td>0.378</td><td>0.717</td><td> 7</td><td>13</td><td>0.378</td><td>0.717</td><td>-0.4604501</td><td>-0.02888013</td><td>4</td><td>0</td><td>6</td></tr>\n",
       "\t<tr><td>eq4mu5b</td><td>neihofft          </td><td>0</td><td>2 </td><td>0.829</td><td>0.516</td><td>41</td><td>34</td><td>0.829</td><td>0.516</td><td> 0.9063840</td><td> 0.67412438</td><td>6</td><td>1</td><td>4</td></tr>\n",
       "</tbody>\n",
       "</table>\n"
      ],
      "text/latex": [
       "A grouped\\_df: 6 × 15\n",
       "\\begin{tabular}{lllllllllllllll}\n",
       " root\\_id & author & controversiality & depth\\_relative & style & parent\\_style & num\\_markers & parent\\_num\\_markers & formality & parent\\_formality & num\\_tokens & parent\\_num\\_tokens & depth & parent\\_controversiality & cont\\_id\\\\\n",
       " <chr> & <chr> & <int> & <fct> & <dbl> & <dbl> & <dbl> & <dbl> & <dbl> & <dbl> & <dbl> & <dbl> & <dbl> & <int> & <dbl>\\\\\n",
       "\\hline\n",
       "\t eq42v6h & redhatmodteam      & 0 & 2  & 0.527 & 0.381 & 12 & 23 & 0.527 & 0.381 & -0.3361925 &  0.13180661 & 8 & 0 & 6\\\\\n",
       "\t eq42v6h & ShinningPeadIsAnti & 0 & 1  & 0.381 & 0.647 & 23 &  3 & 0.381 & 0.647 &  0.1608381 & -0.57119790 & 7 & 1 & 6\\\\\n",
       "\t eq42v6h & redhatmodteam      & 1 & 0  & 0.647 & 0.593 &  3 & 21 & 0.647 & 0.593 & -0.5639982 &  0.07154908 & 6 & 0 & 6\\\\\n",
       "\t eq42v6h & ShinningPeadIsAnti & 0 & -1 & 0.593 & 0.378 & 21 &  7 & 0.593 & 0.378 &  0.0987093 & -0.47076868 & 5 & 0 & 6\\\\\n",
       "\t eq42v6h & redhatmodteam      & 0 & -2 & 0.378 & 0.717 &  7 & 13 & 0.378 & 0.717 & -0.4604501 & -0.02888013 & 4 & 0 & 6\\\\\n",
       "\t eq4mu5b & neihofft           & 0 & 2  & 0.829 & 0.516 & 41 & 34 & 0.829 & 0.516 &  0.9063840 &  0.67412438 & 6 & 1 & 4\\\\\n",
       "\\end{tabular}\n"
      ],
      "text/markdown": [
       "\n",
       "A grouped_df: 6 × 15\n",
       "\n",
       "| root_id &lt;chr&gt; | author &lt;chr&gt; | controversiality &lt;int&gt; | depth_relative &lt;fct&gt; | style &lt;dbl&gt; | parent_style &lt;dbl&gt; | num_markers &lt;dbl&gt; | parent_num_markers &lt;dbl&gt; | formality &lt;dbl&gt; | parent_formality &lt;dbl&gt; | num_tokens &lt;dbl&gt; | parent_num_tokens &lt;dbl&gt; | depth &lt;dbl&gt; | parent_controversiality &lt;int&gt; | cont_id &lt;dbl&gt; |\n",
       "|---|---|---|---|---|---|---|---|---|---|---|---|---|---|---|\n",
       "| eq42v6h | redhatmodteam      | 0 | 2  | 0.527 | 0.381 | 12 | 23 | 0.527 | 0.381 | -0.3361925 |  0.13180661 | 8 | 0 | 6 |\n",
       "| eq42v6h | ShinningPeadIsAnti | 0 | 1  | 0.381 | 0.647 | 23 |  3 | 0.381 | 0.647 |  0.1608381 | -0.57119790 | 7 | 1 | 6 |\n",
       "| eq42v6h | redhatmodteam      | 1 | 0  | 0.647 | 0.593 |  3 | 21 | 0.647 | 0.593 | -0.5639982 |  0.07154908 | 6 | 0 | 6 |\n",
       "| eq42v6h | ShinningPeadIsAnti | 0 | -1 | 0.593 | 0.378 | 21 |  7 | 0.593 | 0.378 |  0.0987093 | -0.47076868 | 5 | 0 | 6 |\n",
       "| eq42v6h | redhatmodteam      | 0 | -2 | 0.378 | 0.717 |  7 | 13 | 0.378 | 0.717 | -0.4604501 | -0.02888013 | 4 | 0 | 6 |\n",
       "| eq4mu5b | neihofft           | 0 | 2  | 0.829 | 0.516 | 41 | 34 | 0.829 | 0.516 |  0.9063840 |  0.67412438 | 6 | 1 | 4 |\n",
       "\n"
      ],
      "text/plain": [
       "  root_id author             controversiality depth_relative style parent_style\n",
       "1 eq42v6h redhatmodteam      0                2              0.527 0.381       \n",
       "2 eq42v6h ShinningPeadIsAnti 0                1              0.381 0.647       \n",
       "3 eq42v6h redhatmodteam      1                0              0.647 0.593       \n",
       "4 eq42v6h ShinningPeadIsAnti 0                -1             0.593 0.378       \n",
       "5 eq42v6h redhatmodteam      0                -2             0.378 0.717       \n",
       "6 eq4mu5b neihofft           0                2              0.829 0.516       \n",
       "  num_markers parent_num_markers formality parent_formality num_tokens\n",
       "1 12          23                 0.527     0.381            -0.3361925\n",
       "2 23           3                 0.381     0.647             0.1608381\n",
       "3  3          21                 0.647     0.593            -0.5639982\n",
       "4 21           7                 0.593     0.378             0.0987093\n",
       "5  7          13                 0.378     0.717            -0.4604501\n",
       "6 41          34                 0.829     0.516             0.9063840\n",
       "  parent_num_tokens depth parent_controversiality cont_id\n",
       "1  0.13180661       8     0                       6      \n",
       "2 -0.57119790       7     1                       6      \n",
       "3  0.07154908       6     0                       6      \n",
       "4 -0.47076868       5     0                       6      \n",
       "5 -0.02888013       4     0                       6      \n",
       "6  0.67412438       6     1                       4      "
      ]
     },
     "metadata": {},
     "output_type": "display_data"
    }
   ],
   "source": [
    "cont_threads <- formality[root_id %in% ids,] %>%\n",
    "    group_by(root_id) %>%\n",
    "    mutate(cont_id = min(depth[controversiality==1 & depth>=3])) %>% \n",
    "    filter(depth <= cont_id+2 & depth >= cont_id-2) %>%\n",
    "    mutate(depth_relative = factor(depth - cont_id, levels = c(0, -2, -1, 1, 2))) %>%\n",
    "    select(root_id, author, controversiality, depth_relative,\n",
    "           style, parent_style, num_markers, parent_num_markers, formality, parent_formality,\n",
    "           num_tokens, parent_num_tokens, depth, parent_controversiality, cont_id)\n",
    "head(cont_threads)"
   ]
  },
  {
   "cell_type": "code",
   "execution_count": 12,
   "metadata": {},
   "outputs": [
    {
     "data": {
      "text/html": [
       "61892"
      ],
      "text/latex": [
       "61892"
      ],
      "text/markdown": [
       "61892"
      ],
      "text/plain": [
       "[1] 61892"
      ]
     },
     "metadata": {},
     "output_type": "display_data"
    }
   ],
   "source": [
    "cont_ids = cont_threads %>% filter(depth == cont_id)\n",
    "nrow(cont_ids)"
   ]
  },
  {
   "cell_type": "code",
   "execution_count": 13,
   "metadata": {},
   "outputs": [
    {
     "data": {
      "text/plain": [
       "[1] \"2023-04-23 16:42:31 EDT\""
      ]
     },
     "metadata": {},
     "output_type": "display_data"
    },
    {
     "data": {
      "text/plain": [
       "[1] \"2023-04-23 18:03:40 EDT\""
      ]
     },
     "metadata": {},
     "output_type": "display_data"
    }
   ],
   "source": [
    "setkey(formality,author)\n",
    "Sys.time()\n",
    "rows <- lapply(1:nrow(cont_ids),\n",
    "function(i){\n",
    "    s <- formality[cont_ids$author[i],][depth >= 3 & max_depth >= depth+2 & controversiality == 0,]\n",
    "    if(nrow(s)>0) s <- s %>% filter(abs(depth - cont_ids$cont_id[i]) == min(abs(depth - cont_ids$cont_id[i]))) \n",
    "    if(nrow(s)>1) s <- s %>% sample_n(1)\n",
    "    s\n",
    "    })\n",
    "Sys.time()\n"
   ]
  },
  {
   "cell_type": "code",
   "execution_count": 14,
   "metadata": {},
   "outputs": [
    {
     "data": {
      "text/plain": [
       "[1] \"2023-04-23 18:03:49 EDT\""
      ]
     },
     "metadata": {},
     "output_type": "display_data"
    },
    {
     "data": {
      "text/plain": [
       "[1] \"2023-04-23 18:22:07 EDT\""
      ]
     },
     "metadata": {},
     "output_type": "display_data"
    }
   ],
   "source": [
    "setkey(formality, root_id)\n",
    "Sys.time()\n",
    "rows <- lapply(rows,\n",
    "function(s){\n",
    "    if(nrow(s)==1){\n",
    "        s <- formality[s$root_id,][depth>=s$depth-2 & depth<=s$depth+2,] \n",
    "        s <- s %>% \n",
    "                group_by(root_id) %>%\n",
    "                mutate(cont_id = median(depth),\n",
    "                       depth_relative = depth - cont_id) %>%\n",
    "                select(root_id, author, controversiality, depth_relative,\n",
    "                       style, parent_style, num_markers, parent_num_markers, formality, parent_formality,\n",
    "                       num_tokens, parent_num_tokens, depth, parent_controversiality, cont_id)\n",
    "    }else{\n",
    "        s <- data.table()\n",
    "    }\n",
    "    s\n",
    "})\n",
    "Sys.time()\n"
   ]
  },
  {
   "cell_type": "code",
   "execution_count": 15,
   "metadata": {},
   "outputs": [],
   "source": [
    "df = rbindlist(rows) %>% \n",
    "        mutate(depth_relative = factor(depth_relative, levels=c(0,-2,-1,1,2)),\n",
    "               type = 'control')\n",
    "\n",
    "df <- rbind(df,\n",
    "            cont_threads %>% \n",
    "                filter(root_id %in% cont_ids$root_id[author %in% df$author]) %>% \n",
    "                mutate(type = 'treat')\n",
    "            )"
   ]
  },
  {
   "cell_type": "code",
   "execution_count": 16,
   "metadata": {},
   "outputs": [
    {
     "data": {
      "text/html": [
       "<style>\n",
       ".dl-inline {width: auto; margin:0; padding: 0}\n",
       ".dl-inline>dt, .dl-inline>dd {float: none; width: auto; display: inline-block}\n",
       ".dl-inline>dt::after {content: \":\\0020\"; padding-right: .5ex}\n",
       ".dl-inline>dt:not(:first-of-type) {padding-left: .5ex}\n",
       "</style><dl class=dl-inline><dt>0</dt><dd>99590</dd><dt>-2</dt><dd>99341</dd><dt>-1</dt><dd>99496</dd><dt>1</dt><dd>99551</dd><dt>2</dt><dd>99438</dd><dt>NA's</dt><dd>1752</dd></dl>\n"
      ],
      "text/latex": [
       "\\begin{description*}\n",
       "\\item[0] 99590\n",
       "\\item[-2] 99341\n",
       "\\item[-1] 99496\n",
       "\\item[1] 99551\n",
       "\\item[2] 99438\n",
       "\\item[NA's] 1752\n",
       "\\end{description*}\n"
      ],
      "text/markdown": [
       "0\n",
       ":   99590-2\n",
       ":   99341-1\n",
       ":   994961\n",
       ":   995512\n",
       ":   99438NA's\n",
       ":   1752\n",
       "\n"
      ],
      "text/plain": [
       "    0    -2    -1     1     2  NA's \n",
       "99590 99341 99496 99551 99438  1752 "
      ]
     },
     "metadata": {},
     "output_type": "display_data"
    }
   ],
   "source": [
    "summary(df$depth_relative)"
   ]
  },
  {
   "cell_type": "code",
   "execution_count": 50,
   "metadata": {},
   "outputs": [],
   "source": [
    "df <- df %>% \n",
    "left_join(unique(formality %>% select(root_id, subreddit)), by='root_id')"
   ]
  },
  {
   "cell_type": "code",
   "execution_count": 67,
   "metadata": {},
   "outputs": [],
   "source": [
    "#df$style <- df$num_parent_markers\n",
    "df$style <- df$num_markers\n",
    "df$parent_style <- df$parent_num_markers\n",
    "\n",
    "df$style <- df$formality\n",
    "df$parent_style <- df$parent_formality"
   ]
  },
  {
   "cell_type": "code",
   "execution_count": 72,
   "metadata": {},
   "outputs": [
    {
     "data": {
      "text/plain": [
       "\n",
       "Call:\n",
       "lm(formula = style ~ parent_style * type * depth_relative + num_tokens + \n",
       "    parent_num_tokens + depth, data = df %>% filter(depth_relative %in% \n",
       "    c(-1, 1)))\n",
       "\n",
       "Residuals:\n",
       "     Min       1Q   Median       3Q      Max \n",
       "-0.62523 -0.24921 -0.05756  0.24312  0.60599 \n",
       "\n",
       "Coefficients:\n",
       "                                         Estimate Std. Error t value Pr(>|t|)\n",
       "(Intercept)                             0.4043695  0.0028420 142.283  < 2e-16\n",
       "parent_style                            0.1344238  0.0042131  31.906  < 2e-16\n",
       "typetreat                               0.0137290  0.0035398   3.878 0.000105\n",
       "depth_relative1                        -0.0036206  0.0035006  -1.034 0.300997\n",
       "num_tokens                              0.0265824  0.0006825  38.947  < 2e-16\n",
       "parent_num_tokens                       0.0053012  0.0007515   7.054 1.74e-12\n",
       "depth                                   0.0009279  0.0004538   2.045 0.040902\n",
       "parent_style:typetreat                 -0.0152653  0.0063287  -2.412 0.015863\n",
       "parent_style:depth_relative1            0.0041400  0.0059361   0.697 0.485533\n",
       "typetreat:depth_relative1              -0.0018715  0.0050481  -0.371 0.710842\n",
       "parent_style:typetreat:depth_relative1  0.0104481  0.0089345   1.169 0.242239\n",
       "                                          \n",
       "(Intercept)                            ***\n",
       "parent_style                           ***\n",
       "typetreat                              ***\n",
       "depth_relative1                           \n",
       "num_tokens                             ***\n",
       "parent_num_tokens                      ***\n",
       "depth                                  *  \n",
       "parent_style:typetreat                 *  \n",
       "parent_style:depth_relative1              \n",
       "typetreat:depth_relative1                 \n",
       "parent_style:typetreat:depth_relative1    \n",
       "---\n",
       "Signif. codes:  0 ‘***’ 0.001 ‘**’ 0.01 ‘*’ 0.05 ‘.’ 0.1 ‘ ’ 1\n",
       "\n",
       "Residual standard error: 0.3028 on 198930 degrees of freedom\n",
       "  (106 observations deleted due to missingness)\n",
       "Multiple R-squared:  0.03217,\tAdjusted R-squared:  0.03212 \n",
       "F-statistic: 661.3 on 10 and 198930 DF,  p-value: < 2.2e-16\n"
      ]
     },
     "metadata": {},
     "output_type": "display_data"
    }
   ],
   "source": [
    "mod <- lm(style ~ parent_style * type * depth_relative + \n",
    "          num_tokens + parent_num_tokens + depth,\n",
    "            df %>% filter(depth_relative %in% c(-1,1)) #%>% mutate(depth_relative = relevel(depth_relative, '-2'))\n",
    "         )\n",
    "summary(mod)"
   ]
  },
  {
   "cell_type": "code",
   "execution_count": null,
   "metadata": {},
   "outputs": [],
   "source": []
  },
  {
   "cell_type": "code",
   "execution_count": 73,
   "metadata": {},
   "outputs": [
    {
     "data": {
      "text/plain": [
       "Linear mixed model fit by REML. t-tests use Satterthwaite's method [\n",
       "lmerModLmerTest]\n",
       "Formula: \n",
       "style ~ parent_style * type * depth_relative + num_tokens + parent_num_tokens +  \n",
       "    depth + (1 | author) + (1 | subreddit)\n",
       "   Data: df %>% filter(depth_relative %in% c(-1, 1))\n",
       "\n",
       "REML criterion at convergence: 74082.3\n",
       "\n",
       "Scaled residuals: \n",
       "    Min      1Q  Median      3Q     Max \n",
       "-2.7026 -0.7040 -0.1599  0.6938  2.8961 \n",
       "\n",
       "Random effects:\n",
       " Groups    Name        Variance Std.Dev.\n",
       " author    (Intercept) 0.021006 0.14493 \n",
       " subreddit (Intercept) 0.004259 0.06526 \n",
       " Residual              0.067706 0.26020 \n",
       "Number of obs: 198941, groups:  author, 68717; subreddit, 9534\n",
       "\n",
       "Fixed effects:\n",
       "                                         Estimate Std. Error         df t value\n",
       "(Intercept)                             4.175e-01  3.048e-03  6.660e+04 136.973\n",
       "parent_style                            8.939e-02  3.999e-03  1.897e+05  22.353\n",
       "typetreat                               1.018e-02  3.303e-03  1.848e+05   3.083\n",
       "depth_relative1                        -1.447e-03  3.199e-03  1.723e+05  -0.452\n",
       "num_tokens                              2.136e-02  6.888e-04  1.975e+05  31.016\n",
       "parent_num_tokens                       9.850e-04  7.493e-04  1.988e+05   1.315\n",
       "depth                                   2.149e-03  4.802e-04  1.723e+05   4.474\n",
       "parent_style:typetreat                 -1.333e-02  5.904e-03  1.822e+05  -2.257\n",
       "parent_style:depth_relative1           -2.573e-03  5.459e-03  1.737e+05  -0.471\n",
       "typetreat:depth_relative1              -1.142e-03  4.574e-03  1.645e+05  -0.250\n",
       "parent_style:typetreat:depth_relative1  1.148e-02  8.260e-03  1.754e+05   1.390\n",
       "                                       Pr(>|t|)    \n",
       "(Intercept)                             < 2e-16 ***\n",
       "parent_style                            < 2e-16 ***\n",
       "typetreat                               0.00205 ** \n",
       "depth_relative1                         0.65091    \n",
       "num_tokens                              < 2e-16 ***\n",
       "parent_num_tokens                       0.18867    \n",
       "depth                                  7.68e-06 ***\n",
       "parent_style:typetreat                  0.02401 *  \n",
       "parent_style:depth_relative1            0.63731    \n",
       "typetreat:depth_relative1               0.80288    \n",
       "parent_style:typetreat:depth_relative1  0.16465    \n",
       "---\n",
       "Signif. codes:  0 ‘***’ 0.001 ‘**’ 0.01 ‘*’ 0.05 ‘.’ 0.1 ‘ ’ 1\n",
       "\n",
       "Correlation of Fixed Effects:\n",
       "            (Intr) prnt_s typtrt dpth_1 nm_tkn prnt__ depth  prnt_: pr_:_1\n",
       "parent_styl -0.608                                                        \n",
       "typetreat   -0.530  0.556                                                 \n",
       "depth_rltv1 -0.308  0.559  0.411                                          \n",
       "num_tokens  -0.031 -0.020 -0.001 -0.003                                   \n",
       "prnt_nm_tkn  0.046 -0.031  0.008  0.000 -0.404                            \n",
       "depth       -0.544 -0.016  0.086 -0.301 -0.001 -0.061                     \n",
       "prnt_styl:t  0.410 -0.657 -0.836 -0.378  0.006  0.000 -0.003              \n",
       "prnt_sty:_1  0.425 -0.685 -0.397 -0.818  0.000 -0.005  0.002  0.468       \n",
       "typtrt:dp_1  0.339 -0.397 -0.678 -0.642 -0.003 -0.012 -0.004  0.593  0.582\n",
       "prnt_st::_1 -0.292  0.465  0.587  0.548 -0.003  0.002  0.006 -0.702 -0.673\n",
       "            typ:_1\n",
       "parent_styl       \n",
       "typetreat         \n",
       "depth_rltv1       \n",
       "num_tokens        \n",
       "prnt_nm_tkn       \n",
       "depth             \n",
       "prnt_styl:t       \n",
       "prnt_sty:_1       \n",
       "typtrt:dp_1       \n",
       "prnt_st::_1 -0.858"
      ]
     },
     "metadata": {},
     "output_type": "display_data"
    }
   ],
   "source": [
    "mod <- lmer(style ~ parent_style * type * depth_relative + \n",
    "          num_tokens + parent_num_tokens + depth + \n",
    "            (1|author) + (1|subreddit),\n",
    "            df %>% filter(depth_relative %in% c(-1,1)) #%>% mutate(depth_relative = relevel(depth_relative, '-2'))\n",
    "         )\n",
    "summary(mod)"
   ]
  },
  {
   "cell_type": "code",
   "execution_count": 27,
   "metadata": {},
   "outputs": [
    {
     "data": {
      "text/html": [
       "499168"
      ],
      "text/latex": [
       "499168"
      ],
      "text/markdown": [
       "499168"
      ],
      "text/plain": [
       "[1] 499168"
      ]
     },
     "metadata": {},
     "output_type": "display_data"
    }
   ],
   "source": [
    "nrow(df)"
   ]
  },
  {
   "cell_type": "code",
   "execution_count": null,
   "metadata": {},
   "outputs": [],
   "source": []
  },
  {
   "cell_type": "code",
   "execution_count": null,
   "metadata": {},
   "outputs": [],
   "source": []
  },
  {
   "cell_type": "code",
   "execution_count": null,
   "metadata": {},
   "outputs": [],
   "source": []
  },
  {
   "cell_type": "code",
   "execution_count": null,
   "metadata": {},
   "outputs": [],
   "source": []
  },
  {
   "cell_type": "code",
   "execution_count": null,
   "metadata": {},
   "outputs": [],
   "source": []
  }
 ],
 "metadata": {
  "kernelspec": {
   "display_name": "R",
   "language": "R",
   "name": "ir"
  },
  "language_info": {
   "codemirror_mode": "r",
   "file_extension": ".r",
   "mimetype": "text/x-r-source",
   "name": "R",
   "pygments_lexer": "r",
   "version": "4.1.3"
  }
 },
 "nbformat": 4,
 "nbformat_minor": 4
}
