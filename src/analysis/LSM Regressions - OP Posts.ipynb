{
 "cells": [
  {
   "cell_type": "code",
   "execution_count": 1,
   "metadata": {},
   "outputs": [
    {
     "name": "stderr",
     "output_type": "stream",
     "text": [
      "\n",
      "Attaching package: ‘dplyr’\n",
      "\n",
      "\n",
      "The following objects are masked from ‘package:stats’:\n",
      "\n",
      "    filter, lag\n",
      "\n",
      "\n",
      "The following objects are masked from ‘package:base’:\n",
      "\n",
      "    intersect, setdiff, setequal, union\n",
      "\n",
      "\n",
      "\n",
      "Attaching package: ‘data.table’\n",
      "\n",
      "\n",
      "The following objects are masked from ‘package:dplyr’:\n",
      "\n",
      "    between, first, last\n",
      "\n",
      "\n",
      "Loading required package: Matrix\n",
      "\n",
      "\n",
      "Attaching package: ‘Matrix’\n",
      "\n",
      "\n",
      "The following objects are masked from ‘package:tidyr’:\n",
      "\n",
      "    expand, pack, unpack\n",
      "\n",
      "\n",
      "\n",
      "Attaching package: ‘lmerTest’\n",
      "\n",
      "\n",
      "The following object is masked from ‘package:lme4’:\n",
      "\n",
      "    lmer\n",
      "\n",
      "\n",
      "The following object is masked from ‘package:stats’:\n",
      "\n",
      "    step\n",
      "\n",
      "\n"
     ]
    }
   ],
   "source": [
    "library(dplyr)\n",
    "library(tidyr)\n",
    "library(ggplot2)\n",
    "library(data.table)\n",
    "library(lme4)\n",
    "library(lmerTest)"
   ]
  },
  {
   "cell_type": "code",
   "execution_count": 2,
   "metadata": {},
   "outputs": [],
   "source": [
    "setwd('/shared/3/projects/style-influence')"
   ]
  },
  {
   "cell_type": "code",
   "execution_count": 3,
   "metadata": {},
   "outputs": [
    {
     "name": "stderr",
     "output_type": "stream",
     "text": [
      "Warning message in writeBin(bfr, con = out, size = 1L):\n",
      "“problem writing to connection”\n",
      "Warning message in writeBin(bfr, con = out, size = 1L):\n",
      "“problem writing to connection”\n",
      "Warning message in writeBin(bfr, con = out, size = 1L):\n",
      "“problem writing to connection”\n",
      "Warning message in writeBin(bfr, con = out, size = 1L):\n",
      "“problem writing to connection”\n",
      "Warning message in writeBin(bfr, con = out, size = 1L):\n",
      "“problem writing to connection”\n",
      "Warning message in writeBin(bfr, con = out, size = 1L):\n",
      "“problem writing to connection”\n",
      "Warning message in writeBin(bfr, con = out, size = 1L):\n",
      "“problem writing to connection”\n",
      "Warning message in writeBin(bfr, con = out, size = 1L):\n",
      "“problem writing to connection”\n",
      "Warning message in writeBin(bfr, con = out, size = 1L):\n",
      "“problem writing to connection”\n",
      "Warning message in writeBin(bfr, con = out, size = 1L):\n",
      "“problem writing to connection”\n",
      "Warning message in writeBin(bfr, con = out, size = 1L):\n",
      "“problem writing to connection”\n",
      "Warning message in writeBin(bfr, con = out, size = 1L):\n",
      "“problem writing to connection”\n",
      "Warning message in writeBin(bfr, con = out, size = 1L):\n",
      "“problem writing to connection”\n",
      "Warning message in writeBin(bfr, con = out, size = 1L):\n",
      "“problem writing to connection”\n",
      "Warning message in writeBin(bfr, con = out, size = 1L):\n",
      "“problem writing to connection”\n",
      "Warning message in writeBin(bfr, con = out, size = 1L):\n",
      "“problem writing to connection”\n",
      "Warning message in writeBin(bfr, con = out, size = 1L):\n",
      "“problem writing to connection”\n",
      "Warning message in writeBin(bfr, con = out, size = 1L):\n",
      "“problem writing to connection”\n",
      "Warning message in writeBin(bfr, con = out, size = 1L):\n",
      "“problem writing to connection”\n",
      "Warning message in writeBin(bfr, con = out, size = 1L):\n",
      "“problem writing to connection”\n",
      "Warning message in writeBin(bfr, con = out, size = 1L):\n",
      "“problem writing to connection”\n",
      "Warning message in writeBin(bfr, con = out, size = 1L):\n",
      "“problem writing to connection”\n",
      "Warning message in writeBin(bfr, con = out, size = 1L):\n",
      "“problem writing to connection”\n",
      "Warning message in writeBin(bfr, con = out, size = 1L):\n",
      "“problem writing to connection”\n",
      "Warning message in writeBin(bfr, con = out, size = 1L):\n",
      "“problem writing to connection”\n",
      "Warning message in writeBin(bfr, con = out, size = 1L):\n",
      "“problem writing to connection”\n",
      "Warning message in writeBin(bfr, con = out, size = 1L):\n",
      "“problem writing to connection”\n",
      "Warning message in writeBin(bfr, con = out, size = 1L):\n",
      "“problem writing to connection”\n",
      "Warning message in writeBin(bfr, con = out, size = 1L):\n",
      "“problem writing to connection”\n",
      "Warning message in writeBin(bfr, con = out, size = 1L):\n",
      "“problem writing to connection”\n",
      "Warning message in writeBin(bfr, con = out, size = 1L):\n",
      "“problem writing to connection”\n",
      "Warning message in writeBin(bfr, con = out, size = 1L):\n",
      "“problem writing to connection”\n",
      "Warning message in writeBin(bfr, con = out, size = 1L):\n",
      "“problem writing to connection”\n",
      "Warning message in writeBin(bfr, con = out, size = 1L):\n",
      "“problem writing to connection”\n",
      "Warning message in writeBin(bfr, con = out, size = 1L):\n",
      "“problem writing to connection”\n",
      "Warning message in writeBin(bfr, con = out, size = 1L):\n",
      "“problem writing to connection”\n",
      "Warning message in writeBin(bfr, con = out, size = 1L):\n",
      "“problem writing to connection”\n",
      "Warning message in writeBin(bfr, con = out, size = 1L):\n",
      "“problem writing to connection”\n",
      "Warning message in writeBin(bfr, con = out, size = 1L):\n",
      "“problem writing to connection”\n",
      "Warning message in writeBin(bfr, con = out, size = 1L):\n",
      "“problem writing to connection”\n",
      "Warning message in writeBin(bfr, con = out, size = 1L):\n",
      "“problem writing to connection”\n",
      "Warning message in writeBin(bfr, con = out, size = 1L):\n",
      "“problem writing to connection”\n",
      "Warning message in writeBin(bfr, con = out, size = 1L):\n",
      "“problem writing to connection”\n",
      "Warning message in writeBin(bfr, con = out, size = 1L):\n",
      "“problem writing to connection”\n",
      "Warning message in writeBin(bfr, con = out, size = 1L):\n",
      "“problem writing to connection”\n",
      "Warning message in writeBin(bfr, con = out, size = 1L):\n",
      "“problem writing to connection”\n",
      "Warning message in writeBin(bfr, con = out, size = 1L):\n",
      "“problem writing to connection”\n",
      "Warning message in writeBin(bfr, con = out, size = 1L):\n",
      "“problem writing to connection”\n",
      "Warning message in writeBin(bfr, con = out, size = 1L):\n",
      "“problem writing to connection”\n",
      "Warning message in writeBin(bfr, con = out, size = 1L):\n",
      "“problem writing to connection”\n",
      "Warning message in writeBin(bfr, con = out, size = 1L):\n",
      "“problem writing to connection”\n",
      "Warning message in writeBin(bfr, con = out, size = 1L):\n",
      "“problem writing to connection”\n",
      "Warning message in writeBin(bfr, con = out, size = 1L):\n",
      "“problem writing to connection”\n",
      "Warning message in writeBin(bfr, con = out, size = 1L):\n",
      "“problem writing to connection”\n",
      "Warning message in writeBin(bfr, con = out, size = 1L):\n",
      "“problem writing to connection”\n",
      "Warning message in writeBin(bfr, con = out, size = 1L):\n",
      "“problem writing to connection”\n",
      "Warning message in writeBin(bfr, con = out, size = 1L):\n",
      "“problem writing to connection”\n",
      "Warning message in writeBin(bfr, con = out, size = 1L):\n",
      "“problem writing to connection”\n",
      "Warning message in writeBin(bfr, con = out, size = 1L):\n",
      "“problem writing to connection”\n",
      "Warning message in writeBin(bfr, con = out, size = 1L):\n",
      "“problem writing to connection”\n",
      "Warning message in writeBin(bfr, con = out, size = 1L):\n",
      "“problem writing to connection”\n",
      "Warning message in writeBin(bfr, con = out, size = 1L):\n",
      "“problem writing to connection”\n",
      "Warning message in writeBin(bfr, con = out, size = 1L):\n",
      "“problem writing to connection”\n",
      "Warning message in writeBin(bfr, con = out, size = 1L):\n",
      "“problem writing to connection”\n",
      "Warning message in writeBin(bfr, con = out, size = 1L):\n",
      "“problem writing to connection”\n",
      "Warning message in writeBin(bfr, con = out, size = 1L):\n",
      "“problem writing to connection”\n",
      "Warning message in writeBin(bfr, con = out, size = 1L):\n",
      "“problem writing to connection”\n",
      "Warning message in writeBin(bfr, con = out, size = 1L):\n",
      "“problem writing to connection”\n",
      "Warning message in writeBin(bfr, con = out, size = 1L):\n",
      "“problem writing to connection”\n",
      "Warning message in writeBin(bfr, con = out, size = 1L):\n",
      "“problem writing to connection”\n",
      "Warning message in writeBin(bfr, con = out, size = 1L):\n",
      "“problem writing to connection”\n",
      "Warning message in writeBin(bfr, con = out, size = 1L):\n",
      "“problem writing to connection”\n",
      "Warning message in writeBin(bfr, con = out, size = 1L):\n",
      "“problem writing to connection”\n",
      "Warning message in writeBin(bfr, con = out, size = 1L):\n",
      "“problem writing to connection”\n",
      "Warning message in writeBin(bfr, con = out, size = 1L):\n",
      "“problem writing to connection”\n",
      "Warning message in writeBin(bfr, con = out, size = 1L):\n",
      "“problem writing to connection”\n",
      "Warning message in writeBin(bfr, con = out, size = 1L):\n",
      "“problem writing to connection”\n",
      "Warning message in writeBin(bfr, con = out, size = 1L):\n",
      "“problem writing to connection”\n",
      "Warning message in writeBin(bfr, con = out, size = 1L):\n",
      "“problem writing to connection”\n",
      "Warning message in writeBin(bfr, con = out, size = 1L):\n",
      "“problem writing to connection”\n",
      "Warning message in writeBin(bfr, con = out, size = 1L):\n",
      "“problem writing to connection”\n",
      "Warning message in writeBin(bfr, con = out, size = 1L):\n",
      "“problem writing to connection”\n",
      "Warning message in writeBin(bfr, con = out, size = 1L):\n",
      "“problem writing to connection”\n",
      "Warning message in writeBin(bfr, con = out, size = 1L):\n",
      "“problem writing to connection”\n",
      "Warning message in writeBin(bfr, con = out, size = 1L):\n",
      "“problem writing to connection”\n",
      "Warning message in writeBin(bfr, con = out, size = 1L):\n",
      "“problem writing to connection”\n",
      "Warning message in writeBin(bfr, con = out, size = 1L):\n",
      "“problem writing to connection”\n",
      "Warning message in writeBin(bfr, con = out, size = 1L):\n",
      "“problem writing to connection”\n",
      "Warning message in writeBin(bfr, con = out, size = 1L):\n",
      "“problem writing to connection”\n",
      "Warning message in writeBin(bfr, con = out, size = 1L):\n",
      "“problem writing to connection”\n",
      "Warning message in writeBin(bfr, con = out, size = 1L):\n",
      "“problem writing to connection”\n",
      "Warning message in writeBin(bfr, con = out, size = 1L):\n",
      "“problem writing to connection”\n",
      "Warning message in writeBin(bfr, con = out, size = 1L):\n",
      "“problem writing to connection”\n",
      "Warning message in writeBin(bfr, con = out, size = 1L):\n",
      "“problem writing to connection”\n"
     ]
    },
    {
     "name": "stderr",
     "output_type": "stream",
     "text": [
      "Warning message in writeBin(bfr, con = out, size = 1L):\n",
      "“problem writing to connection”\n",
      "Warning message in writeBin(bfr, con = out, size = 1L):\n",
      "“problem writing to connection”\n",
      "Warning message in writeBin(bfr, con = out, size = 1L):\n",
      "“problem writing to connection”\n",
      "Warning message in writeBin(bfr, con = out, size = 1L):\n",
      "“problem writing to connection”\n",
      "Warning message in writeBin(bfr, con = out, size = 1L):\n",
      "“problem writing to connection”\n",
      "Warning message in writeBin(bfr, con = out, size = 1L):\n",
      "“problem writing to connection”\n",
      "Warning message in writeBin(bfr, con = out, size = 1L):\n",
      "“problem writing to connection”\n",
      "Warning message in writeBin(bfr, con = out, size = 1L):\n",
      "“problem writing to connection”\n",
      "Warning message in writeBin(bfr, con = out, size = 1L):\n",
      "“problem writing to connection”\n",
      "Warning message in writeBin(bfr, con = out, size = 1L):\n",
      "“problem writing to connection”\n",
      "Warning message in writeBin(bfr, con = out, size = 1L):\n",
      "“problem writing to connection”\n",
      "Warning message in writeBin(bfr, con = out, size = 1L):\n",
      "“problem writing to connection”\n",
      "Warning message in writeBin(bfr, con = out, size = 1L):\n",
      "“problem writing to connection”\n",
      "Warning message in writeBin(bfr, con = out, size = 1L):\n",
      "“problem writing to connection”\n",
      "Warning message in writeBin(bfr, con = out, size = 1L):\n",
      "“problem writing to connection”\n",
      "Warning message in writeBin(bfr, con = out, size = 1L):\n",
      "“problem writing to connection”\n",
      "Warning message in writeBin(bfr, con = out, size = 1L):\n",
      "“problem writing to connection”\n",
      "Warning message in writeBin(bfr, con = out, size = 1L):\n",
      "“problem writing to connection”\n",
      "Warning message in writeBin(bfr, con = out, size = 1L):\n",
      "“problem writing to connection”\n",
      "Warning message in writeBin(bfr, con = out, size = 1L):\n",
      "“problem writing to connection”\n",
      "Warning message in writeBin(bfr, con = out, size = 1L):\n",
      "“problem writing to connection”\n",
      "Warning message in writeBin(bfr, con = out, size = 1L):\n",
      "“problem writing to connection”\n",
      "Warning message in writeBin(bfr, con = out, size = 1L):\n",
      "“problem writing to connection”\n",
      "Warning message in writeBin(bfr, con = out, size = 1L):\n",
      "“problem writing to connection”\n",
      "Warning message in writeBin(bfr, con = out, size = 1L):\n",
      "“problem writing to connection”\n",
      "Warning message in writeBin(bfr, con = out, size = 1L):\n",
      "“problem writing to connection”\n",
      "Warning message in writeBin(bfr, con = out, size = 1L):\n",
      "“problem writing to connection”\n",
      "Warning message in writeBin(bfr, con = out, size = 1L):\n",
      "“problem writing to connection”\n",
      "Warning message in writeBin(bfr, con = out, size = 1L):\n",
      "“problem writing to connection”\n",
      "Warning message in writeBin(bfr, con = out, size = 1L):\n",
      "“problem writing to connection”\n",
      "Warning message in writeBin(bfr, con = out, size = 1L):\n",
      "“problem writing to connection”\n",
      "Warning message in writeBin(bfr, con = out, size = 1L):\n",
      "“problem writing to connection”\n",
      "Warning message in writeBin(bfr, con = out, size = 1L):\n",
      "“problem writing to connection”\n",
      "Warning message in writeBin(bfr, con = out, size = 1L):\n",
      "“problem writing to connection”\n",
      "Warning message in writeBin(bfr, con = out, size = 1L):\n",
      "“problem writing to connection”\n",
      "Warning message in writeBin(bfr, con = out, size = 1L):\n",
      "“problem writing to connection”\n",
      "Warning message in writeBin(bfr, con = out, size = 1L):\n",
      "“problem writing to connection”\n",
      "Warning message in writeBin(bfr, con = out, size = 1L):\n",
      "“problem writing to connection”\n",
      "Warning message in writeBin(bfr, con = out, size = 1L):\n",
      "“problem writing to connection”\n",
      "Warning message in writeBin(bfr, con = out, size = 1L):\n",
      "“problem writing to connection”\n",
      "Warning message in writeBin(bfr, con = out, size = 1L):\n",
      "“problem writing to connection”\n",
      "Warning message in writeBin(bfr, con = out, size = 1L):\n",
      "“problem writing to connection”\n",
      "Warning message in writeBin(bfr, con = out, size = 1L):\n",
      "“problem writing to connection”\n",
      "Warning message in writeBin(bfr, con = out, size = 1L):\n",
      "“problem writing to connection”\n",
      "Warning message in writeBin(bfr, con = out, size = 1L):\n",
      "“problem writing to connection”\n",
      "Warning message in writeBin(bfr, con = out, size = 1L):\n",
      "“problem writing to connection”\n",
      "Warning message in writeBin(bfr, con = out, size = 1L):\n",
      "“problem writing to connection”\n",
      "Warning message in writeBin(bfr, con = out, size = 1L):\n",
      "“problem writing to connection”\n",
      "Warning message in writeBin(bfr, con = out, size = 1L):\n",
      "“problem writing to connection”\n",
      "Warning message in writeBin(bfr, con = out, size = 1L):\n",
      "“problem writing to connection”\n",
      "Warning message in writeBin(bfr, con = out, size = 1L):\n",
      "“problem writing to connection”\n",
      "Warning message in writeBin(bfr, con = out, size = 1L):\n",
      "“problem writing to connection”\n",
      "Warning message in writeBin(bfr, con = out, size = 1L):\n",
      "“problem writing to connection”\n",
      "Warning message in writeBin(bfr, con = out, size = 1L):\n",
      "“problem writing to connection”\n",
      "Warning message in writeBin(bfr, con = out, size = 1L):\n",
      "“problem writing to connection”\n",
      "Warning message in writeBin(bfr, con = out, size = 1L):\n",
      "“problem writing to connection”\n",
      "Warning message in writeBin(bfr, con = out, size = 1L):\n",
      "“problem writing to connection”\n",
      "Warning message in writeBin(bfr, con = out, size = 1L):\n",
      "“problem writing to connection”\n",
      "Warning message in writeBin(bfr, con = out, size = 1L):\n",
      "“problem writing to connection”\n",
      "Warning message in writeBin(bfr, con = out, size = 1L):\n",
      "“problem writing to connection”\n",
      "Warning message in writeBin(bfr, con = out, size = 1L):\n",
      "“problem writing to connection”\n",
      "Warning message in writeBin(bfr, con = out, size = 1L):\n",
      "“problem writing to connection”\n",
      "Warning message in writeBin(bfr, con = out, size = 1L):\n",
      "“problem writing to connection”\n",
      "Warning message in writeBin(bfr, con = out, size = 1L):\n",
      "“problem writing to connection”\n",
      "Warning message in writeBin(bfr, con = out, size = 1L):\n",
      "“problem writing to connection”\n",
      "Warning message in writeBin(bfr, con = out, size = 1L):\n",
      "“problem writing to connection”\n",
      "Warning message in writeBin(bfr, con = out, size = 1L):\n",
      "“problem writing to connection”\n",
      "Warning message in writeBin(bfr, con = out, size = 1L):\n",
      "“problem writing to connection”\n",
      "Warning message in writeBin(bfr, con = out, size = 1L):\n",
      "“problem writing to connection”\n",
      "Warning message in writeBin(bfr, con = out, size = 1L):\n",
      "“problem writing to connection”\n",
      "Warning message in writeBin(bfr, con = out, size = 1L):\n",
      "“problem writing to connection”\n",
      "Warning message in writeBin(bfr, con = out, size = 1L):\n",
      "“problem writing to connection”\n",
      "Warning message in writeBin(bfr, con = out, size = 1L):\n",
      "“problem writing to connection”\n",
      "Warning message in writeBin(bfr, con = out, size = 1L):\n",
      "“problem writing to connection”\n",
      "Warning message in writeBin(bfr, con = out, size = 1L):\n",
      "“problem writing to connection”\n",
      "Warning message in writeBin(bfr, con = out, size = 1L):\n",
      "“problem writing to connection”\n",
      "Warning message in writeBin(bfr, con = out, size = 1L):\n",
      "“problem writing to connection”\n",
      "Warning message in writeBin(bfr, con = out, size = 1L):\n",
      "“problem writing to connection”\n",
      "Warning message in writeBin(bfr, con = out, size = 1L):\n",
      "“problem writing to connection”\n",
      "Warning message in writeBin(bfr, con = out, size = 1L):\n",
      "“problem writing to connection”\n",
      "Warning message in writeBin(bfr, con = out, size = 1L):\n",
      "“problem writing to connection”\n",
      "Warning message in writeBin(bfr, con = out, size = 1L):\n",
      "“problem writing to connection”\n",
      "Warning message in writeBin(bfr, con = out, size = 1L):\n",
      "“problem writing to connection”\n",
      "Warning message in writeBin(bfr, con = out, size = 1L):\n",
      "“problem writing to connection”\n",
      "Warning message in writeBin(bfr, con = out, size = 1L):\n",
      "“problem writing to connection”\n",
      "Warning message in writeBin(bfr, con = out, size = 1L):\n",
      "“problem writing to connection”\n",
      "Warning message in writeBin(bfr, con = out, size = 1L):\n",
      "“problem writing to connection”\n",
      "Warning message in writeBin(bfr, con = out, size = 1L):\n",
      "“problem writing to connection”\n",
      "Warning message in writeBin(bfr, con = out, size = 1L):\n",
      "“problem writing to connection”\n",
      "Warning message in writeBin(bfr, con = out, size = 1L):\n",
      "“problem writing to connection”\n",
      "Warning message in writeBin(bfr, con = out, size = 1L):\n",
      "“problem writing to connection”\n",
      "Warning message in writeBin(bfr, con = out, size = 1L):\n",
      "“problem writing to connection”\n",
      "Warning message in writeBin(bfr, con = out, size = 1L):\n",
      "“problem writing to connection”\n",
      "Warning message in writeBin(bfr, con = out, size = 1L):\n",
      "“problem writing to connection”\n"
     ]
    },
    {
     "name": "stderr",
     "output_type": "stream",
     "text": [
      "Warning message in writeBin(bfr, con = out, size = 1L):\n",
      "“problem writing to connection”\n",
      "Warning message in writeBin(bfr, con = out, size = 1L):\n",
      "“problem writing to connection”\n",
      "Warning message in writeBin(bfr, con = out, size = 1L):\n",
      "“problem writing to connection”\n",
      "Warning message in writeBin(bfr, con = out, size = 1L):\n",
      "“problem writing to connection”\n",
      "Warning message in writeBin(bfr, con = out, size = 1L):\n",
      "“problem writing to connection”\n",
      "Warning message in writeBin(bfr, con = out, size = 1L):\n",
      "“problem writing to connection”\n",
      "Warning message in writeBin(bfr, con = out, size = 1L):\n",
      "“problem writing to connection”\n",
      "Warning message in writeBin(bfr, con = out, size = 1L):\n",
      "“problem writing to connection”\n",
      "Warning message in writeBin(bfr, con = out, size = 1L):\n",
      "“problem writing to connection”\n",
      "Warning message in writeBin(bfr, con = out, size = 1L):\n",
      "“problem writing to connection”\n",
      "Warning message in writeBin(bfr, con = out, size = 1L):\n",
      "“problem writing to connection”\n",
      "Warning message in writeBin(bfr, con = out, size = 1L):\n",
      "“problem writing to connection”\n",
      "Warning message in writeBin(bfr, con = out, size = 1L):\n",
      "“problem writing to connection”\n",
      "Warning message in writeBin(bfr, con = out, size = 1L):\n",
      "“problem writing to connection”\n",
      "Warning message in writeBin(bfr, con = out, size = 1L):\n",
      "“problem writing to connection”\n",
      "Warning message in writeBin(bfr, con = out, size = 1L):\n",
      "“problem writing to connection”\n",
      "Warning message in writeBin(bfr, con = out, size = 1L):\n",
      "“problem writing to connection”\n",
      "Warning message in writeBin(bfr, con = out, size = 1L):\n",
      "“problem writing to connection”\n",
      "Warning message in writeBin(bfr, con = out, size = 1L):\n",
      "“problem writing to connection”\n",
      "Warning message in writeBin(bfr, con = out, size = 1L):\n",
      "“problem writing to connection”\n",
      "Warning message in writeBin(bfr, con = out, size = 1L):\n",
      "“problem writing to connection”\n",
      "Warning message in writeBin(bfr, con = out, size = 1L):\n",
      "“problem writing to connection”\n",
      "Warning message in writeBin(bfr, con = out, size = 1L):\n",
      "“problem writing to connection”\n",
      "Warning message in writeBin(bfr, con = out, size = 1L):\n",
      "“problem writing to connection”\n",
      "Warning message in writeBin(bfr, con = out, size = 1L):\n",
      "“problem writing to connection”\n",
      "Warning message in writeBin(bfr, con = out, size = 1L):\n",
      "“problem writing to connection”\n",
      "Warning message in writeBin(bfr, con = out, size = 1L):\n",
      "“problem writing to connection”\n",
      "Warning message in writeBin(bfr, con = out, size = 1L):\n",
      "“problem writing to connection”\n",
      "Warning message in writeBin(bfr, con = out, size = 1L):\n",
      "“problem writing to connection”\n",
      "Warning message in writeBin(bfr, con = out, size = 1L):\n",
      "“problem writing to connection”\n",
      "Warning message in writeBin(bfr, con = out, size = 1L):\n",
      "“problem writing to connection”\n",
      "Warning message in writeBin(bfr, con = out, size = 1L):\n",
      "“problem writing to connection”\n",
      "Warning message in writeBin(bfr, con = out, size = 1L):\n",
      "“problem writing to connection”\n",
      "Warning message in writeBin(bfr, con = out, size = 1L):\n",
      "“problem writing to connection”\n",
      "Warning message in writeBin(bfr, con = out, size = 1L):\n",
      "“problem writing to connection”\n",
      "Warning message in writeBin(bfr, con = out, size = 1L):\n",
      "“problem writing to connection”\n",
      "Warning message in writeBin(bfr, con = out, size = 1L):\n",
      "“problem writing to connection”\n",
      "Warning message in writeBin(bfr, con = out, size = 1L):\n",
      "“problem writing to connection”\n",
      "Warning message in writeBin(bfr, con = out, size = 1L):\n",
      "“problem writing to connection”\n",
      "Warning message in writeBin(bfr, con = out, size = 1L):\n",
      "“problem writing to connection”\n",
      "Warning message in writeBin(bfr, con = out, size = 1L):\n",
      "“problem writing to connection”\n",
      "Warning message in writeBin(bfr, con = out, size = 1L):\n",
      "“problem writing to connection”\n",
      "Warning message in writeBin(bfr, con = out, size = 1L):\n",
      "“problem writing to connection”\n",
      "Warning message in writeBin(bfr, con = out, size = 1L):\n",
      "“problem writing to connection”\n",
      "Warning message in writeBin(bfr, con = out, size = 1L):\n",
      "“problem writing to connection”\n",
      "Warning message in writeBin(bfr, con = out, size = 1L):\n",
      "“problem writing to connection”\n",
      "Warning message in writeBin(bfr, con = out, size = 1L):\n",
      "“problem writing to connection”\n",
      "Warning message in writeBin(bfr, con = out, size = 1L):\n",
      "“problem writing to connection”\n",
      "Warning message in writeBin(bfr, con = out, size = 1L):\n",
      "“problem writing to connection”\n",
      "Warning message in writeBin(bfr, con = out, size = 1L):\n",
      "“problem writing to connection”\n",
      "Warning message in writeBin(bfr, con = out, size = 1L):\n",
      "“problem writing to connection”\n",
      "Warning message in writeBin(bfr, con = out, size = 1L):\n",
      "“problem writing to connection”\n",
      "Warning message in writeBin(bfr, con = out, size = 1L):\n",
      "“problem writing to connection”\n",
      "Warning message in writeBin(bfr, con = out, size = 1L):\n",
      "“problem writing to connection”\n",
      "Warning message in writeBin(bfr, con = out, size = 1L):\n",
      "“problem writing to connection”\n",
      "Warning message in writeBin(bfr, con = out, size = 1L):\n",
      "“problem writing to connection”\n",
      "Warning message in writeBin(bfr, con = out, size = 1L):\n",
      "“problem writing to connection”\n",
      "Warning message in writeBin(bfr, con = out, size = 1L):\n",
      "“problem writing to connection”\n",
      "Warning message in writeBin(bfr, con = out, size = 1L):\n",
      "“problem writing to connection”\n",
      "Warning message in writeBin(bfr, con = out, size = 1L):\n",
      "“problem writing to connection”\n",
      "Warning message in writeBin(bfr, con = out, size = 1L):\n",
      "“problem writing to connection”\n",
      "Warning message in writeBin(bfr, con = out, size = 1L):\n",
      "“problem writing to connection”\n",
      "Warning message in writeBin(bfr, con = out, size = 1L):\n",
      "“problem writing to connection”\n",
      "Warning message in writeBin(bfr, con = out, size = 1L):\n",
      "“problem writing to connection”\n",
      "Warning message in writeBin(bfr, con = out, size = 1L):\n",
      "“problem writing to connection”\n",
      "Warning message in writeBin(bfr, con = out, size = 1L):\n",
      "“problem writing to connection”\n",
      "Warning message in writeBin(bfr, con = out, size = 1L):\n",
      "“problem writing to connection”\n",
      "Warning message in writeBin(bfr, con = out, size = 1L):\n",
      "“problem writing to connection”\n",
      "Warning message in writeBin(bfr, con = out, size = 1L):\n",
      "“problem writing to connection”\n",
      "Warning message in writeBin(bfr, con = out, size = 1L):\n",
      "“problem writing to connection”\n",
      "Warning message in writeBin(bfr, con = out, size = 1L):\n",
      "“problem writing to connection”\n",
      "Warning message in writeBin(bfr, con = out, size = 1L):\n",
      "“problem writing to connection”\n",
      "Warning message in writeBin(bfr, con = out, size = 1L):\n",
      "“problem writing to connection”\n",
      "Warning message in writeBin(bfr, con = out, size = 1L):\n",
      "“problem writing to connection”\n",
      "Warning message in writeBin(bfr, con = out, size = 1L):\n",
      "“problem writing to connection”\n",
      "Warning message in writeBin(bfr, con = out, size = 1L):\n",
      "“problem writing to connection”\n",
      "Warning message in writeBin(bfr, con = out, size = 1L):\n",
      "“problem writing to connection”\n",
      "Warning message in writeBin(bfr, con = out, size = 1L):\n",
      "“problem writing to connection”\n",
      "Warning message in writeBin(bfr, con = out, size = 1L):\n",
      "“problem writing to connection”\n",
      "Warning message in writeBin(bfr, con = out, size = 1L):\n",
      "“problem writing to connection”\n",
      "Warning message in writeBin(bfr, con = out, size = 1L):\n",
      "“problem writing to connection”\n",
      "Warning message in writeBin(bfr, con = out, size = 1L):\n",
      "“problem writing to connection”\n",
      "Warning message in writeBin(bfr, con = out, size = 1L):\n",
      "“problem writing to connection”\n",
      "Warning message in writeBin(bfr, con = out, size = 1L):\n",
      "“problem writing to connection”\n",
      "Warning message in writeBin(bfr, con = out, size = 1L):\n",
      "“problem writing to connection”\n",
      "Warning message in writeBin(bfr, con = out, size = 1L):\n",
      "“problem writing to connection”\n",
      "Warning message in writeBin(bfr, con = out, size = 1L):\n",
      "“problem writing to connection”\n",
      "Warning message in writeBin(bfr, con = out, size = 1L):\n",
      "“problem writing to connection”\n",
      "Warning message in writeBin(bfr, con = out, size = 1L):\n",
      "“problem writing to connection”\n",
      "Warning message in writeBin(bfr, con = out, size = 1L):\n",
      "“problem writing to connection”\n",
      "Warning message in writeBin(bfr, con = out, size = 1L):\n",
      "“problem writing to connection”\n",
      "Warning message in writeBin(bfr, con = out, size = 1L):\n",
      "“problem writing to connection”\n",
      "Warning message in writeBin(bfr, con = out, size = 1L):\n",
      "“problem writing to connection”\n",
      "Warning message in writeBin(bfr, con = out, size = 1L):\n",
      "“problem writing to connection”\n"
     ]
    },
    {
     "name": "stderr",
     "output_type": "stream",
     "text": [
      "Warning message in writeBin(bfr, con = out, size = 1L):\n",
      "“problem writing to connection”\n",
      "Warning message in writeBin(bfr, con = out, size = 1L):\n",
      "“problem writing to connection”\n",
      "Warning message in writeBin(bfr, con = out, size = 1L):\n",
      "“problem writing to connection”\n",
      "Warning message in writeBin(bfr, con = out, size = 1L):\n",
      "“problem writing to connection”\n",
      "Warning message in writeBin(bfr, con = out, size = 1L):\n",
      "“problem writing to connection”\n",
      "Warning message in writeBin(bfr, con = out, size = 1L):\n",
      "“problem writing to connection”\n",
      "Warning message in writeBin(bfr, con = out, size = 1L):\n",
      "“problem writing to connection”\n",
      "Warning message in writeBin(bfr, con = out, size = 1L):\n",
      "“problem writing to connection”\n",
      "Warning message in writeBin(bfr, con = out, size = 1L):\n",
      "“problem writing to connection”\n",
      "Warning message in writeBin(bfr, con = out, size = 1L):\n",
      "“problem writing to connection”\n",
      "Warning message in writeBin(bfr, con = out, size = 1L):\n",
      "“problem writing to connection”\n",
      "Warning message in writeBin(bfr, con = out, size = 1L):\n",
      "“problem writing to connection”\n",
      "Warning message in writeBin(bfr, con = out, size = 1L):\n",
      "“problem writing to connection”\n",
      "Warning message in writeBin(bfr, con = out, size = 1L):\n",
      "“problem writing to connection”\n",
      "Warning message in writeBin(bfr, con = out, size = 1L):\n",
      "“problem writing to connection”\n",
      "Warning message in writeBin(bfr, con = out, size = 1L):\n",
      "“problem writing to connection”\n",
      "Warning message in writeBin(bfr, con = out, size = 1L):\n",
      "“problem writing to connection”\n",
      "Warning message in writeBin(bfr, con = out, size = 1L):\n",
      "“problem writing to connection”\n",
      "Warning message in writeBin(bfr, con = out, size = 1L):\n",
      "“problem writing to connection”\n",
      "Warning message in writeBin(bfr, con = out, size = 1L):\n",
      "“problem writing to connection”\n",
      "Warning message in writeBin(bfr, con = out, size = 1L):\n",
      "“problem writing to connection”\n",
      "Warning message in writeBin(bfr, con = out, size = 1L):\n",
      "“problem writing to connection”\n",
      "Warning message in writeBin(bfr, con = out, size = 1L):\n",
      "“problem writing to connection”\n",
      "Warning message in writeBin(bfr, con = out, size = 1L):\n",
      "“problem writing to connection”\n",
      "Warning message in writeBin(bfr, con = out, size = 1L):\n",
      "“problem writing to connection”\n",
      "Warning message in writeBin(bfr, con = out, size = 1L):\n",
      "“problem writing to connection”\n",
      "Warning message in writeBin(bfr, con = out, size = 1L):\n",
      "“problem writing to connection”\n",
      "Warning message in writeBin(bfr, con = out, size = 1L):\n",
      "“problem writing to connection”\n",
      "Warning message in writeBin(bfr, con = out, size = 1L):\n",
      "“problem writing to connection”\n",
      "Warning message in writeBin(bfr, con = out, size = 1L):\n",
      "“problem writing to connection”\n",
      "Warning message in writeBin(bfr, con = out, size = 1L):\n",
      "“problem writing to connection”\n",
      "Warning message in writeBin(bfr, con = out, size = 1L):\n",
      "“problem writing to connection”\n",
      "Warning message in writeBin(bfr, con = out, size = 1L):\n",
      "“problem writing to connection”\n",
      "Warning message in writeBin(bfr, con = out, size = 1L):\n",
      "“problem writing to connection”\n",
      "Warning message in writeBin(bfr, con = out, size = 1L):\n",
      "“problem writing to connection”\n",
      "Warning message in writeBin(bfr, con = out, size = 1L):\n",
      "“problem writing to connection”\n",
      "Warning message in writeBin(bfr, con = out, size = 1L):\n",
      "“problem writing to connection”\n",
      "Warning message in writeBin(bfr, con = out, size = 1L):\n",
      "“problem writing to connection”\n",
      "Warning message in writeBin(bfr, con = out, size = 1L):\n",
      "“problem writing to connection”\n",
      "Warning message in writeBin(bfr, con = out, size = 1L):\n",
      "“problem writing to connection”\n",
      "Warning message in writeBin(bfr, con = out, size = 1L):\n",
      "“problem writing to connection”\n",
      "Warning message in writeBin(bfr, con = out, size = 1L):\n",
      "“problem writing to connection”\n",
      "Warning message in writeBin(bfr, con = out, size = 1L):\n",
      "“problem writing to connection”\n",
      "Warning message in writeBin(bfr, con = out, size = 1L):\n",
      "“problem writing to connection”\n",
      "Warning message in writeBin(bfr, con = out, size = 1L):\n",
      "“problem writing to connection”\n",
      "Warning message in writeBin(bfr, con = out, size = 1L):\n",
      "“problem writing to connection”\n",
      "Warning message in writeBin(bfr, con = out, size = 1L):\n",
      "“problem writing to connection”\n",
      "Warning message in writeBin(bfr, con = out, size = 1L):\n",
      "“problem writing to connection”\n",
      "Warning message in writeBin(bfr, con = out, size = 1L):\n",
      "“problem writing to connection”\n",
      "Warning message in writeBin(bfr, con = out, size = 1L):\n",
      "“problem writing to connection”\n",
      "Warning message in writeBin(bfr, con = out, size = 1L):\n",
      "“problem writing to connection”\n",
      "Warning message in writeBin(bfr, con = out, size = 1L):\n",
      "“problem writing to connection”\n",
      "Warning message in writeBin(bfr, con = out, size = 1L):\n",
      "“problem writing to connection”\n",
      "Warning message in writeBin(bfr, con = out, size = 1L):\n",
      "“problem writing to connection”\n",
      "Warning message in writeBin(bfr, con = out, size = 1L):\n",
      "“problem writing to connection”\n",
      "Warning message in writeBin(bfr, con = out, size = 1L):\n",
      "“problem writing to connection”\n",
      "Warning message in writeBin(bfr, con = out, size = 1L):\n",
      "“problem writing to connection”\n",
      "Warning message in writeBin(bfr, con = out, size = 1L):\n",
      "“problem writing to connection”\n",
      "Warning message in writeBin(bfr, con = out, size = 1L):\n",
      "“problem writing to connection”\n",
      "Warning message in writeBin(bfr, con = out, size = 1L):\n",
      "“problem writing to connection”\n",
      "Warning message in writeBin(bfr, con = out, size = 1L):\n",
      "“problem writing to connection”\n",
      "Warning message in writeBin(bfr, con = out, size = 1L):\n",
      "“problem writing to connection”\n",
      "Warning message in writeBin(bfr, con = out, size = 1L):\n",
      "“problem writing to connection”\n",
      "Warning message in writeBin(bfr, con = out, size = 1L):\n",
      "“problem writing to connection”\n",
      "Warning message in writeBin(bfr, con = out, size = 1L):\n",
      "“problem writing to connection”\n",
      "Warning message in writeBin(bfr, con = out, size = 1L):\n",
      "“problem writing to connection”\n",
      "Warning message in writeBin(bfr, con = out, size = 1L):\n",
      "“problem writing to connection”\n",
      "Warning message in writeBin(bfr, con = out, size = 1L):\n",
      "“problem writing to connection”\n",
      "Warning message in writeBin(bfr, con = out, size = 1L):\n",
      "“problem writing to connection”\n",
      "Warning message in writeBin(bfr, con = out, size = 1L):\n",
      "“problem writing to connection”\n",
      "Warning message in writeBin(bfr, con = out, size = 1L):\n",
      "“problem writing to connection”\n",
      "Warning message in writeBin(bfr, con = out, size = 1L):\n",
      "“problem writing to connection”\n",
      "Warning message in writeBin(bfr, con = out, size = 1L):\n",
      "“problem writing to connection”\n",
      "Warning message in writeBin(bfr, con = out, size = 1L):\n",
      "“problem writing to connection”\n",
      "Warning message in writeBin(bfr, con = out, size = 1L):\n",
      "“problem writing to connection”\n",
      "Warning message in writeBin(bfr, con = out, size = 1L):\n",
      "“problem writing to connection”\n",
      "Warning message in writeBin(bfr, con = out, size = 1L):\n",
      "“problem writing to connection”\n",
      "Warning message in writeBin(bfr, con = out, size = 1L):\n",
      "“problem writing to connection”\n",
      "Warning message in writeBin(bfr, con = out, size = 1L):\n",
      "“problem writing to connection”\n",
      "Warning message in writeBin(bfr, con = out, size = 1L):\n",
      "“problem writing to connection”\n",
      "Warning message in writeBin(bfr, con = out, size = 1L):\n",
      "“problem writing to connection”\n",
      "Warning message in writeBin(bfr, con = out, size = 1L):\n",
      "“problem writing to connection”\n",
      "Warning message in writeBin(bfr, con = out, size = 1L):\n",
      "“problem writing to connection”\n",
      "Warning message in writeBin(bfr, con = out, size = 1L):\n",
      "“problem writing to connection”\n",
      "Warning message in writeBin(bfr, con = out, size = 1L):\n",
      "“problem writing to connection”\n",
      "Warning message in writeBin(bfr, con = out, size = 1L):\n",
      "“problem writing to connection”\n",
      "Warning message in writeBin(bfr, con = out, size = 1L):\n",
      "“problem writing to connection”\n",
      "Warning message in writeBin(bfr, con = out, size = 1L):\n",
      "“problem writing to connection”\n",
      "Warning message in writeBin(bfr, con = out, size = 1L):\n",
      "“problem writing to connection”\n",
      "Warning message in writeBin(bfr, con = out, size = 1L):\n",
      "“problem writing to connection”\n",
      "Warning message in writeBin(bfr, con = out, size = 1L):\n",
      "“problem writing to connection”\n",
      "Warning message in writeBin(bfr, con = out, size = 1L):\n",
      "“problem writing to connection”\n",
      "Warning message in writeBin(bfr, con = out, size = 1L):\n",
      "“problem writing to connection”\n",
      "Warning message in writeBin(bfr, con = out, size = 1L):\n",
      "“problem writing to connection”\n"
     ]
    },
    {
     "name": "stderr",
     "output_type": "stream",
     "text": [
      "Warning message in writeBin(bfr, con = out, size = 1L):\n",
      "“problem writing to connection”\n",
      "Warning message in writeBin(bfr, con = out, size = 1L):\n",
      "“problem writing to connection”\n",
      "Warning message in writeBin(bfr, con = out, size = 1L):\n",
      "“problem writing to connection”\n",
      "Warning message in writeBin(bfr, con = out, size = 1L):\n",
      "“problem writing to connection”\n",
      "Warning message in writeBin(bfr, con = out, size = 1L):\n",
      "“problem writing to connection”\n",
      "Warning message in writeBin(bfr, con = out, size = 1L):\n",
      "“problem writing to connection”\n",
      "Warning message in writeBin(bfr, con = out, size = 1L):\n",
      "“problem writing to connection”\n",
      "Warning message in writeBin(bfr, con = out, size = 1L):\n",
      "“problem writing to connection”\n",
      "Warning message in writeBin(bfr, con = out, size = 1L):\n",
      "“problem writing to connection”\n",
      "Warning message in writeBin(bfr, con = out, size = 1L):\n",
      "“problem writing to connection”\n"
     ]
    },
    {
     "name": "stdout",
     "output_type": "stream",
     "text": [
      "Avoidable 6.972 seconds. This file is very unusual: it ends abruptly without a final newline, and also its size is a multiple of 4096 bytes. Please properly end the last row with a newline using for example 'echo >> file' to avoid this  time to copy.\n"
     ]
    },
    {
     "name": "stderr",
     "output_type": "stream",
     "text": [
      "Warning message in fread(\"data/final_samples/formality_allmetrics_with_subreddits_op.df.tsv.gz\", :\n",
      "“Discarded single-line footer: <<fxhsme\tA friend?=block\t\"So lately I got very depressed, I tried looking for some online friends and holy shit they were awesome... But after some time they would block me for whatever reason. And yes, I'm drinking and it fucks up everything. I try to warn them before starting a \"\"friendship\"\", they say that everything is okay. But when I get attached, they block me without telling me why. Sometimes I cry, sometimes I wish that I could >>”\n"
     ]
    },
    {
     "data": {
      "text/html": [
       "5062435"
      ],
      "text/latex": [
       "5062435"
      ],
      "text/markdown": [
       "5062435"
      ],
      "text/plain": [
       "[1] 5062435"
      ]
     },
     "metadata": {},
     "output_type": "display_data"
    }
   ],
   "source": [
    "df = fread('data/final_samples/formality_allmetrics_with_subreddits_op.df.tsv.gz', sep='\\t')\n",
    "nrow(df)"
   ]
  },
  {
   "cell_type": "markdown",
   "metadata": {},
   "source": [
    "## Clean Data\n",
    "\n",
    "- Fix data types and remove a few aberrant values\n",
    "- Outlier removal (threshold for extreme outliers = 10\\*IQR)\n",
    "- Standardize some columns (not the [0,1] variables)"
   ]
  },
  {
   "cell_type": "code",
   "execution_count": 4,
   "metadata": {},
   "outputs": [],
   "source": [
    "remove_outlier <- function(x, thr=10){\n",
    "    iqr = IQR(x, na.rm=T)\n",
    "    lo = quantile(x, 0.25, na.rm=T) - thr*iqr\n",
    "    hi = quantile(x, 0.75, na.rm=T) + thr*iqr\n",
    "    x[x < lo] = lo\n",
    "    x[x > hi] = hi\n",
    "    x\n",
    "}"
   ]
  },
  {
   "cell_type": "code",
   "execution_count": 5,
   "metadata": {},
   "outputs": [
    {
     "data": {
      "text/html": [
       "5062435"
      ],
      "text/latex": [
       "5062435"
      ],
      "text/markdown": [
       "5062435"
      ],
      "text/plain": [
       "[1] 5062435"
      ]
     },
     "metadata": {},
     "output_type": "display_data"
    }
   ],
   "source": [
    "nrow(df)\n",
    "df <- df[controversiality %in% c('0','0.0','1','1.0'),]"
   ]
  },
  {
   "cell_type": "code",
   "execution_count": 6,
   "metadata": {},
   "outputs": [
    {
     "data": {
      "text/html": [
       "5062435"
      ],
      "text/latex": [
       "5062435"
      ],
      "text/markdown": [
       "5062435"
      ],
      "text/plain": [
       "[1] 5062435"
      ]
     },
     "metadata": {},
     "output_type": "display_data"
    },
    {
     "data": {
      "text/html": [
       "2446967"
      ],
      "text/latex": [
       "2446967"
      ],
      "text/markdown": [
       "2446967"
      ],
      "text/plain": [
       "[1] 2446967"
      ]
     },
     "metadata": {},
     "output_type": "display_data"
    }
   ],
   "source": [
    "nrow(df)\n",
    "df <- df %>%\n",
    "    filter(op_formality_score > 0) %>% #OP formality == 0 means there's no OP!\n",
    "    mutate(num_markers = scale(remove_outlier(num_markers)),\n",
    "           parent_num_markers = scale(remove_outlier(parent_num_markers)),\n",
    "           op_num_markers = scale(remove_outlier(op_num_markers)),\n",
    "           num_tokens = scale(remove_outlier(as.numeric(num_tokens))),\n",
    "           parent_num_tokens = scale(remove_outlier(as.numeric(parent_num_tokens))),\n",
    "           op_num_tokens = scale(remove_outlier(as.numeric(op_num_tokens))),\n",
    "           score = remove_outlier(as.numeric(score)),\n",
    "           parent_score = remove_outlier(as.numeric(parent_score)),\n",
    "           depth = remove_outlier(as.numeric(depth)),\n",
    "           max_depth = remove_outlier(as.numeric(max_depth)),\n",
    "           controversiality = as.integer(controversiality),\n",
    "           parent_controversiality = as.integer(parent_controversiality),\n",
    "           banned = ifelse(banned, 1, 0),\n",
    "           wait_time = remove_outlier(created_utc - parent_created_utc)/60/24,\n",
    "           tenure = remove_outlier(tenure)/60/60/24,\n",
    "           subreddit_activity = remove_outlier(subreddit_activity),\n",
    "           total_activity = remove_outlier(total_activity)\n",
    "          )\n",
    "nrow(df)"
   ]
  },
  {
   "cell_type": "code",
   "execution_count": 7,
   "metadata": {},
   "outputs": [
    {
     "data": {
      "text/plain": [
       "   Mode   FALSE    TRUE \n",
       "logical  346623   51336 "
      ]
     },
     "metadata": {},
     "output_type": "display_data"
    },
    {
     "data": {
      "text/plain": [
       "   Mode   FALSE    TRUE \n",
       "logical    6264   13054 "
      ]
     },
     "metadata": {},
     "output_type": "display_data"
    },
    {
     "data": {
      "text/plain": [
       "\n",
       "  FALSE    TRUE \n",
       "1159504 1287463 "
      ]
     },
     "metadata": {},
     "output_type": "display_data"
    },
    {
     "data": {
      "text/plain": [
       "\n",
       "  FALSE    TRUE \n",
       "2413508   33459 "
      ]
     },
     "metadata": {},
     "output_type": "display_data"
    }
   ],
   "source": [
    "re_min = 10\n",
    "\n",
    "x = table(df$author)\n",
    "summary(x >= re_min)\n",
    "\n",
    "x = table(df$subreddit)\n",
    "summary(x >= re_min)\n",
    "\n",
    "df <- df %>%\n",
    "    group_by(author) %>%\n",
    "    mutate(author_re = ifelse(n() >= re_min, author, 'other')) %>%\n",
    "    ungroup() %>%\n",
    "    group_by(subreddit) %>%\n",
    "    mutate(subreddit_re = ifelse(n() >= re_min, subreddit, 'other')) %>%\n",
    "    ungroup()\n",
    "\n",
    "table(df$author_re=='other')\n",
    "table(df$subreddit_re=='other')"
   ]
  },
  {
   "cell_type": "code",
   "execution_count": 8,
   "metadata": {},
   "outputs": [],
   "source": [
    "fwrite(df, 'data/final_samples/final_regression_op_data.tsv', sep='\\t', row.names=F)\n"
   ]
  },
  {
   "cell_type": "code",
   "execution_count": null,
   "metadata": {},
   "outputs": [],
   "source": []
  },
  {
   "cell_type": "markdown",
   "metadata": {},
   "source": [
    "## Basic Analysis"
   ]
  },
  {
   "cell_type": "code",
   "execution_count": 9,
   "metadata": {},
   "outputs": [
    {
     "name": "stderr",
     "output_type": "stream",
     "text": [
      "Warning message in setDT(df):\n",
      "“Some columns are a multi-column type (such as a matrix column): [5, 6, 18, 24, 25, 26]. setDT will retain these columns as-is but subsequent operations like grouping and joining may fail. Please consider as.data.table() instead which will create a new column for each embedded column.”\n"
     ]
    },
    {
     "data": {
      "text/html": [
       "<style>\n",
       ".list-inline {list-style: none; margin:0; padding: 0}\n",
       ".list-inline>li {display: inline-block}\n",
       ".list-inline>li:not(:last-child)::after {content: \"\\00b7\"; padding: 0 .5ex}\n",
       "</style>\n",
       "<ol class=list-inline><li>'data.table'</li><li>'data.frame'</li></ol>\n"
      ],
      "text/latex": [
       "\\begin{enumerate*}\n",
       "\\item 'data.table'\n",
       "\\item 'data.frame'\n",
       "\\end{enumerate*}\n"
      ],
      "text/markdown": [
       "1. 'data.table'\n",
       "2. 'data.frame'\n",
       "\n",
       "\n"
      ],
      "text/plain": [
       "[1] \"data.table\" \"data.frame\""
      ]
     },
     "metadata": {},
     "output_type": "display_data"
    }
   ],
   "source": [
    "setDT(df)\n",
    "class(df)"
   ]
  },
  {
   "cell_type": "code",
   "execution_count": 10,
   "metadata": {},
   "outputs": [
    {
     "data": {
      "text/html": [
       "2446967"
      ],
      "text/latex": [
       "2446967"
      ],
      "text/markdown": [
       "2446967"
      ],
      "text/plain": [
       "[1] 2446967"
      ]
     },
     "metadata": {},
     "output_type": "display_data"
    },
    {
     "data": {
      "text/html": [
       "397959"
      ],
      "text/latex": [
       "397959"
      ],
      "text/markdown": [
       "397959"
      ],
      "text/plain": [
       "[1] 397959"
      ]
     },
     "metadata": {},
     "output_type": "display_data"
    },
    {
     "data": {
      "text/html": [
       "51337"
      ],
      "text/latex": [
       "51337"
      ],
      "text/markdown": [
       "51337"
      ],
      "text/plain": [
       "[1] 51337"
      ]
     },
     "metadata": {},
     "output_type": "display_data"
    },
    {
     "data": {
      "text/html": [
       "19318"
      ],
      "text/latex": [
       "19318"
      ],
      "text/markdown": [
       "19318"
      ],
      "text/plain": [
       "[1] 19318"
      ]
     },
     "metadata": {},
     "output_type": "display_data"
    },
    {
     "data": {
      "text/html": [
       "13055"
      ],
      "text/latex": [
       "13055"
      ],
      "text/markdown": [
       "13055"
      ],
      "text/plain": [
       "[1] 13055"
      ]
     },
     "metadata": {},
     "output_type": "display_data"
    }
   ],
   "source": [
    "nrow(df) # number of comments\n",
    "\n",
    "length(unique(df$author)) # number of unique authors overall\n",
    "length(unique(df$author_re)) # number of unique authors in RE\n",
    "\n",
    "length(unique(df$subreddit)) # number of unique subreddits overall\n",
    "length(unique(df$subreddit_re)) # number of unique subreddits in RE\n"
   ]
  },
  {
   "cell_type": "markdown",
   "metadata": {},
   "source": [
    "Distribution of outcomes:"
   ]
  },
  {
   "cell_type": "code",
   "execution_count": 11,
   "metadata": {},
   "outputs": [
    {
     "data": {
      "image/png": "[encoded data removed]",
      "text/plain": [
       "Plot with title “Histogram of df$num_markers”"
      ]
     },
     "metadata": {
      "image/png": {
       "height": 420,
       "width": 420
      }
     },
     "output_type": "display_data"
    },
    {
     "data": {
      "image/png": "[encoded data removed]",
      "text/plain": [
       "Plot with title “Histogram of df$parent_num_markers”"
      ]
     },
     "metadata": {
      "image/png": {
       "height": 420,
       "width": 420
      }
     },
     "output_type": "display_data"
    },
    {
     "data": {
      "image/png": "[encoded data removed]",
      "text/plain": [
       "Plot with title “Histogram of df$op_num_markers”"
      ]
     },
     "metadata": {
      "image/png": {
       "height": 420,
       "width": 420
      }
     },
     "output_type": "display_data"
    }
   ],
   "source": [
    "hist(df$num_markers)\n",
    "hist(df$parent_num_markers)\n",
    "hist(df$op_num_markers)"
   ]
  },
  {
   "cell_type": "code",
   "execution_count": 12,
   "metadata": {},
   "outputs": [
    {
     "data": {
      "image/png": "[encoded data removed]",
      "text/plain": [
       "Plot with title “Histogram of df$formality”"
      ]
     },
     "metadata": {
      "image/png": {
       "height": 420,
       "width": 420
      }
     },
     "output_type": "display_data"
    },
    {
     "data": {
      "image/png": "[encoded data removed]",
      "text/plain": [
       "Plot with title “Histogram of df$parent_formality”"
      ]
     },
     "metadata": {
      "image/png": {
       "height": 420,
       "width": 420
      }
     },
     "output_type": "display_data"
    },
    {
     "data": {
      "image/png": "[encoded data removed]",
      "text/plain": [
       "Plot with title “Histogram of df$op_formality_score”"
      ]
     },
     "metadata": {
      "image/png": {
       "height": 420,
       "width": 420
      }
     },
     "output_type": "display_data"
    }
   ],
   "source": [
    "hist(df$formality)\n",
    "hist(df$parent_formality)\n",
    "hist(df$op_formality_score)"
   ]
  },
  {
   "cell_type": "code",
   "execution_count": null,
   "metadata": {},
   "outputs": [],
   "source": []
  },
  {
   "cell_type": "markdown",
   "metadata": {},
   "source": [
    "## Estimating LSM overall"
   ]
  },
  {
   "cell_type": "code",
   "execution_count": 13,
   "metadata": {},
   "outputs": [],
   "source": [
    "seeds <- as.integer(readLines('data/random_seeds.csv'))\n",
    "\n",
    "simple_mod_equation <- \"style ~ parent_style + op_style + num_tokens + parent_num_tokens + op_num_tokens + depth\"\n",
    "mixed_mod_equation <- paste0(simple_mod_equation,\n",
    "                             #\" + (1 | author_re)\",\n",
    "                             \" + (1 | subreddit_re)\")\n",
    "\n",
    "simple_mod_equation <- formula(simple_mod_equation)\n",
    "mixed_mod_equation <- formula(mixed_mod_equation)\n"
   ]
  },
  {
   "cell_type": "code",
   "execution_count": 14,
   "metadata": {},
   "outputs": [
    {
     "data": {
      "text/plain": [
       "[1] \"2023-06-04 23:53:24 EDT\""
      ]
     },
     "metadata": {},
     "output_type": "display_data"
    },
    {
     "data": {
      "text/plain": [
       "[1] \"2023-06-04 23:53:28 EDT\""
      ]
     },
     "metadata": {},
     "output_type": "display_data"
    },
    {
     "data": {
      "text/plain": [
       "[1] \"2023-06-04 23:53:37 EDT\""
      ]
     },
     "metadata": {},
     "output_type": "display_data"
    },
    {
     "data": {
      "text/plain": [
       "\n",
       "Call:\n",
       "lm(formula = simple_mod_equation, data = df %>% sample_n(1e+06))\n",
       "\n",
       "Residuals:\n",
       "    Min      1Q  Median      3Q     Max \n",
       "-7.4019 -0.0446 -0.0011  0.0479  1.8640 \n",
       "\n",
       "Coefficients:\n",
       "                    Estimate Std. Error  t value Pr(>|t|)    \n",
       "(Intercept)       -1.265e-03  2.120e-04   -5.966 2.43e-09 ***\n",
       "parent_style       1.555e-01  9.601e-04  161.937  < 2e-16 ***\n",
       "op_style           3.152e-02  4.567e-04   69.024  < 2e-16 ***\n",
       "num_tokens         9.814e-01  1.722e-04 5698.825  < 2e-16 ***\n",
       "parent_num_tokens -1.450e-01  9.579e-04 -151.367  < 2e-16 ***\n",
       "op_num_tokens     -2.366e-02  4.536e-04  -52.146  < 2e-16 ***\n",
       "depth              2.171e-04  2.317e-05    9.369  < 2e-16 ***\n",
       "---\n",
       "Signif. codes:  0 ‘***’ 0.001 ‘**’ 0.01 ‘*’ 0.05 ‘.’ 0.1 ‘ ’ 1\n",
       "\n",
       "Residual standard error: 0.1477 on 999993 degrees of freedom\n",
       "Multiple R-squared:  0.9782,\tAdjusted R-squared:  0.9782 \n",
       "F-statistic: 7.494e+06 on 6 and 999993 DF,  p-value: < 2.2e-16\n"
      ]
     },
     "metadata": {},
     "output_type": "display_data"
    }
   ],
   "source": [
    "# function words style, basic regression\n",
    "set.seed(seeds[1])\n",
    "Sys.time()\n",
    "df$style <- df$num_markers\n",
    "df$parent_style <- df$parent_num_markers\n",
    "df$op_style <- df$op_num_markers\n",
    "\n",
    "Sys.time()\n",
    "mod1 <- lm(simple_mod_equation, df %>% sample_n(1000000))\n",
    "Sys.time()\n",
    "\n",
    "summary(mod1)"
   ]
  },
  {
   "cell_type": "code",
   "execution_count": 15,
   "metadata": {},
   "outputs": [
    {
     "data": {
      "text/plain": [
       "[1] \"2023-06-04 23:53:37 EDT\""
      ]
     },
     "metadata": {},
     "output_type": "display_data"
    },
    {
     "data": {
      "text/plain": [
       "[1] \"2023-06-04 23:54:55 EDT\""
      ]
     },
     "metadata": {},
     "output_type": "display_data"
    },
    {
     "data": {
      "text/plain": [
       "Linear mixed model fit by REML. t-tests use Satterthwaite's method [\n",
       "lmerModLmerTest]\n",
       "Formula: mixed_mod_equation\n",
       "   Data: df %>% sample_n(1e+06)\n",
       "\n",
       "REML criterion at convergence: -1013014\n",
       "\n",
       "Scaled residuals: \n",
       "    Min      1Q  Median      3Q     Max \n",
       "-53.719  -0.315  -0.006   0.337  17.631 \n",
       "\n",
       "Random effects:\n",
       " Groups       Name        Variance Std.Dev.\n",
       " subreddit_re (Intercept) 0.001146 0.03386 \n",
       " Residual                 0.021026 0.14500 \n",
       "Number of obs: 1000000, groups:  subreddit_re, 13051\n",
       "\n",
       "Fixed effects:\n",
       "                    Estimate Std. Error         df  t value Pr(>|t|)    \n",
       "(Intercept)       -4.125e-03  4.583e-04  1.131e+04   -9.001  < 2e-16 ***\n",
       "parent_style       1.141e-01  9.571e-04  9.668e+05  119.168  < 2e-16 ***\n",
       "op_style           1.974e-02  5.032e-04  9.570e+05   39.220  < 2e-16 ***\n",
       "num_tokens         9.816e-01  1.731e-04  9.750e+05 5671.912  < 2e-16 ***\n",
       "parent_num_tokens -1.041e-01  9.539e-04  9.650e+05 -109.155  < 2e-16 ***\n",
       "op_num_tokens     -1.530e-02  4.917e-04  9.673e+05  -31.123  < 2e-16 ***\n",
       "depth              1.082e-04  2.503e-05  9.473e+05    4.323 1.54e-05 ***\n",
       "---\n",
       "Signif. codes:  0 ‘***’ 0.001 ‘**’ 0.01 ‘*’ 0.05 ‘.’ 0.1 ‘ ’ 1\n",
       "\n",
       "Correlation of Fixed Effects:\n",
       "            (Intr) prnt_s op_sty nm_tkn prnt__ op_nm_\n",
       "parent_styl  0.016                                   \n",
       "op_style    -0.021 -0.048                            \n",
       "num_tokens  -0.015 -0.050 -0.024                     \n",
       "prnt_nm_tkn -0.020 -0.983  0.042 -0.029              \n",
       "op_num_tkns  0.023  0.039 -0.946  0.001 -0.037       \n",
       "depth       -0.323 -0.023  0.003 -0.008  0.023 -0.002"
      ]
     },
     "metadata": {},
     "output_type": "display_data"
    }
   ],
   "source": [
    "# function words style, mixed effects\n",
    "set.seed(seeds[2])\n",
    "# Sys.time()\n",
    "# df$style <- df$num_markers\n",
    "# df$parent_style <- df$parent_num_markers\n",
    "# df$op_style <- df$op_num_markers\n",
    "\n",
    "Sys.time()\n",
    "mod2 <- lmer(mixed_mod_equation, df %>% sample_n(1000000))\n",
    "Sys.time()\n",
    "\n",
    "summary(mod2)"
   ]
  },
  {
   "cell_type": "code",
   "execution_count": 16,
   "metadata": {},
   "outputs": [
    {
     "data": {
      "text/plain": [
       "[1] \"2023-06-04 23:54:55 EDT\""
      ]
     },
     "metadata": {},
     "output_type": "display_data"
    },
    {
     "data": {
      "text/plain": [
       "[1] \"2023-06-04 23:54:58 EDT\""
      ]
     },
     "metadata": {},
     "output_type": "display_data"
    },
    {
     "data": {
      "text/plain": [
       "[1] \"2023-06-04 23:55:01 EDT\""
      ]
     },
     "metadata": {},
     "output_type": "display_data"
    },
    {
     "data": {
      "text/plain": [
       "\n",
       "Call:\n",
       "lm(formula = simple_mod_equation, data = df %>% sample_n(1e+06))\n",
       "\n",
       "Residuals:\n",
       "     Min       1Q   Median       3Q      Max \n",
       "-0.80548 -0.25642 -0.07595  0.25786  0.72307 \n",
       "\n",
       "Coefficients:\n",
       "                    Estimate Std. Error t value Pr(>|t|)    \n",
       "(Intercept)        3.317e-01  8.063e-04  411.40   <2e-16 ***\n",
       "parent_style       1.272e-01  9.946e-04  127.86   <2e-16 ***\n",
       "op_style           1.460e-01  1.106e-03  132.06   <2e-16 ***\n",
       "num_tokens         3.393e-02  3.662e-04   92.64   <2e-16 ***\n",
       "parent_num_tokens  1.198e-02  3.677e-04   32.57   <2e-16 ***\n",
       "op_num_tokens      6.888e-03  3.240e-04   21.26   <2e-16 ***\n",
       "depth             -8.282e-04  4.914e-05  -16.86   <2e-16 ***\n",
       "---\n",
       "Signif. codes:  0 ‘***’ 0.001 ‘**’ 0.01 ‘*’ 0.05 ‘.’ 0.1 ‘ ’ 1\n",
       "\n",
       "Residual standard error: 0.3132 on 997302 degrees of freedom\n",
       "  (2691 observations deleted due to missingness)\n",
       "Multiple R-squared:  0.0682,\tAdjusted R-squared:  0.06819 \n",
       "F-statistic: 1.217e+04 on 6 and 997302 DF,  p-value: < 2.2e-16\n"
      ]
     },
     "metadata": {},
     "output_type": "display_data"
    }
   ],
   "source": [
    "# formality style, basic regression\n",
    "set.seed(seeds[3])\n",
    "Sys.time()\n",
    "df$style <- df$formality\n",
    "df$parent_style <- df$parent_formality\n",
    "df$op_style <- df$op_formality_score\n",
    "\n",
    "Sys.time()\n",
    "mod3 <- lm(simple_mod_equation, df %>% sample_n(1000000))\n",
    "Sys.time()\n",
    "\n",
    "summary(mod3)"
   ]
  },
  {
   "cell_type": "code",
   "execution_count": 17,
   "metadata": {},
   "outputs": [
    {
     "data": {
      "text/plain": [
       "[1] \"2023-06-04 23:55:02 EDT\""
      ]
     },
     "metadata": {},
     "output_type": "display_data"
    },
    {
     "data": {
      "text/plain": [
       "[1] \"2023-06-04 23:56:26 EDT\""
      ]
     },
     "metadata": {},
     "output_type": "display_data"
    },
    {
     "data": {
      "text/plain": [
       "Linear mixed model fit by REML. t-tests use Satterthwaite's method [\n",
       "lmerModLmerTest]\n",
       "Formula: mixed_mod_equation\n",
       "   Data: df %>% sample_n(1e+06)\n",
       "\n",
       "REML criterion at convergence: 479758.9\n",
       "\n",
       "Scaled residuals: \n",
       "    Min      1Q  Median      3Q     Max \n",
       "-2.4229 -0.7944 -0.2403  0.7936  2.7138 \n",
       "\n",
       "Random effects:\n",
       " Groups       Name        Variance Std.Dev.\n",
       " subreddit_re (Intercept) 0.005314 0.0729  \n",
       " Residual                 0.093654 0.3060  \n",
       "Number of obs: 997239, groups:  subreddit_re, 13046\n",
       "\n",
       "Fixed effects:\n",
       "                    Estimate Std. Error         df t value Pr(>|t|)    \n",
       "(Intercept)        3.847e-01  1.234e-03  2.558e+04  311.78  < 2e-16 ***\n",
       "parent_style       8.091e-02  9.996e-04  1.003e+06   80.95  < 2e-16 ***\n",
       "op_style           9.913e-02  1.161e-03  9.379e+05   85.39  < 2e-16 ***\n",
       "num_tokens         2.636e-02  3.651e-04  9.947e+05   72.20  < 2e-16 ***\n",
       "parent_num_tokens  5.972e-03  3.659e-04  9.980e+05   16.32  < 2e-16 ***\n",
       "op_num_tokens      2.716e-03  3.395e-04  9.329e+05    8.00 1.24e-15 ***\n",
       "depth             -1.362e-03  5.308e-05  9.844e+05  -25.66  < 2e-16 ***\n",
       "---\n",
       "Signif. codes:  0 ‘***’ 0.001 ‘**’ 0.01 ‘*’ 0.05 ‘.’ 0.1 ‘ ’ 1\n",
       "\n",
       "Correlation of Fixed Effects:\n",
       "            (Intr) prnt_s op_sty nm_tkn prnt__ op_nm_\n",
       "parent_styl -0.352                                   \n",
       "op_style    -0.462 -0.092                            \n",
       "num_tokens   0.007 -0.024 -0.016                     \n",
       "prnt_nm_tkn  0.012 -0.061 -0.015 -0.431              \n",
       "op_num_tkns  0.076 -0.008 -0.130 -0.067 -0.072       \n",
       "depth       -0.265  0.032 -0.003 -0.009  0.001  0.001"
      ]
     },
     "metadata": {},
     "output_type": "display_data"
    }
   ],
   "source": [
    "# formality style, mixed effects\n",
    "set.seed(seeds[4])\n",
    "# Sys.time()\n",
    "# df$style <- df$formality\n",
    "# df$parent_style <- df$parent_formality\n",
    "# df$op_style <- df$op_formality_score\n",
    "\n",
    "Sys.time()\n",
    "mod4 <- lmer(mixed_mod_equation, df %>% sample_n(1000000))\n",
    "Sys.time()\n",
    "\n",
    "summary(mod4)"
   ]
  },
  {
   "cell_type": "code",
   "execution_count": null,
   "metadata": {},
   "outputs": [],
   "source": []
  },
  {
   "cell_type": "code",
   "execution_count": null,
   "metadata": {},
   "outputs": [],
   "source": []
  },
  {
   "cell_type": "code",
   "execution_count": null,
   "metadata": {},
   "outputs": [],
   "source": []
  }
 ],
 "metadata": {
  "kernelspec": {
   "display_name": "R",
   "language": "R",
   "name": "ir"
  },
  "language_info": {
   "codemirror_mode": "r",
   "file_extension": ".r",
   "mimetype": "text/x-r-source",
   "name": "R",
   "pygments_lexer": "r",
   "version": "4.1.3"
  }
 },
 "nbformat": 4,
 "nbformat_minor": 4
}
