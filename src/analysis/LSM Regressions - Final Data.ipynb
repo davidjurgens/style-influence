{
 "cells": [
  {
   "cell_type": "code",
   "execution_count": 2,
   "metadata": {},
   "outputs": [
    {
     "name": "stderr",
     "output_type": "stream",
     "text": [
      "\n",
      "Attaching package: ‘dplyr’\n",
      "\n",
      "\n",
      "The following objects are masked from ‘package:stats’:\n",
      "\n",
      "    filter, lag\n",
      "\n",
      "\n",
      "The following objects are masked from ‘package:base’:\n",
      "\n",
      "    intersect, setdiff, setequal, union\n",
      "\n",
      "\n",
      "\n",
      "Attaching package: ‘data.table’\n",
      "\n",
      "\n",
      "The following objects are masked from ‘package:dplyr’:\n",
      "\n",
      "    between, first, last\n",
      "\n",
      "\n",
      "Loading required package: Matrix\n",
      "\n",
      "\n",
      "Attaching package: ‘Matrix’\n",
      "\n",
      "\n",
      "The following objects are masked from ‘package:tidyr’:\n",
      "\n",
      "    expand, pack, unpack\n",
      "\n",
      "\n",
      "\n",
      "Attaching package: ‘lmerTest’\n",
      "\n",
      "\n",
      "The following object is masked from ‘package:lme4’:\n",
      "\n",
      "    lmer\n",
      "\n",
      "\n",
      "The following object is masked from ‘package:stats’:\n",
      "\n",
      "    step\n",
      "\n",
      "\n"
     ]
    }
   ],
   "source": [
    "library(dplyr)\n",
    "library(tidyr)\n",
    "library(ggplot2)\n",
    "library(data.table)\n",
    "library(lme4)\n",
    "library(lmerTest)"
   ]
  },
  {
   "cell_type": "code",
   "execution_count": 3,
   "metadata": {},
   "outputs": [],
   "source": [
    "setwd('/shared/3/projects/style-influence')"
   ]
  },
  {
   "cell_type": "code",
   "execution_count": 4,
   "metadata": {},
   "outputs": [
    {
     "data": {
      "text/html": [
       "16893013"
      ],
      "text/latex": [
       "16893013"
      ],
      "text/markdown": [
       "16893013"
      ],
      "text/plain": [
       "[1] 16893013"
      ]
     },
     "metadata": {},
     "output_type": "display_data"
    }
   ],
   "source": [
    "#df = fread('data/final_samples/formality_allmetrics.tsv', sep='\\t')\n",
    "df = fread('data/final_samples/formality_allmetrics_with_subreddits.tsv', sep='\\t')\n",
    "nrow(df)"
   ]
  },
  {
   "cell_type": "code",
   "execution_count": null,
   "metadata": {},
   "outputs": [],
   "source": []
  },
  {
   "cell_type": "markdown",
   "metadata": {},
   "source": [
    "## Clean Data\n",
    "\n",
    "- Fix data types and remove a few aberrant values\n",
    "- Outlier removal (threshold for extreme outliers = 10\\*IQR)\n",
    "- Standardize some columns (not the [0,1] variables)"
   ]
  },
  {
   "cell_type": "code",
   "execution_count": 4,
   "metadata": {},
   "outputs": [],
   "source": [
    "remove_outlier <- function(x, thr=10){\n",
    "    iqr = IQR(x, na.rm=T)\n",
    "    lo = quantile(x, 0.25, na.rm=T) - thr*iqr\n",
    "    hi = quantile(x, 0.75, na.rm=T) + thr*iqr\n",
    "    x[x < lo] = lo\n",
    "    x[x > hi] = hi\n",
    "    x\n",
    "}"
   ]
  },
  {
   "cell_type": "code",
   "execution_count": 5,
   "metadata": {},
   "outputs": [
    {
     "data": {
      "text/html": [
       "16893013"
      ],
      "text/latex": [
       "16893013"
      ],
      "text/markdown": [
       "16893013"
      ],
      "text/plain": [
       "[1] 16893013"
      ]
     },
     "metadata": {},
     "output_type": "display_data"
    }
   ],
   "source": [
    "nrow(df)\n",
    "df <- df[controversiality %in% c('0','0.0','1','1.0'),]"
   ]
  },
  {
   "cell_type": "code",
   "execution_count": 9,
   "metadata": {},
   "outputs": [
    {
     "data": {
      "text/html": [
       "16893013"
      ],
      "text/latex": [
       "16893013"
      ],
      "text/markdown": [
       "16893013"
      ],
      "text/plain": [
       "[1] 16893013"
      ]
     },
     "metadata": {},
     "output_type": "display_data"
    }
   ],
   "source": [
    "nrow(df)\n",
    "df <- df %>%\n",
    "    mutate(num_parent_markers = scale(remove_outlier(num_parent_markers)),\n",
    "           num_markers = scale(remove_outlier(num_markers)),\n",
    "           parent_num_markers = scale(remove_outlier(parent_num_markers)),\n",
    "           num_tokens = scale(remove_outlier(as.numeric(num_tokens))),\n",
    "           parent_num_tokens = scale(remove_outlier(as.numeric(parent_num_tokens))),\n",
    "           score = remove_outlier(as.numeric(score)),\n",
    "           parent_score = remove_outlier(as.numeric(parent_score)),\n",
    "           depth = remove_outlier(as.numeric(depth)),\n",
    "           max_depth = remove_outlier(as.numeric(max_depth)),\n",
    "           controversiality = as.integer(controversiality),\n",
    "           parent_controversiality = as.integer(parent_controversiality),\n",
    "           banned = ifelse(banned, 1, 0),\n",
    "           wait_time = remove_outlier(created_utc - parent_created_utc)/60/24,\n",
    "           tenure = remove_outlier(tenure)/60/60/24,\n",
    "           subreddit_activity = remove_outlier(subreddit_activity),\n",
    "           total_activity = remove_outlier(total_activity)\n",
    "          )"
   ]
  },
  {
   "cell_type": "code",
   "execution_count": 10,
   "metadata": {},
   "outputs": [
    {
     "data": {
      "text/plain": [
       "   Mode   FALSE    TRUE \n",
       "logical 2300196   74310 "
      ]
     },
     "metadata": {},
     "output_type": "display_data"
    },
    {
     "data": {
      "text/plain": [
       "   Mode   FALSE    TRUE \n",
       "logical   45069   23719 "
      ]
     },
     "metadata": {},
     "output_type": "display_data"
    },
    {
     "data": {
      "text/plain": [
       "\n",
       "   FALSE     TRUE \n",
       " 5605757 11287256 "
      ]
     },
     "metadata": {},
     "output_type": "display_data"
    },
    {
     "data": {
      "text/plain": [
       "\n",
       "   FALSE     TRUE \n",
       "16442929   450084 "
      ]
     },
     "metadata": {},
     "output_type": "display_data"
    }
   ],
   "source": [
    "re_min = 30\n",
    "\n",
    "x = table(df$author)\n",
    "summary(x >= re_min)\n",
    "\n",
    "x = table(df$subreddit)\n",
    "summary(x >= re_min)\n",
    "\n",
    "df <- df %>%\n",
    "    group_by(author) %>%\n",
    "    mutate(author_re = ifelse(n() >= re_min, author, 'other')) %>%\n",
    "    ungroup() %>%\n",
    "    group_by(subreddit) %>%\n",
    "    mutate(subreddit_re = ifelse(n() >= re_min, subreddit, 'other'))\n",
    "\n",
    "table(df$author_re=='other')\n",
    "table(df$subreddit_re=='other')"
   ]
  },
  {
   "cell_type": "code",
   "execution_count": 11,
   "metadata": {},
   "outputs": [],
   "source": [
    "fwrite(df, 'data/final_samples/final_regression_data.tsv', sep='\\t', row.names=F)\n"
   ]
  },
  {
   "cell_type": "code",
   "execution_count": null,
   "metadata": {},
   "outputs": [],
   "source": []
  },
  {
   "cell_type": "markdown",
   "metadata": {},
   "source": [
    "## Get Random Seeds\n",
    "\n",
    "Used for sampling in subsequent figures "
   ]
  },
  {
   "cell_type": "code",
   "execution_count": 12,
   "metadata": {},
   "outputs": [],
   "source": [
    "set.seed(2023)\n",
    "seeds <- sample(1:2147483647, 1000, replace=F)\n",
    "writeLines(as.character(seeds), 'data/random_seeds.csv')"
   ]
  },
  {
   "cell_type": "code",
   "execution_count": null,
   "metadata": {},
   "outputs": [],
   "source": []
  },
  {
   "cell_type": "markdown",
   "metadata": {},
   "source": [
    "## Basic Analysis"
   ]
  },
  {
   "cell_type": "code",
   "execution_count": 13,
   "metadata": {},
   "outputs": [
    {
     "name": "stderr",
     "output_type": "stream",
     "text": [
      "Warning message in setDT(df):\n",
      "“Some columns are a multi-column type (such as a matrix column): [12, 18, 19, 20, 21]. setDT will retain these columns as-is but subsequent operations like grouping and joining may fail. Please consider as.data.table() instead which will create a new column for each embedded column.”\n"
     ]
    },
    {
     "data": {
      "text/html": [
       "<style>\n",
       ".list-inline {list-style: none; margin:0; padding: 0}\n",
       ".list-inline>li {display: inline-block}\n",
       ".list-inline>li:not(:last-child)::after {content: \"\\00b7\"; padding: 0 .5ex}\n",
       "</style>\n",
       "<ol class=list-inline><li>'data.table'</li><li>'data.frame'</li></ol>\n"
      ],
      "text/latex": [
       "\\begin{enumerate*}\n",
       "\\item 'data.table'\n",
       "\\item 'data.frame'\n",
       "\\end{enumerate*}\n"
      ],
      "text/markdown": [
       "1. 'data.table'\n",
       "2. 'data.frame'\n",
       "\n",
       "\n"
      ],
      "text/plain": [
       "[1] \"data.table\" \"data.frame\""
      ]
     },
     "metadata": {},
     "output_type": "display_data"
    }
   ],
   "source": [
    "setDT(df)\n",
    "class(df)"
   ]
  },
  {
   "cell_type": "code",
   "execution_count": 14,
   "metadata": {},
   "outputs": [
    {
     "data": {
      "text/html": [
       "16893013"
      ],
      "text/latex": [
       "16893013"
      ],
      "text/markdown": [
       "16893013"
      ],
      "text/plain": [
       "[1] 16893013"
      ]
     },
     "metadata": {},
     "output_type": "display_data"
    },
    {
     "data": {
      "text/html": [
       "2374506"
      ],
      "text/latex": [
       "2374506"
      ],
      "text/markdown": [
       "2374506"
      ],
      "text/plain": [
       "[1] 2374506"
      ]
     },
     "metadata": {},
     "output_type": "display_data"
    },
    {
     "data": {
      "text/html": [
       "74311"
      ],
      "text/latex": [
       "74311"
      ],
      "text/markdown": [
       "74311"
      ],
      "text/plain": [
       "[1] 74311"
      ]
     },
     "metadata": {},
     "output_type": "display_data"
    },
    {
     "data": {
      "text/html": [
       "68788"
      ],
      "text/latex": [
       "68788"
      ],
      "text/markdown": [
       "68788"
      ],
      "text/plain": [
       "[1] 68788"
      ]
     },
     "metadata": {},
     "output_type": "display_data"
    },
    {
     "data": {
      "text/html": [
       "23720"
      ],
      "text/latex": [
       "23720"
      ],
      "text/markdown": [
       "23720"
      ],
      "text/plain": [
       "[1] 23720"
      ]
     },
     "metadata": {},
     "output_type": "display_data"
    }
   ],
   "source": [
    "nrow(df) # number of comments\n",
    "\n",
    "length(unique(df$author)) # number of unique authors overall\n",
    "length(unique(df$author_re)) # number of unique authors in RE\n",
    "\n",
    "length(unique(df$subreddit)) # number of unique subreddits overall\n",
    "length(unique(df$subreddit_re)) # number of unique subreddits in RE\n"
   ]
  },
  {
   "cell_type": "markdown",
   "metadata": {},
   "source": [
    "Distribution of outcomes:"
   ]
  },
  {
   "cell_type": "code",
   "execution_count": 15,
   "metadata": {},
   "outputs": [
    {
     "data": {
      "image/png": "[encoded data removed]",
      "text/plain": [
       "Plot with title “Histogram of df$num_markers”"
      ]
     },
     "metadata": {
      "image/png": {
       "height": 420,
       "width": 420
      }
     },
     "output_type": "display_data"
    },
    {
     "data": {
      "image/png": "[encoded data removed]",
      "text/plain": [
       "Plot with title “Histogram of df$parent_num_markers”"
      ]
     },
     "metadata": {
      "image/png": {
       "height": 420,
       "width": 420
      }
     },
     "output_type": "display_data"
    }
   ],
   "source": [
    "hist(df$num_markers)\n",
    "hist(df$parent_num_markers)"
   ]
  },
  {
   "cell_type": "code",
   "execution_count": 16,
   "metadata": {},
   "outputs": [
    {
     "data": {
      "image/png": "[encoded data removed]",
      "text/plain": [
       "Plot with title “Histogram of df$formality”"
      ]
     },
     "metadata": {
      "image/png": {
       "height": 420,
       "width": 420
      }
     },
     "output_type": "display_data"
    },
    {
     "data": {
      "image/png": "[encoded data removed]",
      "text/plain": [
       "Plot with title “Histogram of df$parent_formality”"
      ]
     },
     "metadata": {
      "image/png": {
       "height": 420,
       "width": 420
      }
     },
     "output_type": "display_data"
    }
   ],
   "source": [
    "hist(df$formality)\n",
    "hist(df$parent_formality)"
   ]
  },
  {
   "cell_type": "markdown",
   "metadata": {},
   "source": [
    "Estimating LSM overall:"
   ]
  },
  {
   "cell_type": "code",
   "execution_count": 5,
   "metadata": {},
   "outputs": [],
   "source": [
    "simple_mod_equation <- \"style ~ parent_style + num_tokens + parent_num_tokens + depth\"\n",
    "mixed_mod_equation <- paste0(simple_mod_equation,\n",
    "                             #\" + (1 | author_re)\",\n",
    "                             \" + (1 | subreddit_re)\")\n",
    "\n",
    "simple_mod_equation_cat <- gsub('parent_style','parent_style*category',simple_mod_equation)\n",
    "mixed_mod_equation_cat <- gsub('parent_style','parent_style*category',mixed_mod_equation)\n",
    "\n",
    "simple_mod_equation_cat2 <- gsub('parent_style','parent_style*category*category2',simple_mod_equation)\n",
    "mixed_mod_equation_cat2 <- gsub('parent_style','parent_style*category*category2',mixed_mod_equation)\n",
    "\n",
    "simple_mod_equation <- formula(simple_mod_equation)\n",
    "mixed_mod_equation <- formula(mixed_mod_equation)\n",
    "simple_mod_equation_cat <- formula(simple_mod_equation_cat)\n",
    "mixed_mod_equation_cat <- formula(mixed_mod_equation_cat)\n",
    "simple_mod_equation_cat2 <- formula(simple_mod_equation_cat2)\n",
    "mixed_mod_equation_cat2 <- formula(mixed_mod_equation_cat2)\n"
   ]
  },
  {
   "cell_type": "code",
   "execution_count": null,
   "metadata": {},
   "outputs": [],
   "source": []
  },
  {
   "cell_type": "code",
   "execution_count": 18,
   "metadata": {},
   "outputs": [
    {
     "data": {
      "text/plain": [
       "[1] \"2023-06-04 23:07:11 EDT\""
      ]
     },
     "metadata": {},
     "output_type": "display_data"
    },
    {
     "data": {
      "text/plain": [
       "[1] \"2023-06-04 23:08:05 EDT\""
      ]
     },
     "metadata": {},
     "output_type": "display_data"
    },
    {
     "data": {
      "text/plain": [
       "[1] \"2023-06-04 23:08:12 EDT\""
      ]
     },
     "metadata": {},
     "output_type": "display_data"
    },
    {
     "data": {
      "text/plain": [
       "\n",
       "Call:\n",
       "lm(formula = simple_mod_equation, data = df %>% sample_n(1e+06))\n",
       "\n",
       "Residuals:\n",
       "    Min      1Q  Median      3Q     Max \n",
       "-7.3397 -0.0454  0.0000  0.0510  3.2900 \n",
       "\n",
       "Coefficients:\n",
       "                    Estimate Std. Error  t value Pr(>|t|)    \n",
       "(Intercept)       -4.033e-04  2.086e-04   -1.934 0.053142 .  \n",
       "parent_style       1.692e-01  9.452e-04  179.008  < 2e-16 ***\n",
       "num_tokens         9.815e-01  1.769e-04 5548.370  < 2e-16 ***\n",
       "parent_num_tokens -1.570e-01  9.444e-04 -166.251  < 2e-16 ***\n",
       "depth              7.917e-05  2.173e-05    3.643 0.000269 ***\n",
       "---\n",
       "Signif. codes:  0 ‘***’ 0.001 ‘**’ 0.01 ‘*’ 0.05 ‘.’ 0.1 ‘ ’ 1\n",
       "\n",
       "Residual standard error: 0.1528 on 999995 degrees of freedom\n",
       "Multiple R-squared:  0.9766,\tAdjusted R-squared:  0.9766 \n",
       "F-statistic: 1.045e+07 on 4 and 999995 DF,  p-value: < 2.2e-16\n"
      ]
     },
     "metadata": {},
     "output_type": "display_data"
    }
   ],
   "source": [
    "# function words style, basic regression\n",
    "set.seed(seeds[1])\n",
    "Sys.time()\n",
    "df$style <- df$num_markers\n",
    "df$parent_style <- df$parent_num_markers\n",
    "\n",
    "Sys.time()\n",
    "mod1 <- lm(simple_mod_equation, df %>% sample_n(1000000))\n",
    "Sys.time()\n",
    "\n",
    "summary(mod1)"
   ]
  },
  {
   "cell_type": "code",
   "execution_count": 19,
   "metadata": {},
   "outputs": [
    {
     "data": {
      "text/plain": [
       "[1] \"2023-06-04 23:08:13 EDT\""
      ]
     },
     "metadata": {},
     "output_type": "display_data"
    },
    {
     "data": {
      "text/plain": [
       "[1] \"2023-06-04 23:10:09 EDT\""
      ]
     },
     "metadata": {},
     "output_type": "display_data"
    },
    {
     "data": {
      "text/plain": [
       "Linear mixed model fit by REML. t-tests use Satterthwaite's method [\n",
       "lmerModLmerTest]\n",
       "Formula: mixed_mod_equation\n",
       "   Data: df %>% sample_n(1e+06)\n",
       "\n",
       "REML criterion at convergence: -978481.8\n",
       "\n",
       "Scaled residuals: \n",
       "    Min      1Q  Median      3Q     Max \n",
       "-49.345  -0.320  -0.007   0.344  16.124 \n",
       "\n",
       "Random effects:\n",
       " Groups       Name        Variance  Std.Dev.\n",
       " subreddit_re (Intercept) 0.0009077 0.03013 \n",
       " Residual                 0.0217485 0.14747 \n",
       "Number of obs: 1000000, groups:  subreddit_re, 23042\n",
       "\n",
       "Fixed effects:\n",
       "                    Estimate Std. Error         df  t value Pr(>|t|)    \n",
       "(Intercept)       -2.066e-03  3.783e-04  1.599e+04   -5.461  4.8e-08 ***\n",
       "parent_style       1.451e-01  9.342e-04  9.306e+05  155.321  < 2e-16 ***\n",
       "num_tokens         9.817e-01  1.757e-04  1.022e+06 5588.283  < 2e-16 ***\n",
       "parent_num_tokens -1.348e-01  9.317e-04  9.314e+05 -144.671  < 2e-16 ***\n",
       "depth              5.428e-05  2.328e-05  9.622e+05    2.331   0.0197 *  \n",
       "---\n",
       "Signif. codes:  0 ‘***’ 0.001 ‘**’ 0.01 ‘*’ 0.05 ‘.’ 0.1 ‘ ’ 1\n",
       "\n",
       "Correlation of Fixed Effects:\n",
       "            (Intr) prnt_s nm_tkn prnt__\n",
       "parent_styl  0.010                     \n",
       "num_tokens  -0.010 -0.050              \n",
       "prnt_nm_tkn -0.014 -0.982 -0.035       \n",
       "depth       -0.354 -0.019 -0.012  0.017"
      ]
     },
     "metadata": {},
     "output_type": "display_data"
    }
   ],
   "source": [
    "# function words style, mixed effects\n",
    "set.seed(seeds[2])\n",
    "# Sys.time()\n",
    "# df$style <- df$num_markers\n",
    "# df$parent_style <- df$parent_num_markers\n",
    "\n",
    "Sys.time()\n",
    "mod2 <- lmer(mixed_mod_equation, df %>% sample_n(1000000))\n",
    "Sys.time()\n",
    "\n",
    "summary(mod2)"
   ]
  },
  {
   "cell_type": "code",
   "execution_count": 20,
   "metadata": {},
   "outputs": [
    {
     "data": {
      "text/plain": [
       "[1] \"2023-06-04 23:10:10 EDT\""
      ]
     },
     "metadata": {},
     "output_type": "display_data"
    },
    {
     "data": {
      "text/plain": [
       "[1] \"2023-06-04 23:10:49 EDT\""
      ]
     },
     "metadata": {},
     "output_type": "display_data"
    },
    {
     "data": {
      "text/plain": [
       "[1] \"2023-06-04 23:10:53 EDT\""
      ]
     },
     "metadata": {},
     "output_type": "display_data"
    },
    {
     "data": {
      "text/plain": [
       "\n",
       "Call:\n",
       "lm(formula = simple_mod_equation, data = df %>% sample_n(1e+06))\n",
       "\n",
       "Residuals:\n",
       "    Min      1Q  Median      3Q     Max \n",
       "-0.8485 -0.2494 -0.0914  0.2276  0.7282 \n",
       "\n",
       "Coefficients:\n",
       "                    Estimate Std. Error t value Pr(>|t|)    \n",
       "(Intercept)        3.540e-01  6.069e-04  583.32   <2e-16 ***\n",
       "parent_style       1.639e-01  9.857e-04  166.24   <2e-16 ***\n",
       "num_tokens         4.489e-02  3.624e-04  123.87   <2e-16 ***\n",
       "parent_num_tokens  1.701e-02  3.638e-04   46.75   <2e-16 ***\n",
       "depth             -8.353e-04  4.468e-05  -18.70   <2e-16 ***\n",
       "---\n",
       "Signif. codes:  0 ‘***’ 0.001 ‘**’ 0.01 ‘*’ 0.05 ‘.’ 0.1 ‘ ’ 1\n",
       "\n",
       "Residual standard error: 0.3128 on 997573 degrees of freedom\n",
       "  (2422 observations deleted due to missingness)\n",
       "Multiple R-squared:  0.06676,\tAdjusted R-squared:  0.06675 \n",
       "F-statistic: 1.784e+04 on 4 and 997573 DF,  p-value: < 2.2e-16\n"
      ]
     },
     "metadata": {},
     "output_type": "display_data"
    }
   ],
   "source": [
    "# formality style, basic regression\n",
    "set.seed(seeds[3])\n",
    "Sys.time()\n",
    "df$style <- df$formality\n",
    "df$parent_style <- df$parent_formality\n",
    "\n",
    "Sys.time()\n",
    "mod3 <- lm(simple_mod_equation, df %>% sample_n(1000000))\n",
    "Sys.time()\n",
    "\n",
    "summary(mod3)"
   ]
  },
  {
   "cell_type": "code",
   "execution_count": 21,
   "metadata": {},
   "outputs": [
    {
     "data": {
      "text/plain": [
       "[1] \"2023-06-04 23:10:53 EDT\""
      ]
     },
     "metadata": {},
     "output_type": "display_data"
    },
    {
     "data": {
      "text/plain": [
       "[1] \"2023-06-04 23:13:24 EDT\""
      ]
     },
     "metadata": {},
     "output_type": "display_data"
    },
    {
     "data": {
      "text/plain": [
       "Linear mixed model fit by REML. t-tests use Satterthwaite's method [\n",
       "lmerModLmerTest]\n",
       "Formula: mixed_mod_equation\n",
       "   Data: df %>% sample_n(1e+06)\n",
       "\n",
       "REML criterion at convergence: 468539.5\n",
       "\n",
       "Scaled residuals: \n",
       "    Min      1Q  Median      3Q     Max \n",
       "-2.8199 -0.7704 -0.2732  0.6996  2.7626 \n",
       "\n",
       "Random effects:\n",
       " Groups       Name        Variance Std.Dev.\n",
       " subreddit_re (Intercept) 0.006227 0.07891 \n",
       " Residual                 0.092186 0.30362 \n",
       "Number of obs: 997510, groups:  subreddit_re, 23025\n",
       "\n",
       "Fixed effects:\n",
       "                    Estimate Std. Error         df t value Pr(>|t|)    \n",
       "(Intercept)        3.817e-01  9.785e-04  2.845e+04  390.04   <2e-16 ***\n",
       "parent_style       1.066e-01  9.937e-04  1.003e+06  107.24   <2e-16 ***\n",
       "num_tokens         3.471e-02  3.618e-04  1.008e+06   95.93   <2e-16 ***\n",
       "parent_num_tokens  7.825e-03  3.635e-04  1.002e+06   21.53   <2e-16 ***\n",
       "depth             -8.401e-04  4.816e-05  9.898e+05  -17.44   <2e-16 ***\n",
       "---\n",
       "Signif. codes:  0 ‘***’ 0.001 ‘**’ 0.01 ‘*’ 0.05 ‘.’ 0.1 ‘ ’ 1\n",
       "\n",
       "Correlation of Fixed Effects:\n",
       "            (Intr) prnt_s nm_tkn prnt__\n",
       "parent_styl -0.448                     \n",
       "num_tokens   0.008 -0.034              \n",
       "prnt_nm_tkn  0.025 -0.089 -0.437       \n",
       "depth       -0.292  0.021 -0.014 -0.011"
      ]
     },
     "metadata": {},
     "output_type": "display_data"
    }
   ],
   "source": [
    "# formality style, mixed effects\n",
    "set.seed(seeds[4])\n",
    "# Sys.time()\n",
    "# df$style <- df$formality\n",
    "# df$parent_style <- df$parent_formality\n",
    "\n",
    "Sys.time()\n",
    "mod4 <- lmer(mixed_mod_equation, df %>% sample_n(1000000))\n",
    "Sys.time()\n",
    "\n",
    "summary(mod4)"
   ]
  },
  {
   "cell_type": "code",
   "execution_count": 6,
   "metadata": {},
   "outputs": [],
   "source": [
    "save(simple_mod_equation, mixed_mod_equation, \n",
    "     simple_mod_equation_cat, mixed_mod_equation_cat, \n",
    "     simple_mod_equation_cat2, mixed_mod_equation_cat2, \n",
    "     file = \"reg_models.RData\")\n"
   ]
  },
  {
   "cell_type": "code",
   "execution_count": null,
   "metadata": {},
   "outputs": [],
   "source": []
  },
  {
   "cell_type": "code",
   "execution_count": null,
   "metadata": {},
   "outputs": [],
   "source": []
  },
  {
   "cell_type": "code",
   "execution_count": null,
   "metadata": {},
   "outputs": [],
   "source": []
  }
 ],
 "metadata": {
  "kernelspec": {
   "display_name": "R",
   "language": "R",
   "name": "ir"
  },
  "language_info": {
   "codemirror_mode": "r",
   "file_extension": ".r",
   "mimetype": "text/x-r-source",
   "name": "R",
   "pygments_lexer": "r",
   "version": "4.1.3"
  }
 },
 "nbformat": 4,
 "nbformat_minor": 4
}
