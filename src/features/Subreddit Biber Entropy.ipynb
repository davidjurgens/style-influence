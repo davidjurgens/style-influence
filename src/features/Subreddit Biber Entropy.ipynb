{
 "cells": [
  {
   "cell_type": "markdown",
   "id": "1daf570d",
   "metadata": {},
   "source": [
    "# Subreddit Biber Entropy\n",
    "\n",
    "Calculate the linguistic variation for different subreddits using Biber (1988)'s linguistic features"
   ]
  },
  {
   "cell_type": "code",
   "execution_count": 1,
   "id": "222f3390",
   "metadata": {},
   "outputs": [],
   "source": [
    "import numpy as np\n",
    "import pandas as pd\n",
    "import seaborn as sns\n",
    "\n",
    "from tqdm import tqdm\n",
    "from scipy.stats import entropy\n",
    "from glob import glob\n",
    "import urllib.request, json\n",
    "\n",
    "from bibermda.tagger import load_config, load_pipeline, tag_text, calculate_tag_frequencies"
   ]
  },
  {
   "cell_type": "markdown",
   "id": "347e424d",
   "metadata": {},
   "source": [
    "## Data Setup\n",
    "\n",
    "**Read in 2019 comment samples from every subreddit**"
   ]
  },
  {
   "cell_type": "code",
   "execution_count": 2,
   "id": "c1bf90ce",
   "metadata": {},
   "outputs": [
    {
     "name": "stderr",
     "output_type": "stream",
     "text": [
      "/tmp/ipykernel_2201252/2343793912.py:2: DtypeWarning: Columns (0,4,5,6,10) have mixed types. Specify dtype option on import or set low_memory=False.\n",
      "  df = pd.read_csv('/shared/3/projects/style-influence/data/final_samples/formality_2019.tsv', sep='\\t', index_col=0)\n"
     ]
    },
    {
     "data": {
      "text/html": [
       "<div>\n",
       "<style scoped>\n",
       "    .dataframe tbody tr th:only-of-type {\n",
       "        vertical-align: middle;\n",
       "    }\n",
       "\n",
       "    .dataframe tbody tr th {\n",
       "        vertical-align: top;\n",
       "    }\n",
       "\n",
       "    .dataframe thead th {\n",
       "        text-align: right;\n",
       "    }\n",
       "</style>\n",
       "<table border=\"1\" class=\"dataframe\">\n",
       "  <thead>\n",
       "    <tr style=\"text-align: right;\">\n",
       "      <th></th>\n",
       "      <th>body</th>\n",
       "      <th>author</th>\n",
       "      <th>comment_id</th>\n",
       "      <th>created_utc</th>\n",
       "      <th>controversiality</th>\n",
       "      <th>score</th>\n",
       "      <th>author_flair_css_class</th>\n",
       "      <th>author_flair_text</th>\n",
       "      <th>depth</th>\n",
       "      <th>max_depth</th>\n",
       "      <th>...</th>\n",
       "      <th>parent_author</th>\n",
       "      <th>parent_id</th>\n",
       "      <th>parent_created_utc</th>\n",
       "      <th>parent_controversiality</th>\n",
       "      <th>parent_score</th>\n",
       "      <th>parent_flair_css_class</th>\n",
       "      <th>parent_flair_text</th>\n",
       "      <th>tokens</th>\n",
       "      <th>comment_id_parent</th>\n",
       "      <th>tokens_parent</th>\n",
       "    </tr>\n",
       "  </thead>\n",
       "  <tbody>\n",
       "    <tr>\n",
       "      <th>434</th>\n",
       "      <td>no I used to be but now im buff like matt daemon</td>\n",
       "      <td>tofu_schmo</td>\n",
       "      <td>eq8h3wy</td>\n",
       "      <td>1559865252</td>\n",
       "      <td>0</td>\n",
       "      <td>2</td>\n",
       "      <td>NaN</td>\n",
       "      <td>NaN</td>\n",
       "      <td>11.0</td>\n",
       "      <td>11</td>\n",
       "      <td>...</td>\n",
       "      <td>ruttydm</td>\n",
       "      <td>eq7wnb2</td>\n",
       "      <td>1.559855e+09</td>\n",
       "      <td>0.0</td>\n",
       "      <td>0.0</td>\n",
       "      <td>NaN</td>\n",
       "      <td>NaN</td>\n",
       "      <td>['no', 'i', 'used', 'to', 'be', 'but', 'now', ...</td>\n",
       "      <td>eq7wnb2</td>\n",
       "      <td>['amp', 'x200b', 'your', 'cat', 'is', 'fat', '...</td>\n",
       "    </tr>\n",
       "    <tr>\n",
       "      <th>435</th>\n",
       "      <td>&amp;amp;#x200B;\\n\\nYour cat is fat and you're alm...</td>\n",
       "      <td>ruttydm</td>\n",
       "      <td>eq7wnb2</td>\n",
       "      <td>1559854536</td>\n",
       "      <td>0</td>\n",
       "      <td>0</td>\n",
       "      <td>NaN</td>\n",
       "      <td>NaN</td>\n",
       "      <td>10.0</td>\n",
       "      <td>11</td>\n",
       "      <td>...</td>\n",
       "      <td>tofu_schmo</td>\n",
       "      <td>eq7s9y5</td>\n",
       "      <td>1.559852e+09</td>\n",
       "      <td>0.0</td>\n",
       "      <td>6.0</td>\n",
       "      <td>NaN</td>\n",
       "      <td>NaN</td>\n",
       "      <td>['amp', 'x200b', 'your', 'cat', 'is', 'fat', '...</td>\n",
       "      <td>eq7s9y5</td>\n",
       "      <td>['yeah', 'it', 'is', 'super', 'dangerous', 'wh...</td>\n",
       "    </tr>\n",
       "    <tr>\n",
       "      <th>436</th>\n",
       "      <td>yeah it is super dangerous which is y all vega...</td>\n",
       "      <td>tofu_schmo</td>\n",
       "      <td>eq7s9y5</td>\n",
       "      <td>1559850779</td>\n",
       "      <td>0</td>\n",
       "      <td>6</td>\n",
       "      <td>NaN</td>\n",
       "      <td>NaN</td>\n",
       "      <td>8.0</td>\n",
       "      <td>11</td>\n",
       "      <td>...</td>\n",
       "      <td>ruttydm</td>\n",
       "      <td>eq7p0m2</td>\n",
       "      <td>1.559851e+09</td>\n",
       "      <td>0.0</td>\n",
       "      <td>-5.0</td>\n",
       "      <td>NaN</td>\n",
       "      <td>NaN</td>\n",
       "      <td>['yeah', 'it', 'is', 'super', 'dangerous', 'wh...</td>\n",
       "      <td>eq7p0m2</td>\n",
       "      <td>['it', 'shows', 'the', 'dangers', 'of', 'being...</td>\n",
       "    </tr>\n",
       "    <tr>\n",
       "      <th>437</th>\n",
       "      <td>It shows the dangers of being vegan.</td>\n",
       "      <td>ruttydm</td>\n",
       "      <td>eq7p0m2</td>\n",
       "      <td>1559850697</td>\n",
       "      <td>0</td>\n",
       "      <td>-5</td>\n",
       "      <td>NaN</td>\n",
       "      <td>NaN</td>\n",
       "      <td>7.0</td>\n",
       "      <td>11</td>\n",
       "      <td>...</td>\n",
       "      <td>tofu_schmo</td>\n",
       "      <td>eq7ovqr</td>\n",
       "      <td>1.559851e+09</td>\n",
       "      <td>0.0</td>\n",
       "      <td>7.0</td>\n",
       "      <td>NaN</td>\n",
       "      <td>NaN</td>\n",
       "      <td>['it', 'shows', 'the', 'dangers', 'of', 'being...</td>\n",
       "      <td>eq7ovqr</td>\n",
       "      <td>['no', 'ur', 'video', 'had', 'like', '7', 'peo...</td>\n",
       "    </tr>\n",
       "    <tr>\n",
       "      <th>438</th>\n",
       "      <td>no ur video had like 7 people that didnt look ...</td>\n",
       "      <td>tofu_schmo</td>\n",
       "      <td>eq7ovqr</td>\n",
       "      <td>1559850632</td>\n",
       "      <td>0</td>\n",
       "      <td>7</td>\n",
       "      <td>NaN</td>\n",
       "      <td>NaN</td>\n",
       "      <td>6.0</td>\n",
       "      <td>11</td>\n",
       "      <td>...</td>\n",
       "      <td>ruttydm</td>\n",
       "      <td>eq7mab4</td>\n",
       "      <td>1.559849e+09</td>\n",
       "      <td>0.0</td>\n",
       "      <td>-2.0</td>\n",
       "      <td>NaN</td>\n",
       "      <td>NaN</td>\n",
       "      <td>['no', 'ur', 'video', 'had', 'like', '7', 'peo...</td>\n",
       "      <td>eq7mab4</td>\n",
       "      <td>['the', 'level', 'of', 'sarcasm', 'is', 'high']</td>\n",
       "    </tr>\n",
       "  </tbody>\n",
       "</table>\n",
       "<p>5 rows × 22 columns</p>\n",
       "</div>"
      ],
      "text/plain": [
       "                                                  body      author comment_id  \\\n",
       "434   no I used to be but now im buff like matt daemon  tofu_schmo    eq8h3wy   \n",
       "435  &amp;#x200B;\\n\\nYour cat is fat and you're alm...     ruttydm    eq7wnb2   \n",
       "436  yeah it is super dangerous which is y all vega...  tofu_schmo    eq7s9y5   \n",
       "437               It shows the dangers of being vegan.     ruttydm    eq7p0m2   \n",
       "438  no ur video had like 7 people that didnt look ...  tofu_schmo    eq7ovqr   \n",
       "\n",
       "    created_utc controversiality score author_flair_css_class  \\\n",
       "434  1559865252                0     2                    NaN   \n",
       "435  1559854536                0     0                    NaN   \n",
       "436  1559850779                0     6                    NaN   \n",
       "437  1559850697                0    -5                    NaN   \n",
       "438  1559850632                0     7                    NaN   \n",
       "\n",
       "    author_flair_text  depth max_depth  ... parent_author parent_id  \\\n",
       "434               NaN   11.0        11  ...       ruttydm   eq7wnb2   \n",
       "435               NaN   10.0        11  ...    tofu_schmo   eq7s9y5   \n",
       "436               NaN    8.0        11  ...       ruttydm   eq7p0m2   \n",
       "437               NaN    7.0        11  ...    tofu_schmo   eq7ovqr   \n",
       "438               NaN    6.0        11  ...       ruttydm   eq7mab4   \n",
       "\n",
       "    parent_created_utc parent_controversiality  parent_score  \\\n",
       "434       1.559855e+09                     0.0           0.0   \n",
       "435       1.559852e+09                     0.0           6.0   \n",
       "436       1.559851e+09                     0.0          -5.0   \n",
       "437       1.559851e+09                     0.0           7.0   \n",
       "438       1.559849e+09                     0.0          -2.0   \n",
       "\n",
       "     parent_flair_css_class  parent_flair_text  \\\n",
       "434                     NaN                NaN   \n",
       "435                     NaN                NaN   \n",
       "436                     NaN                NaN   \n",
       "437                     NaN                NaN   \n",
       "438                     NaN                NaN   \n",
       "\n",
       "                                                tokens comment_id_parent  \\\n",
       "434  ['no', 'i', 'used', 'to', 'be', 'but', 'now', ...           eq7wnb2   \n",
       "435  ['amp', 'x200b', 'your', 'cat', 'is', 'fat', '...           eq7s9y5   \n",
       "436  ['yeah', 'it', 'is', 'super', 'dangerous', 'wh...           eq7p0m2   \n",
       "437  ['it', 'shows', 'the', 'dangers', 'of', 'being...           eq7ovqr   \n",
       "438  ['no', 'ur', 'video', 'had', 'like', '7', 'peo...           eq7mab4   \n",
       "\n",
       "                                         tokens_parent  \n",
       "434  ['amp', 'x200b', 'your', 'cat', 'is', 'fat', '...  \n",
       "435  ['yeah', 'it', 'is', 'super', 'dangerous', 'wh...  \n",
       "436  ['it', 'shows', 'the', 'dangers', 'of', 'being...  \n",
       "437  ['no', 'ur', 'video', 'had', 'like', '7', 'peo...  \n",
       "438    ['the', 'level', 'of', 'sarcasm', 'is', 'high']  \n",
       "\n",
       "[5 rows x 22 columns]"
      ]
     },
     "execution_count": 2,
     "metadata": {},
     "output_type": "execute_result"
    }
   ],
   "source": [
    "# df = pd.read_csv('/shared/3/projects/style-influence/data/final_samples/formality_allmetrics.tsv', sep='\\t')\n",
    "df = pd.read_csv('/shared/3/projects/style-influence/data/final_samples/formality_2019.tsv', sep='\\t', index_col=0)\n",
    "df.head()"
   ]
  },
  {
   "cell_type": "markdown",
   "id": "6c99c564",
   "metadata": {},
   "source": [
    "**Count comments per subreddit in the sample**"
   ]
  },
  {
   "cell_type": "code",
   "execution_count": 10,
   "id": "cbecf578",
   "metadata": {},
   "outputs": [
    {
     "data": {
      "text/html": [
       "<div>\n",
       "<style scoped>\n",
       "    .dataframe tbody tr th:only-of-type {\n",
       "        vertical-align: middle;\n",
       "    }\n",
       "\n",
       "    .dataframe tbody tr th {\n",
       "        vertical-align: top;\n",
       "    }\n",
       "\n",
       "    .dataframe thead th {\n",
       "        text-align: right;\n",
       "    }\n",
       "</style>\n",
       "<table border=\"1\" class=\"dataframe\">\n",
       "  <thead>\n",
       "    <tr style=\"text-align: right;\">\n",
       "      <th></th>\n",
       "      <th>subreddit</th>\n",
       "      <th>count</th>\n",
       "    </tr>\n",
       "  </thead>\n",
       "  <tbody>\n",
       "    <tr>\n",
       "      <th>0</th>\n",
       "      <td>teenagers</td>\n",
       "      <td>120711</td>\n",
       "    </tr>\n",
       "    <tr>\n",
       "      <th>1</th>\n",
       "      <td>AskReddit</td>\n",
       "      <td>104250</td>\n",
       "    </tr>\n",
       "    <tr>\n",
       "      <th>2</th>\n",
       "      <td>Market76</td>\n",
       "      <td>50761</td>\n",
       "    </tr>\n",
       "    <tr>\n",
       "      <th>3</th>\n",
       "      <td>unpopularopinion</td>\n",
       "      <td>39281</td>\n",
       "    </tr>\n",
       "    <tr>\n",
       "      <th>4</th>\n",
       "      <td>pokemontrades</td>\n",
       "      <td>38726</td>\n",
       "    </tr>\n",
       "  </tbody>\n",
       "</table>\n",
       "</div>"
      ],
      "text/plain": [
       "          subreddit   count\n",
       "0         teenagers  120711\n",
       "1         AskReddit  104250\n",
       "2          Market76   50761\n",
       "3  unpopularopinion   39281\n",
       "4     pokemontrades   38726"
      ]
     },
     "execution_count": 10,
     "metadata": {},
     "output_type": "execute_result"
    }
   ],
   "source": [
    "sub_counts = pd.DataFrame(df['subreddit'].value_counts()).reset_index()\n",
    "sub_counts.columns = ['subreddit', 'count']\n",
    "sub_counts.head()"
   ]
  },
  {
   "cell_type": "markdown",
   "id": "90409c16",
   "metadata": {},
   "source": [
    "**Add in user counts (2019)**"
   ]
  },
  {
   "cell_type": "code",
   "execution_count": 11,
   "id": "9ae0a07c",
   "metadata": {},
   "outputs": [
    {
     "name": "stdout",
     "output_type": "stream",
     "text": [
      "1057\n"
     ]
    },
    {
     "data": {
      "text/html": [
       "<div>\n",
       "<style scoped>\n",
       "    .dataframe tbody tr th:only-of-type {\n",
       "        vertical-align: middle;\n",
       "    }\n",
       "\n",
       "    .dataframe tbody tr th {\n",
       "        vertical-align: top;\n",
       "    }\n",
       "\n",
       "    .dataframe thead th {\n",
       "        text-align: right;\n",
       "    }\n",
       "</style>\n",
       "<table border=\"1\" class=\"dataframe\">\n",
       "  <thead>\n",
       "    <tr style=\"text-align: right;\">\n",
       "      <th></th>\n",
       "      <th>subreddit</th>\n",
       "      <th>users</th>\n",
       "    </tr>\n",
       "  </thead>\n",
       "  <tbody>\n",
       "    <tr>\n",
       "      <th>0</th>\n",
       "      <td>gifs</td>\n",
       "      <td>19843047</td>\n",
       "    </tr>\n",
       "    <tr>\n",
       "      <th>1</th>\n",
       "      <td>behindthegifs</td>\n",
       "      <td>242978</td>\n",
       "    </tr>\n",
       "    <tr>\n",
       "      <th>2</th>\n",
       "      <td>gif</td>\n",
       "      <td>234972</td>\n",
       "    </tr>\n",
       "    <tr>\n",
       "      <th>3</th>\n",
       "      <td>Cinemagraphs</td>\n",
       "      <td>1020842</td>\n",
       "    </tr>\n",
       "    <tr>\n",
       "      <th>4</th>\n",
       "      <td>WastedGifs</td>\n",
       "      <td>207150</td>\n",
       "    </tr>\n",
       "  </tbody>\n",
       "</table>\n",
       "</div>"
      ],
      "text/plain": [
       "       subreddit     users\n",
       "0           gifs  19843047\n",
       "1  behindthegifs    242978\n",
       "2            gif    234972\n",
       "3   Cinemagraphs   1020842\n",
       "4     WastedGifs    207150"
      ]
     },
     "execution_count": 11,
     "metadata": {},
     "output_type": "execute_result"
    }
   ],
   "source": [
    "with urllib.request.urlopen(\"https://pastebin.com/raw/XVBDM4jn\") as url:\n",
    "    data = json.load(url)\n",
    "    \n",
    "rows = []\n",
    "for sub, users in data.items():\n",
    "    rows.append({\n",
    "        'subreddit': sub[2:].strip(),\n",
    "        'users': int(users)\n",
    "    })\n",
    "    \n",
    "sub_users = pd.DataFrame(rows)\n",
    "sub_counts = sub_counts.merge(sub_users, on='subreddit')\n",
    "print(len(sub_counts))\n",
    "sub_users.head()"
   ]
  },
  {
   "cell_type": "markdown",
   "id": "b0773e25",
   "metadata": {},
   "source": [
    "**Pick 500 subreddits stratified by length of the sample size**\n",
    "\n",
    "**Filter to subs with at least 500 comments in the 2019 sample**"
   ]
  },
  {
   "cell_type": "code",
   "execution_count": 12,
   "id": "cd646605",
   "metadata": {},
   "outputs": [
    {
     "data": {
      "text/html": [
       "<div>\n",
       "<style scoped>\n",
       "    .dataframe tbody tr th:only-of-type {\n",
       "        vertical-align: middle;\n",
       "    }\n",
       "\n",
       "    .dataframe tbody tr th {\n",
       "        vertical-align: top;\n",
       "    }\n",
       "\n",
       "    .dataframe thead th {\n",
       "        text-align: right;\n",
       "    }\n",
       "</style>\n",
       "<table border=\"1\" class=\"dataframe\">\n",
       "  <thead>\n",
       "    <tr style=\"text-align: right;\">\n",
       "      <th></th>\n",
       "      <th>subreddit</th>\n",
       "      <th>count</th>\n",
       "      <th>users</th>\n",
       "      <th>quantile</th>\n",
       "    </tr>\n",
       "  </thead>\n",
       "  <tbody>\n",
       "    <tr>\n",
       "      <th>0</th>\n",
       "      <td>teenagers</td>\n",
       "      <td>120711</td>\n",
       "      <td>1878901</td>\n",
       "      <td>4Q</td>\n",
       "    </tr>\n",
       "    <tr>\n",
       "      <th>1</th>\n",
       "      <td>AskReddit</td>\n",
       "      <td>104250</td>\n",
       "      <td>27591007</td>\n",
       "      <td>4Q</td>\n",
       "    </tr>\n",
       "    <tr>\n",
       "      <th>2</th>\n",
       "      <td>unpopularopinion</td>\n",
       "      <td>39281</td>\n",
       "      <td>1199297</td>\n",
       "      <td>4Q</td>\n",
       "    </tr>\n",
       "    <tr>\n",
       "      <th>3</th>\n",
       "      <td>AMA</td>\n",
       "      <td>16413</td>\n",
       "      <td>528592</td>\n",
       "      <td>3Q</td>\n",
       "    </tr>\n",
       "    <tr>\n",
       "      <th>4</th>\n",
       "      <td>relationship_advice</td>\n",
       "      <td>15152</td>\n",
       "      <td>2958208</td>\n",
       "      <td>4Q</td>\n",
       "    </tr>\n",
       "  </tbody>\n",
       "</table>\n",
       "</div>"
      ],
      "text/plain": [
       "             subreddit   count     users quantile\n",
       "0            teenagers  120711   1878901       4Q\n",
       "1            AskReddit  104250  27591007       4Q\n",
       "2     unpopularopinion   39281   1199297       4Q\n",
       "3                  AMA   16413    528592       3Q\n",
       "4  relationship_advice   15152   2958208       4Q"
      ]
     },
     "execution_count": 12,
     "metadata": {},
     "output_type": "execute_result"
    }
   ],
   "source": [
    "sub_counts['quantile'] = pd.qcut(sub_counts['users'], 4, labels=[\"1Q\", \"2Q\", \"3Q\", '4Q'])\n",
    "sub_counts = sub_counts[sub_counts['count'] >= 250]\n",
    "sub_counts.head()"
   ]
  },
  {
   "cell_type": "code",
   "execution_count": 13,
   "id": "0b9e89ba",
   "metadata": {},
   "outputs": [
    {
     "data": {
      "text/plain": [
       "4Q    150\n",
       "2Q     86\n",
       "3Q     77\n",
       "1Q     72\n",
       "Name: quantile, dtype: int64"
      ]
     },
     "execution_count": 13,
     "metadata": {},
     "output_type": "execute_result"
    }
   ],
   "source": [
    "sub_counts['quantile'].value_counts()"
   ]
  },
  {
   "cell_type": "code",
   "execution_count": 14,
   "id": "ba4761d5",
   "metadata": {
    "scrolled": true
   },
   "outputs": [
    {
     "data": {
      "text/plain": [
       "280"
      ]
     },
     "execution_count": 14,
     "metadata": {},
     "output_type": "execute_result"
    }
   ],
   "source": [
    "sample_subs = sub_counts.groupby('quantile').sample(n=70, replace=False, random_state=1)['subreddit'].tolist()\n",
    "len(sample_subs)"
   ]
  },
  {
   "cell_type": "code",
   "execution_count": 15,
   "id": "e996aba3",
   "metadata": {},
   "outputs": [
    {
     "data": {
      "text/plain": [
       "354830"
      ]
     },
     "execution_count": 15,
     "metadata": {},
     "output_type": "execute_result"
    }
   ],
   "source": [
    "sample_df = df[['root_id', 'comment_id', 'author', 'subreddit', 'body']]\n",
    "sample_df = sample_df[sample_df['subreddit'].isin(sample_subs)]\n",
    "len(sample_df)"
   ]
  },
  {
   "cell_type": "markdown",
   "id": "beb4ae4f",
   "metadata": {},
   "source": [
    "**Sample up to 10,000 comments per subreddit. Minimum of 1k comments**"
   ]
  },
  {
   "cell_type": "code",
   "execution_count": 16,
   "id": "5f7d440c",
   "metadata": {},
   "outputs": [
    {
     "name": "stderr",
     "output_type": "stream",
     "text": [
      "100%|███████████████████████████████████████████| 280/280 [00:04<00:00, 65.15it/s]\n"
     ]
    },
    {
     "data": {
      "text/html": [
       "<div>\n",
       "<style scoped>\n",
       "    .dataframe tbody tr th:only-of-type {\n",
       "        vertical-align: middle;\n",
       "    }\n",
       "\n",
       "    .dataframe tbody tr th {\n",
       "        vertical-align: top;\n",
       "    }\n",
       "\n",
       "    .dataframe thead th {\n",
       "        text-align: right;\n",
       "    }\n",
       "</style>\n",
       "<table border=\"1\" class=\"dataframe\">\n",
       "  <thead>\n",
       "    <tr style=\"text-align: right;\">\n",
       "      <th></th>\n",
       "      <th>root_id</th>\n",
       "      <th>comment_id</th>\n",
       "      <th>author</th>\n",
       "      <th>subreddit</th>\n",
       "      <th>body</th>\n",
       "    </tr>\n",
       "  </thead>\n",
       "  <tbody>\n",
       "    <tr>\n",
       "      <th>0</th>\n",
       "      <td>evcnza3</td>\n",
       "      <td>evcnza3</td>\n",
       "      <td>CrimsonSun-FTW</td>\n",
       "      <td>tumblr</td>\n",
       "      <td>Its awoo time</td>\n",
       "    </tr>\n",
       "    <tr>\n",
       "      <th>1</th>\n",
       "      <td>f2tne71</td>\n",
       "      <td>f2y4kwy</td>\n",
       "      <td>boop-oop-a-doop-bop</td>\n",
       "      <td>tumblr</td>\n",
       "      <td>I’m saying this has the potential to backfire ...</td>\n",
       "    </tr>\n",
       "    <tr>\n",
       "      <th>2</th>\n",
       "      <td>f2a22se</td>\n",
       "      <td>f2a5phf</td>\n",
       "      <td>65mariokart</td>\n",
       "      <td>tumblr</td>\n",
       "      <td>‘</td>\n",
       "    </tr>\n",
       "    <tr>\n",
       "      <th>3</th>\n",
       "      <td>euh53de</td>\n",
       "      <td>euh53de</td>\n",
       "      <td>dirigibalistic</td>\n",
       "      <td>tumblr</td>\n",
       "      <td>Why the Fuck did we stop making these</td>\n",
       "    </tr>\n",
       "    <tr>\n",
       "      <th>4</th>\n",
       "      <td>f23qdib</td>\n",
       "      <td>f254rz8</td>\n",
       "      <td>one2z</td>\n",
       "      <td>tumblr</td>\n",
       "      <td>alparlabratories\\n\\n&amp;gt;is it blood that has a...</td>\n",
       "    </tr>\n",
       "  </tbody>\n",
       "</table>\n",
       "</div>"
      ],
      "text/plain": [
       "   root_id comment_id               author subreddit  \\\n",
       "0  evcnza3    evcnza3       CrimsonSun-FTW    tumblr   \n",
       "1  f2tne71    f2y4kwy  boop-oop-a-doop-bop    tumblr   \n",
       "2  f2a22se    f2a5phf          65mariokart    tumblr   \n",
       "3  euh53de    euh53de       dirigibalistic    tumblr   \n",
       "4  f23qdib    f254rz8                one2z    tumblr   \n",
       "\n",
       "                                                body  \n",
       "0                                      Its awoo time  \n",
       "1  I’m saying this has the potential to backfire ...  \n",
       "2                                                  ‘  \n",
       "3              Why the Fuck did we stop making these  \n",
       "4  alparlabratories\\n\\n&gt;is it blood that has a...  "
      ]
     },
     "execution_count": 16,
     "metadata": {},
     "output_type": "execute_result"
    }
   ],
   "source": [
    "frames = []\n",
    "\n",
    "for subreddit in tqdm(sample_df['subreddit'].unique()):\n",
    "    subreddit_df = sample_df[sample_df['subreddit'] == subreddit]\n",
    "    sample_size = min(10000, len(subreddit_df))\n",
    "    sub_sample_df = subreddit_df.sample(n=sample_size, replace=False, random_state=0)\n",
    "    frames.append(sub_sample_df)\n",
    "    \n",
    "subreddit_samples = pd.concat(frames, ignore_index=True)\n",
    "subreddit_samples.head()"
   ]
  },
  {
   "cell_type": "markdown",
   "id": "830fe4bf",
   "metadata": {},
   "source": [
    "**Combine text for users at the subreddit level**"
   ]
  },
  {
   "cell_type": "code",
   "execution_count": 17,
   "id": "189f228b",
   "metadata": {},
   "outputs": [
    {
     "data": {
      "text/html": [
       "<div>\n",
       "<style scoped>\n",
       "    .dataframe tbody tr th:only-of-type {\n",
       "        vertical-align: middle;\n",
       "    }\n",
       "\n",
       "    .dataframe tbody tr th {\n",
       "        vertical-align: top;\n",
       "    }\n",
       "\n",
       "    .dataframe thead th {\n",
       "        text-align: right;\n",
       "    }\n",
       "</style>\n",
       "<table border=\"1\" class=\"dataframe\">\n",
       "  <thead>\n",
       "    <tr style=\"text-align: right;\">\n",
       "      <th></th>\n",
       "      <th>author</th>\n",
       "      <th>subreddit</th>\n",
       "      <th>text</th>\n",
       "    </tr>\n",
       "  </thead>\n",
       "  <tbody>\n",
       "    <tr>\n",
       "      <th>0</th>\n",
       "      <td>CrimsonSun-FTW</td>\n",
       "      <td>tumblr</td>\n",
       "      <td>Its awoo time Ever heard of the *communist man...</td>\n",
       "    </tr>\n",
       "    <tr>\n",
       "      <th>1</th>\n",
       "      <td>boop-oop-a-doop-bop</td>\n",
       "      <td>tumblr</td>\n",
       "      <td>I’m saying this has the potential to backfire ...</td>\n",
       "    </tr>\n",
       "    <tr>\n",
       "      <th>2</th>\n",
       "      <td>65mariokart</td>\n",
       "      <td>tumblr</td>\n",
       "      <td>‘ O E Y H , N O</td>\n",
       "    </tr>\n",
       "    <tr>\n",
       "      <th>3</th>\n",
       "      <td>dirigibalistic</td>\n",
       "      <td>tumblr</td>\n",
       "      <td>Why the Fuck did we stop making these Hmmm... ...</td>\n",
       "    </tr>\n",
       "    <tr>\n",
       "      <th>4</th>\n",
       "      <td>one2z</td>\n",
       "      <td>tumblr</td>\n",
       "      <td>alparlabratories\\n\\n&amp;gt;is it blood that has a...</td>\n",
       "    </tr>\n",
       "  </tbody>\n",
       "</table>\n",
       "</div>"
      ],
      "text/plain": [
       "                author subreddit  \\\n",
       "0       CrimsonSun-FTW    tumblr   \n",
       "1  boop-oop-a-doop-bop    tumblr   \n",
       "2          65mariokart    tumblr   \n",
       "3       dirigibalistic    tumblr   \n",
       "4                one2z    tumblr   \n",
       "\n",
       "                                                text  \n",
       "0  Its awoo time Ever heard of the *communist man...  \n",
       "1  I’m saying this has the potential to backfire ...  \n",
       "2                                    ‘ O E Y H , N O  \n",
       "3  Why the Fuck did we stop making these Hmmm... ...  \n",
       "4  alparlabratories\\n\\n&gt;is it blood that has a...  "
      ]
     },
     "execution_count": 17,
     "metadata": {},
     "output_type": "execute_result"
    }
   ],
   "source": [
    "subreddit_samples['body'] = subreddit_samples['body'].astype(str)\n",
    "subreddit_samples['text'] = subreddit_samples[['author', 'subreddit', 'body']].groupby(['author','subreddit'])['body'].transform(lambda x: ' '.join(x))\n",
    "subreddit_samples = subreddit_samples[['author','subreddit','text']].drop_duplicates()\n",
    "subreddit_samples.head()"
   ]
  },
  {
   "cell_type": "code",
   "execution_count": 18,
   "id": "2213e59a",
   "metadata": {},
   "outputs": [
    {
     "data": {
      "text/plain": [
       "69655"
      ]
     },
     "execution_count": 18,
     "metadata": {},
     "output_type": "execute_result"
    }
   ],
   "source": [
    "len(subreddit_samples)"
   ]
  },
  {
   "cell_type": "markdown",
   "id": "638622e4",
   "metadata": {},
   "source": [
    "**Limit to at least 100 words**"
   ]
  },
  {
   "cell_type": "code",
   "execution_count": 19,
   "id": "7799d386",
   "metadata": {},
   "outputs": [
    {
     "name": "stderr",
     "output_type": "stream",
     "text": [
      "69655it [00:00, 135575.39it/s]\n"
     ]
    },
    {
     "data": {
      "text/plain": [
       "31749"
      ]
     },
     "execution_count": 19,
     "metadata": {},
     "output_type": "execute_result"
    }
   ],
   "source": [
    "filtered_rows = []\n",
    "\n",
    "for row in tqdm(subreddit_samples.itertuples()):\n",
    "    words = len(row.text.split(' '))\n",
    "    if words >= 100:\n",
    "        filtered_rows.append(row)\n",
    "\n",
    "subreddit_texts = pd.DataFrame(filtered_rows)\n",
    "len(subreddit_texts)"
   ]
  },
  {
   "cell_type": "markdown",
   "id": "d697854c",
   "metadata": {},
   "source": [
    "**Save for later**"
   ]
  },
  {
   "cell_type": "code",
   "execution_count": 20,
   "id": "35241fc1",
   "metadata": {},
   "outputs": [],
   "source": [
    "subreddit_texts.to_csv('/shared/3/projects/style-influence/data/samples/2019_subs_text_samples.tsv', sep='\\t', index=False)"
   ]
  },
  {
   "cell_type": "code",
   "execution_count": 21,
   "id": "59a4cf6f",
   "metadata": {},
   "outputs": [
    {
     "name": "stdout",
     "output_type": "stream",
     "text": [
      "1179.0 1992.4538725629154\n"
     ]
    }
   ],
   "source": [
    "print(subreddit_texts['text'].apply(len).median(), subreddit_texts['text'].apply(len).mean())"
   ]
  },
  {
   "cell_type": "markdown",
   "id": "c084043b",
   "metadata": {},
   "source": [
    "## Tag with Biber Tool"
   ]
  },
  {
   "cell_type": "markdown",
   "id": "2ccd2483",
   "metadata": {},
   "source": [
    "**Tag the posts with the biber tool and record average tag frequencies**"
   ]
  },
  {
   "cell_type": "code",
   "execution_count": 22,
   "id": "3bdaa4d6",
   "metadata": {
    "scrolled": true
   },
   "outputs": [
    {
     "data": {
      "text/plain": [
       "{'biber': True,\n",
       " 'function_words': False,\n",
       " 'grieve_clarke': False,\n",
       " 'function_words_list': [],\n",
       " 'token_normalization': 100,\n",
       " 'use_gpu': False,\n",
       " 'show_progress': False,\n",
       " 'n_processes': 1,\n",
       " 'processing_size': 10000,\n",
       " 'return_text': False,\n",
       " 'drop_last_batch_pct': 0.5}"
      ]
     },
     "execution_count": 22,
     "metadata": {},
     "output_type": "execute_result"
    }
   ],
   "source": [
    "config = load_config()\n",
    "config.update({'token_normalization': 100, 'use_gpu': False, 'function_words': False, 'grieve_clarke': False})\n",
    "pipeline = load_pipeline(config)\n",
    "config"
   ]
  },
  {
   "cell_type": "code",
   "execution_count": 24,
   "id": "41403c22",
   "metadata": {},
   "outputs": [
    {
     "name": "stderr",
     "output_type": "stream",
     "text": [
      " 71%|██████████████████████████████▌            | 199/280 [26:34<04:42,  3.48s/it]"
     ]
    },
    {
     "name": "stdout",
     "output_type": "stream",
     "text": [
      "rugbyunion 53\n",
      "'tag'\n"
     ]
    },
    {
     "name": "stderr",
     "output_type": "stream",
     "text": [
      " 88%|█████████████████████████████████████▋     | 245/280 [29:14<01:41,  2.90s/it]"
     ]
    },
    {
     "name": "stdout",
     "output_type": "stream",
     "text": [
      "terriblefacebookmemes 13\n",
      "'tag'\n"
     ]
    },
    {
     "name": "stderr",
     "output_type": "stream",
     "text": [
      "100%|███████████████████████████████████████████| 280/280 [31:00<00:00,  6.64s/it]\n"
     ]
    }
   ],
   "source": [
    "rows = []\n",
    "subreddits = subreddit_texts['subreddit'].unique()\n",
    "\n",
    "for subreddit in tqdm(subreddits):\n",
    "    texts = subreddit_texts[subreddit_texts['subreddit'] == subreddit]['text']\n",
    "    for index, text in enumerate(texts):\n",
    "        try:\n",
    "            freqs = calculate_tag_frequencies(text, pipeline=pipeline, config=config)\n",
    "            result = dict(zip(freqs['tag'], freqs['mean']))\n",
    "            result['index'] = index\n",
    "            result['subreddit'] = subreddit\n",
    "            rows.append(result)\n",
    "        except Exception as e:\n",
    "            print(subreddit, len(texts))\n",
    "            print(e)"
   ]
  },
  {
   "cell_type": "code",
   "execution_count": 25,
   "id": "61c9a558",
   "metadata": {},
   "outputs": [
    {
     "data": {
      "text/html": [
       "<div>\n",
       "<style scoped>\n",
       "    .dataframe tbody tr th:only-of-type {\n",
       "        vertical-align: middle;\n",
       "    }\n",
       "\n",
       "    .dataframe tbody tr th {\n",
       "        vertical-align: top;\n",
       "    }\n",
       "\n",
       "    .dataframe thead th {\n",
       "        text-align: right;\n",
       "    }\n",
       "</style>\n",
       "<table border=\"1\" class=\"dataframe\">\n",
       "  <thead>\n",
       "    <tr style=\"text-align: right;\">\n",
       "      <th></th>\n",
       "      <th>QUAN</th>\n",
       "      <th>QUPR</th>\n",
       "      <th>AMP</th>\n",
       "      <th>PASS</th>\n",
       "      <th>XX0</th>\n",
       "      <th>JJ</th>\n",
       "      <th>BEMA</th>\n",
       "      <th>CAUS</th>\n",
       "      <th>CONC</th>\n",
       "      <th>COND</th>\n",
       "      <th>...</th>\n",
       "      <th>SPAU</th>\n",
       "      <th>SPIN</th>\n",
       "      <th>THATD</th>\n",
       "      <th>WHOBJ</th>\n",
       "      <th>WHSUB</th>\n",
       "      <th>WHCL</th>\n",
       "      <th>AWL</th>\n",
       "      <th>TTR</th>\n",
       "      <th>index</th>\n",
       "      <th>subreddit</th>\n",
       "    </tr>\n",
       "  </thead>\n",
       "  <tbody>\n",
       "    <tr>\n",
       "      <th>0</th>\n",
       "      <td>1.000000</td>\n",
       "      <td>0.833333</td>\n",
       "      <td>0.166667</td>\n",
       "      <td>0.333333</td>\n",
       "      <td>0.166667</td>\n",
       "      <td>3.666667</td>\n",
       "      <td>1.000000</td>\n",
       "      <td>0.833333</td>\n",
       "      <td>0.000</td>\n",
       "      <td>0.166667</td>\n",
       "      <td>...</td>\n",
       "      <td>0.166667</td>\n",
       "      <td>0.0</td>\n",
       "      <td>1.333333</td>\n",
       "      <td>0.166667</td>\n",
       "      <td>0.500000</td>\n",
       "      <td>0.166667</td>\n",
       "      <td>3.788666</td>\n",
       "      <td>0.758555</td>\n",
       "      <td>0</td>\n",
       "      <td>tumblr</td>\n",
       "    </tr>\n",
       "    <tr>\n",
       "      <th>1</th>\n",
       "      <td>1.666667</td>\n",
       "      <td>0.000000</td>\n",
       "      <td>0.000000</td>\n",
       "      <td>0.666667</td>\n",
       "      <td>1.666667</td>\n",
       "      <td>6.500000</td>\n",
       "      <td>1.166667</td>\n",
       "      <td>0.166667</td>\n",
       "      <td>0.000</td>\n",
       "      <td>0.500000</td>\n",
       "      <td>...</td>\n",
       "      <td>0.833333</td>\n",
       "      <td>0.0</td>\n",
       "      <td>0.333333</td>\n",
       "      <td>0.166667</td>\n",
       "      <td>0.166667</td>\n",
       "      <td>0.166667</td>\n",
       "      <td>3.750787</td>\n",
       "      <td>0.734614</td>\n",
       "      <td>1</td>\n",
       "      <td>tumblr</td>\n",
       "    </tr>\n",
       "    <tr>\n",
       "      <th>2</th>\n",
       "      <td>0.500000</td>\n",
       "      <td>0.500000</td>\n",
       "      <td>0.000000</td>\n",
       "      <td>0.000000</td>\n",
       "      <td>1.500000</td>\n",
       "      <td>5.000000</td>\n",
       "      <td>0.500000</td>\n",
       "      <td>0.000000</td>\n",
       "      <td>0.000</td>\n",
       "      <td>0.000000</td>\n",
       "      <td>...</td>\n",
       "      <td>0.000000</td>\n",
       "      <td>0.0</td>\n",
       "      <td>0.000000</td>\n",
       "      <td>0.000000</td>\n",
       "      <td>0.500000</td>\n",
       "      <td>0.500000</td>\n",
       "      <td>3.904930</td>\n",
       "      <td>0.811033</td>\n",
       "      <td>2</td>\n",
       "      <td>tumblr</td>\n",
       "    </tr>\n",
       "    <tr>\n",
       "      <th>3</th>\n",
       "      <td>0.750000</td>\n",
       "      <td>0.875000</td>\n",
       "      <td>0.000000</td>\n",
       "      <td>0.250000</td>\n",
       "      <td>1.250000</td>\n",
       "      <td>5.375000</td>\n",
       "      <td>2.750000</td>\n",
       "      <td>0.000000</td>\n",
       "      <td>0.125</td>\n",
       "      <td>0.625000</td>\n",
       "      <td>...</td>\n",
       "      <td>0.500000</td>\n",
       "      <td>0.0</td>\n",
       "      <td>0.500000</td>\n",
       "      <td>0.000000</td>\n",
       "      <td>0.125000</td>\n",
       "      <td>0.375000</td>\n",
       "      <td>3.749567</td>\n",
       "      <td>0.711568</td>\n",
       "      <td>3</td>\n",
       "      <td>tumblr</td>\n",
       "    </tr>\n",
       "    <tr>\n",
       "      <th>4</th>\n",
       "      <td>0.000000</td>\n",
       "      <td>0.000000</td>\n",
       "      <td>0.000000</td>\n",
       "      <td>0.000000</td>\n",
       "      <td>0.500000</td>\n",
       "      <td>8.500000</td>\n",
       "      <td>1.000000</td>\n",
       "      <td>0.000000</td>\n",
       "      <td>0.000</td>\n",
       "      <td>0.500000</td>\n",
       "      <td>...</td>\n",
       "      <td>0.000000</td>\n",
       "      <td>0.0</td>\n",
       "      <td>0.500000</td>\n",
       "      <td>0.000000</td>\n",
       "      <td>0.500000</td>\n",
       "      <td>0.000000</td>\n",
       "      <td>3.557143</td>\n",
       "      <td>0.735714</td>\n",
       "      <td>4</td>\n",
       "      <td>tumblr</td>\n",
       "    </tr>\n",
       "  </tbody>\n",
       "</table>\n",
       "<p>5 rows × 71 columns</p>\n",
       "</div>"
      ],
      "text/plain": [
       "       QUAN      QUPR       AMP      PASS       XX0        JJ      BEMA  \\\n",
       "0  1.000000  0.833333  0.166667  0.333333  0.166667  3.666667  1.000000   \n",
       "1  1.666667  0.000000  0.000000  0.666667  1.666667  6.500000  1.166667   \n",
       "2  0.500000  0.500000  0.000000  0.000000  1.500000  5.000000  0.500000   \n",
       "3  0.750000  0.875000  0.000000  0.250000  1.250000  5.375000  2.750000   \n",
       "4  0.000000  0.000000  0.000000  0.000000  0.500000  8.500000  1.000000   \n",
       "\n",
       "       CAUS   CONC      COND  ...      SPAU  SPIN     THATD     WHOBJ  \\\n",
       "0  0.833333  0.000  0.166667  ...  0.166667   0.0  1.333333  0.166667   \n",
       "1  0.166667  0.000  0.500000  ...  0.833333   0.0  0.333333  0.166667   \n",
       "2  0.000000  0.000  0.000000  ...  0.000000   0.0  0.000000  0.000000   \n",
       "3  0.000000  0.125  0.625000  ...  0.500000   0.0  0.500000  0.000000   \n",
       "4  0.000000  0.000  0.500000  ...  0.000000   0.0  0.500000  0.000000   \n",
       "\n",
       "      WHSUB      WHCL       AWL       TTR  index  subreddit  \n",
       "0  0.500000  0.166667  3.788666  0.758555      0     tumblr  \n",
       "1  0.166667  0.166667  3.750787  0.734614      1     tumblr  \n",
       "2  0.500000  0.500000  3.904930  0.811033      2     tumblr  \n",
       "3  0.125000  0.375000  3.749567  0.711568      3     tumblr  \n",
       "4  0.500000  0.000000  3.557143  0.735714      4     tumblr  \n",
       "\n",
       "[5 rows x 71 columns]"
      ]
     },
     "execution_count": 25,
     "metadata": {},
     "output_type": "execute_result"
    }
   ],
   "source": [
    "df = pd.DataFrame(rows)\n",
    "df.head()"
   ]
  },
  {
   "cell_type": "code",
   "execution_count": 26,
   "id": "8130bd1c",
   "metadata": {},
   "outputs": [],
   "source": [
    "df.to_csv('/shared/3/projects/style-influence/data/entropy/2019_tag_counts.tsv', sep='\\t', index=False)"
   ]
  },
  {
   "cell_type": "markdown",
   "id": "3d50b027",
   "metadata": {},
   "source": [
    "## Entropy Calculations\n",
    "\n",
    "**Calculate subreddit entropy per tag**"
   ]
  },
  {
   "cell_type": "code",
   "execution_count": 27,
   "id": "deba65d6",
   "metadata": {},
   "outputs": [],
   "source": [
    "tags = df.columns.tolist()\n",
    "tags.remove(\"index\")\n",
    "tags.remove(\"subreddit\")"
   ]
  },
  {
   "cell_type": "code",
   "execution_count": 28,
   "id": "5ab81d8f",
   "metadata": {},
   "outputs": [
    {
     "data": {
      "text/html": [
       "<div>\n",
       "<style scoped>\n",
       "    .dataframe tbody tr th:only-of-type {\n",
       "        vertical-align: middle;\n",
       "    }\n",
       "\n",
       "    .dataframe tbody tr th {\n",
       "        vertical-align: top;\n",
       "    }\n",
       "\n",
       "    .dataframe thead th {\n",
       "        text-align: right;\n",
       "    }\n",
       "</style>\n",
       "<table border=\"1\" class=\"dataframe\">\n",
       "  <thead>\n",
       "    <tr style=\"text-align: right;\">\n",
       "      <th></th>\n",
       "      <th>3Dprinting</th>\n",
       "      <th>4chan</th>\n",
       "      <th>ADHD</th>\n",
       "      <th>AMA</th>\n",
       "      <th>Anticonsumption</th>\n",
       "      <th>Anxiety</th>\n",
       "      <th>Art</th>\n",
       "      <th>Bad_Cop_No_Donut</th>\n",
       "      <th>BokuNoHeroAcademia</th>\n",
       "      <th>Buddhism</th>\n",
       "      <th>...</th>\n",
       "      <th>whatisthisthing</th>\n",
       "      <th>whatsthisbug</th>\n",
       "      <th>whowouldwin</th>\n",
       "      <th>windows</th>\n",
       "      <th>woooosh</th>\n",
       "      <th>worldnews</th>\n",
       "      <th>youngpeopleyoutube</th>\n",
       "      <th>youtube</th>\n",
       "      <th>yugioh</th>\n",
       "      <th>tag</th>\n",
       "    </tr>\n",
       "  </thead>\n",
       "  <tbody>\n",
       "    <tr>\n",
       "      <th>0</th>\n",
       "      <td>4.154760</td>\n",
       "      <td>3.386266</td>\n",
       "      <td>4.146582</td>\n",
       "      <td>4.107090</td>\n",
       "      <td>3.810081</td>\n",
       "      <td>4.368246</td>\n",
       "      <td>3.300817</td>\n",
       "      <td>3.381109</td>\n",
       "      <td>4.640102</td>\n",
       "      <td>4.419275</td>\n",
       "      <td>...</td>\n",
       "      <td>2.495792</td>\n",
       "      <td>2.412255</td>\n",
       "      <td>5.243044</td>\n",
       "      <td>3.735782</td>\n",
       "      <td>1.925411</td>\n",
       "      <td>4.939582</td>\n",
       "      <td>2.396310</td>\n",
       "      <td>3.799195</td>\n",
       "      <td>4.508117</td>\n",
       "      <td>QUAN</td>\n",
       "    </tr>\n",
       "    <tr>\n",
       "      <th>1</th>\n",
       "      <td>3.103397</td>\n",
       "      <td>3.168233</td>\n",
       "      <td>3.229122</td>\n",
       "      <td>3.329449</td>\n",
       "      <td>3.350586</td>\n",
       "      <td>3.791907</td>\n",
       "      <td>2.911851</td>\n",
       "      <td>2.966380</td>\n",
       "      <td>3.694824</td>\n",
       "      <td>3.557875</td>\n",
       "      <td>...</td>\n",
       "      <td>2.176698</td>\n",
       "      <td>2.295587</td>\n",
       "      <td>4.395407</td>\n",
       "      <td>2.203496</td>\n",
       "      <td>2.173973</td>\n",
       "      <td>4.025304</td>\n",
       "      <td>1.911093</td>\n",
       "      <td>3.300713</td>\n",
       "      <td>3.150802</td>\n",
       "      <td>QUPR</td>\n",
       "    </tr>\n",
       "    <tr>\n",
       "      <th>2</th>\n",
       "      <td>2.296056</td>\n",
       "      <td>2.422675</td>\n",
       "      <td>2.554824</td>\n",
       "      <td>2.608315</td>\n",
       "      <td>2.865275</td>\n",
       "      <td>2.629755</td>\n",
       "      <td>2.411409</td>\n",
       "      <td>2.289401</td>\n",
       "      <td>3.073483</td>\n",
       "      <td>3.090684</td>\n",
       "      <td>...</td>\n",
       "      <td>1.582235</td>\n",
       "      <td>2.468738</td>\n",
       "      <td>3.689874</td>\n",
       "      <td>2.023491</td>\n",
       "      <td>1.439254</td>\n",
       "      <td>2.980879</td>\n",
       "      <td>0.722858</td>\n",
       "      <td>2.609831</td>\n",
       "      <td>2.489156</td>\n",
       "      <td>AMP</td>\n",
       "    </tr>\n",
       "    <tr>\n",
       "      <th>3</th>\n",
       "      <td>2.905207</td>\n",
       "      <td>3.044913</td>\n",
       "      <td>3.236330</td>\n",
       "      <td>2.956026</td>\n",
       "      <td>3.429908</td>\n",
       "      <td>2.772323</td>\n",
       "      <td>2.718408</td>\n",
       "      <td>3.283477</td>\n",
       "      <td>3.879580</td>\n",
       "      <td>4.179194</td>\n",
       "      <td>...</td>\n",
       "      <td>3.084673</td>\n",
       "      <td>2.593848</td>\n",
       "      <td>4.650510</td>\n",
       "      <td>2.642995</td>\n",
       "      <td>1.140068</td>\n",
       "      <td>4.471409</td>\n",
       "      <td>1.663605</td>\n",
       "      <td>3.005365</td>\n",
       "      <td>3.082315</td>\n",
       "      <td>PASS</td>\n",
       "    </tr>\n",
       "    <tr>\n",
       "      <th>4</th>\n",
       "      <td>3.870763</td>\n",
       "      <td>3.572624</td>\n",
       "      <td>4.326240</td>\n",
       "      <td>4.320276</td>\n",
       "      <td>4.134336</td>\n",
       "      <td>4.364910</td>\n",
       "      <td>3.490191</td>\n",
       "      <td>4.041365</td>\n",
       "      <td>4.787530</td>\n",
       "      <td>4.597076</td>\n",
       "      <td>...</td>\n",
       "      <td>3.305583</td>\n",
       "      <td>3.215166</td>\n",
       "      <td>5.592610</td>\n",
       "      <td>3.913750</td>\n",
       "      <td>2.866587</td>\n",
       "      <td>5.429450</td>\n",
       "      <td>2.527496</td>\n",
       "      <td>3.950672</td>\n",
       "      <td>4.379924</td>\n",
       "      <td>XX0</td>\n",
       "    </tr>\n",
       "  </tbody>\n",
       "</table>\n",
       "<p>5 rows × 281 columns</p>\n",
       "</div>"
      ],
      "text/plain": [
       "   3Dprinting     4chan      ADHD       AMA  Anticonsumption   Anxiety  \\\n",
       "0    4.154760  3.386266  4.146582  4.107090         3.810081  4.368246   \n",
       "1    3.103397  3.168233  3.229122  3.329449         3.350586  3.791907   \n",
       "2    2.296056  2.422675  2.554824  2.608315         2.865275  2.629755   \n",
       "3    2.905207  3.044913  3.236330  2.956026         3.429908  2.772323   \n",
       "4    3.870763  3.572624  4.326240  4.320276         4.134336  4.364910   \n",
       "\n",
       "        Art  Bad_Cop_No_Donut  BokuNoHeroAcademia  Buddhism  ...  \\\n",
       "0  3.300817          3.381109            4.640102  4.419275  ...   \n",
       "1  2.911851          2.966380            3.694824  3.557875  ...   \n",
       "2  2.411409          2.289401            3.073483  3.090684  ...   \n",
       "3  2.718408          3.283477            3.879580  4.179194  ...   \n",
       "4  3.490191          4.041365            4.787530  4.597076  ...   \n",
       "\n",
       "   whatisthisthing  whatsthisbug  whowouldwin   windows   woooosh  worldnews  \\\n",
       "0         2.495792      2.412255     5.243044  3.735782  1.925411   4.939582   \n",
       "1         2.176698      2.295587     4.395407  2.203496  2.173973   4.025304   \n",
       "2         1.582235      2.468738     3.689874  2.023491  1.439254   2.980879   \n",
       "3         3.084673      2.593848     4.650510  2.642995  1.140068   4.471409   \n",
       "4         3.305583      3.215166     5.592610  3.913750  2.866587   5.429450   \n",
       "\n",
       "   youngpeopleyoutube   youtube    yugioh   tag  \n",
       "0            2.396310  3.799195  4.508117  QUAN  \n",
       "1            1.911093  3.300713  3.150802  QUPR  \n",
       "2            0.722858  2.609831  2.489156   AMP  \n",
       "3            1.663605  3.005365  3.082315  PASS  \n",
       "4            2.527496  3.950672  4.379924   XX0  \n",
       "\n",
       "[5 rows x 281 columns]"
      ]
     },
     "execution_count": 28,
     "metadata": {},
     "output_type": "execute_result"
    }
   ],
   "source": [
    "tag_entropies = []\n",
    "\n",
    "for tag in tags:\n",
    "    entropies = df.groupby('subreddit')[tag].apply(lambda x : entropy(x.value_counts(), base=2))\n",
    "    result = dict(zip(entropies.index.tolist(), entropies.values))\n",
    "    result['tag'] = tag\n",
    "    tag_entropies.append(result)\n",
    "    \n",
    "entropies_df = pd.DataFrame(tag_entropies)\n",
    "entropies_df.head()"
   ]
  },
  {
   "cell_type": "code",
   "execution_count": 29,
   "id": "26df3583",
   "metadata": {},
   "outputs": [],
   "source": [
    "entropies_df.to_csv('/shared/3/projects/style-influence/data/entropy/2019_subreddit_tag_entropies.tsv', sep='\\t', index=False)"
   ]
  },
  {
   "cell_type": "markdown",
   "id": "0ab874ce",
   "metadata": {},
   "source": [
    "## Visualizing Entropy"
   ]
  },
  {
   "cell_type": "markdown",
   "id": "686b1b15",
   "metadata": {},
   "source": [
    "**Calculate average and total entropy for the subreddits**"
   ]
  },
  {
   "cell_type": "code",
   "execution_count": 30,
   "id": "3ef2011b",
   "metadata": {},
   "outputs": [
    {
     "name": "stderr",
     "output_type": "stream",
     "text": [
      "/tmp/ipykernel_2201252/2851289346.py:1: FutureWarning: The default value of numeric_only in DataFrame.mean is deprecated. In a future version, it will default to False. In addition, specifying 'numeric_only=None' is deprecated. Select only valid columns or specify the value of numeric_only to silence this warning.\n",
      "  mean_entropies = entropies_df.mean().reset_index()\n"
     ]
    },
    {
     "data": {
      "text/html": [
       "<div>\n",
       "<style scoped>\n",
       "    .dataframe tbody tr th:only-of-type {\n",
       "        vertical-align: middle;\n",
       "    }\n",
       "\n",
       "    .dataframe tbody tr th {\n",
       "        vertical-align: top;\n",
       "    }\n",
       "\n",
       "    .dataframe thead th {\n",
       "        text-align: right;\n",
       "    }\n",
       "</style>\n",
       "<table border=\"1\" class=\"dataframe\">\n",
       "  <thead>\n",
       "    <tr style=\"text-align: right;\">\n",
       "      <th></th>\n",
       "      <th>subreddit</th>\n",
       "      <th>Mean Entropy</th>\n",
       "      <th>Sum Entropy</th>\n",
       "      <th>users</th>\n",
       "    </tr>\n",
       "  </thead>\n",
       "  <tbody>\n",
       "    <tr>\n",
       "      <th>0</th>\n",
       "      <td>3Dprinting</td>\n",
       "      <td>3.214517</td>\n",
       "      <td>221.801685</td>\n",
       "      <td>456770</td>\n",
       "    </tr>\n",
       "    <tr>\n",
       "      <th>1</th>\n",
       "      <td>4chan</td>\n",
       "      <td>2.598331</td>\n",
       "      <td>179.284818</td>\n",
       "      <td>1145910</td>\n",
       "    </tr>\n",
       "    <tr>\n",
       "      <th>2</th>\n",
       "      <td>ADHD</td>\n",
       "      <td>3.289610</td>\n",
       "      <td>226.983107</td>\n",
       "      <td>721919</td>\n",
       "    </tr>\n",
       "    <tr>\n",
       "      <th>3</th>\n",
       "      <td>AMA</td>\n",
       "      <td>3.314779</td>\n",
       "      <td>228.719756</td>\n",
       "      <td>528592</td>\n",
       "    </tr>\n",
       "    <tr>\n",
       "      <th>4</th>\n",
       "      <td>Anticonsumption</td>\n",
       "      <td>3.117201</td>\n",
       "      <td>215.086842</td>\n",
       "      <td>216158</td>\n",
       "    </tr>\n",
       "  </tbody>\n",
       "</table>\n",
       "</div>"
      ],
      "text/plain": [
       "         subreddit  Mean Entropy  Sum Entropy    users\n",
       "0       3Dprinting      3.214517   221.801685   456770\n",
       "1            4chan      2.598331   179.284818  1145910\n",
       "2             ADHD      3.289610   226.983107   721919\n",
       "3              AMA      3.314779   228.719756   528592\n",
       "4  Anticonsumption      3.117201   215.086842   216158"
      ]
     },
     "execution_count": 30,
     "metadata": {},
     "output_type": "execute_result"
    }
   ],
   "source": [
    "mean_entropies = entropies_df.mean().reset_index()\n",
    "mean_entropies = mean_entropies.rename({\n",
    "    'index': 'subreddit',\n",
    "     0: 'Mean Entropy'\n",
    "}, axis=1)\n",
    "\n",
    "sum_entropies = entropies_df.drop('tag', axis=1).sum().reset_index()\n",
    "sum_entropies = sum_entropies.rename({\n",
    "    'index': 'subreddit',\n",
    "     0: 'Sum Entropy'\n",
    "}, axis=1)\n",
    "\n",
    "entropies = mean_entropies.merge(sum_entropies, on='subreddit')\n",
    "entropies = entropies.merge(sub_users, on='subreddit')\n",
    "entropies.head()"
   ]
  },
  {
   "cell_type": "markdown",
   "id": "694767a8",
   "metadata": {},
   "source": [
    "**Entropy vs Number of Users**"
   ]
  },
  {
   "cell_type": "code",
   "execution_count": 41,
   "id": "a28c224d",
   "metadata": {},
   "outputs": [],
   "source": [
    "entropies = entropies.rename({'users': 'Total Subscribers'}, axis=1)"
   ]
  },
  {
   "cell_type": "code",
   "execution_count": 47,
   "id": "9645a36b",
   "metadata": {},
   "outputs": [
    {
     "data": {
      "image/png": "[encoded data removed]",
      "text/plain": [
       "<Figure size 640x480 with 1 Axes>"
      ]
     },
     "metadata": {},
     "output_type": "display_data"
    }
   ],
   "source": [
    "sns.color_palette(\"colorblind\")\n",
    "plot = sns.scatterplot(data=entropies, x='Mean Entropy', y='Total Subscribers')\n",
    "fig = plot.get_figure()\n",
    "fig.savefig(\"subscribers_vs_entropy.pdf\") "
   ]
  },
  {
   "cell_type": "code",
   "execution_count": 43,
   "id": "cf3236f4",
   "metadata": {},
   "outputs": [
    {
     "name": "stdout",
     "output_type": "stream",
     "text": [
      "Top 10 Subreddits - Linguistic Variation\n"
     ]
    },
    {
     "data": {
      "text/html": [
       "<div>\n",
       "<style scoped>\n",
       "    .dataframe tbody tr th:only-of-type {\n",
       "        vertical-align: middle;\n",
       "    }\n",
       "\n",
       "    .dataframe tbody tr th {\n",
       "        vertical-align: top;\n",
       "    }\n",
       "\n",
       "    .dataframe thead th {\n",
       "        text-align: right;\n",
       "    }\n",
       "</style>\n",
       "<table border=\"1\" class=\"dataframe\">\n",
       "  <thead>\n",
       "    <tr style=\"text-align: right;\">\n",
       "      <th></th>\n",
       "      <th>subreddit</th>\n",
       "      <th>Mean Entropy</th>\n",
       "      <th>Sum Entropy</th>\n",
       "      <th>Total Subscribers</th>\n",
       "    </tr>\n",
       "  </thead>\n",
       "  <tbody>\n",
       "    <tr>\n",
       "      <th>91</th>\n",
       "      <td>changemyview</td>\n",
       "      <td>5.153921</td>\n",
       "      <td>355.620516</td>\n",
       "      <td>1002730</td>\n",
       "    </tr>\n",
       "    <tr>\n",
       "      <th>11</th>\n",
       "      <td>Christianity</td>\n",
       "      <td>4.989837</td>\n",
       "      <td>344.298729</td>\n",
       "      <td>233924</td>\n",
       "    </tr>\n",
       "    <tr>\n",
       "      <th>24</th>\n",
       "      <td>JordanPeterson</td>\n",
       "      <td>4.893304</td>\n",
       "      <td>337.638001</td>\n",
       "      <td>204784</td>\n",
       "    </tr>\n",
       "    <tr>\n",
       "      <th>259</th>\n",
       "      <td>ukpolitics</td>\n",
       "      <td>4.380175</td>\n",
       "      <td>302.232086</td>\n",
       "      <td>250356</td>\n",
       "    </tr>\n",
       "    <tr>\n",
       "      <th>273</th>\n",
       "      <td>whowouldwin</td>\n",
       "      <td>4.379028</td>\n",
       "      <td>302.152955</td>\n",
       "      <td>300058</td>\n",
       "    </tr>\n",
       "    <tr>\n",
       "      <th>10</th>\n",
       "      <td>Catholicism</td>\n",
       "      <td>4.239853</td>\n",
       "      <td>292.549838</td>\n",
       "      <td>91610</td>\n",
       "    </tr>\n",
       "    <tr>\n",
       "      <th>65</th>\n",
       "      <td>atheism</td>\n",
       "      <td>4.178679</td>\n",
       "      <td>288.328854</td>\n",
       "      <td>2569757</td>\n",
       "    </tr>\n",
       "    <tr>\n",
       "      <th>276</th>\n",
       "      <td>worldnews</td>\n",
       "      <td>4.122466</td>\n",
       "      <td>284.450149</td>\n",
       "      <td>23831500</td>\n",
       "    </tr>\n",
       "    <tr>\n",
       "      <th>34</th>\n",
       "      <td>MensRights</td>\n",
       "      <td>4.102351</td>\n",
       "      <td>283.062239</td>\n",
       "      <td>259584</td>\n",
       "    </tr>\n",
       "    <tr>\n",
       "      <th>260</th>\n",
       "      <td>unitedkingdom</td>\n",
       "      <td>4.021856</td>\n",
       "      <td>277.508090</td>\n",
       "      <td>291622</td>\n",
       "    </tr>\n",
       "  </tbody>\n",
       "</table>\n",
       "</div>"
      ],
      "text/plain": [
       "          subreddit  Mean Entropy  Sum Entropy  Total Subscribers\n",
       "91     changemyview      5.153921   355.620516            1002730\n",
       "11     Christianity      4.989837   344.298729             233924\n",
       "24   JordanPeterson      4.893304   337.638001             204784\n",
       "259      ukpolitics      4.380175   302.232086             250356\n",
       "273     whowouldwin      4.379028   302.152955             300058\n",
       "10      Catholicism      4.239853   292.549838              91610\n",
       "65          atheism      4.178679   288.328854            2569757\n",
       "276       worldnews      4.122466   284.450149           23831500\n",
       "34       MensRights      4.102351   283.062239             259584\n",
       "260   unitedkingdom      4.021856   277.508090             291622"
      ]
     },
     "execution_count": 43,
     "metadata": {},
     "output_type": "execute_result"
    }
   ],
   "source": [
    "print(\"Top 10 Subreddits - Linguistic Variation\")\n",
    "entropies.sort_values('Mean Entropy', ascending=False).head(10)"
   ]
  },
  {
   "cell_type": "code",
   "execution_count": 39,
   "id": "60c0fb78",
   "metadata": {},
   "outputs": [
    {
     "name": "stdout",
     "output_type": "stream",
     "text": [
      "Bottom 10 Subreddits - Linguistic Variation\n"
     ]
    },
    {
     "data": {
      "text/html": [
       "<div>\n",
       "<style scoped>\n",
       "    .dataframe tbody tr th:only-of-type {\n",
       "        vertical-align: middle;\n",
       "    }\n",
       "\n",
       "    .dataframe tbody tr th {\n",
       "        vertical-align: top;\n",
       "    }\n",
       "\n",
       "    .dataframe thead th {\n",
       "        text-align: right;\n",
       "    }\n",
       "</style>\n",
       "<table border=\"1\" class=\"dataframe\">\n",
       "  <thead>\n",
       "    <tr style=\"text-align: right;\">\n",
       "      <th></th>\n",
       "      <th>subreddit</th>\n",
       "      <th>Mean Entropy</th>\n",
       "      <th>Sum Entropy</th>\n",
       "      <th>users</th>\n",
       "    </tr>\n",
       "  </thead>\n",
       "  <tbody>\n",
       "    <tr>\n",
       "      <th>216</th>\n",
       "      <td>redditsings</td>\n",
       "      <td>0.710145</td>\n",
       "      <td>49.000000</td>\n",
       "      <td>139600</td>\n",
       "    </tr>\n",
       "    <tr>\n",
       "      <th>109</th>\n",
       "      <td>dontputyourdickinthat</td>\n",
       "      <td>1.703868</td>\n",
       "      <td>117.566894</td>\n",
       "      <td>648116</td>\n",
       "    </tr>\n",
       "    <tr>\n",
       "      <th>226</th>\n",
       "      <td>shittyfoodporn</td>\n",
       "      <td>1.736773</td>\n",
       "      <td>119.837308</td>\n",
       "      <td>1281692</td>\n",
       "    </tr>\n",
       "    <tr>\n",
       "      <th>145</th>\n",
       "      <td>ihadastroke</td>\n",
       "      <td>1.812491</td>\n",
       "      <td>125.061845</td>\n",
       "      <td>622681</td>\n",
       "    </tr>\n",
       "    <tr>\n",
       "      <th>45</th>\n",
       "      <td>Shitty_Car_Mods</td>\n",
       "      <td>1.902236</td>\n",
       "      <td>131.254254</td>\n",
       "      <td>764139</td>\n",
       "    </tr>\n",
       "    <tr>\n",
       "      <th>275</th>\n",
       "      <td>woooosh</td>\n",
       "      <td>1.916624</td>\n",
       "      <td>132.247029</td>\n",
       "      <td>840221</td>\n",
       "    </tr>\n",
       "    <tr>\n",
       "      <th>277</th>\n",
       "      <td>youngpeopleyoutube</td>\n",
       "      <td>1.942859</td>\n",
       "      <td>134.057271</td>\n",
       "      <td>646223</td>\n",
       "    </tr>\n",
       "    <tr>\n",
       "      <th>148</th>\n",
       "      <td>imsorryjon</td>\n",
       "      <td>1.993790</td>\n",
       "      <td>137.571540</td>\n",
       "      <td>791199</td>\n",
       "    </tr>\n",
       "    <tr>\n",
       "      <th>211</th>\n",
       "      <td>pyrocynical</td>\n",
       "      <td>2.016842</td>\n",
       "      <td>139.162071</td>\n",
       "      <td>294717</td>\n",
       "    </tr>\n",
       "    <tr>\n",
       "      <th>235</th>\n",
       "      <td>softwaregore</td>\n",
       "      <td>2.020975</td>\n",
       "      <td>139.447258</td>\n",
       "      <td>930731</td>\n",
       "    </tr>\n",
       "  </tbody>\n",
       "</table>\n",
       "</div>"
      ],
      "text/plain": [
       "                 subreddit  Mean Entropy  Sum Entropy    users\n",
       "216            redditsings      0.710145    49.000000   139600\n",
       "109  dontputyourdickinthat      1.703868   117.566894   648116\n",
       "226         shittyfoodporn      1.736773   119.837308  1281692\n",
       "145            ihadastroke      1.812491   125.061845   622681\n",
       "45         Shitty_Car_Mods      1.902236   131.254254   764139\n",
       "275                woooosh      1.916624   132.247029   840221\n",
       "277     youngpeopleyoutube      1.942859   134.057271   646223\n",
       "148             imsorryjon      1.993790   137.571540   791199\n",
       "211            pyrocynical      2.016842   139.162071   294717\n",
       "235           softwaregore      2.020975   139.447258   930731"
      ]
     },
     "execution_count": 39,
     "metadata": {},
     "output_type": "execute_result"
    }
   ],
   "source": [
    "print(\"Bottom 10 Subreddits - Linguistic Variation\")\n",
    "entropies.sort_values('Mean Entropy', ascending=True).head(10)"
   ]
  },
  {
   "cell_type": "code",
   "execution_count": 44,
   "id": "6945b9c7",
   "metadata": {},
   "outputs": [
    {
     "data": {
      "text/html": [
       "<div>\n",
       "<style scoped>\n",
       "    .dataframe tbody tr th:only-of-type {\n",
       "        vertical-align: middle;\n",
       "    }\n",
       "\n",
       "    .dataframe tbody tr th {\n",
       "        vertical-align: top;\n",
       "    }\n",
       "\n",
       "    .dataframe thead th {\n",
       "        text-align: right;\n",
       "    }\n",
       "</style>\n",
       "<table border=\"1\" class=\"dataframe\">\n",
       "  <thead>\n",
       "    <tr style=\"text-align: right;\">\n",
       "      <th></th>\n",
       "      <th>Mean Entropy</th>\n",
       "      <th>Total Subscribers</th>\n",
       "    </tr>\n",
       "  </thead>\n",
       "  <tbody>\n",
       "    <tr>\n",
       "      <th>Mean Entropy</th>\n",
       "      <td>1.000000</td>\n",
       "      <td>0.049588</td>\n",
       "    </tr>\n",
       "    <tr>\n",
       "      <th>Total Subscribers</th>\n",
       "      <td>0.049588</td>\n",
       "      <td>1.000000</td>\n",
       "    </tr>\n",
       "  </tbody>\n",
       "</table>\n",
       "</div>"
      ],
      "text/plain": [
       "                   Mean Entropy  Total Subscribers\n",
       "Mean Entropy           1.000000           0.049588\n",
       "Total Subscribers      0.049588           1.000000"
      ]
     },
     "execution_count": 44,
     "metadata": {},
     "output_type": "execute_result"
    }
   ],
   "source": [
    "entropies[['Mean Entropy', 'Total Subscribers']].corr()"
   ]
  },
  {
   "cell_type": "code",
   "execution_count": 33,
   "id": "2935598d",
   "metadata": {},
   "outputs": [
    {
     "data": {
      "text/plain": [
       "<Axes: xlabel='users', ylabel='Mean Entropy'>"
      ]
     },
     "execution_count": 33,
     "metadata": {},
     "output_type": "execute_result"
    },
    {
     "data": {
      "image/png": "[encoded data removed]",
      "text/plain": [
       "<Figure size 640x480 with 1 Axes>"
      ]
     },
     "metadata": {},
     "output_type": "display_data"
    }
   ],
   "source": [
    "sns.scatterplot(data=entropies, x='users', y='Mean Entropy')"
   ]
  }
 ],
 "metadata": {
  "kernelspec": {
   "display_name": "cupy",
   "language": "python",
   "name": "cupy"
  },
  "language_info": {
   "codemirror_mode": {
    "name": "ipython",
    "version": 3
   },
   "file_extension": ".py",
   "mimetype": "text/x-python",
   "name": "python",
   "nbconvert_exporter": "python",
   "pygments_lexer": "ipython3",
   "version": "3.9.16"
  }
 },
 "nbformat": 4,
 "nbformat_minor": 5
}
